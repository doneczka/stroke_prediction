{
 "cells": [
  {
   "cell_type": "code",
   "execution_count": 229,
   "metadata": {},
   "outputs": [],
   "source": []
  },
  {
   "cell_type": "markdown",
   "metadata": {},
   "source": [
    "## **INTRODUCTION**\n",
    "\n",
    "This file present Stroke Prediction Project from Sprint 2 Module 3 at Turing College.\n",
    "\n",
    "It includes:\n",
    "\n",
    "- performing EDA of the dataset\n",
    "- conducting data preprocessing\n",
    "- data visualisation\n",
    "- building ML models\n",
    "- model deployment.\n",
    "  \n",
    "All above steps leads to getting knowledge which patients might be at risk of getting the stroke..\n",
    "\n",
    "**Businnes objective of this analysis.**\n",
    "\n",
    "Business goal of this analysis is to:\n",
    "- determine what are the most crucial factors of getting the stroke\n",
    "- prepare informational leaflet with steps they may take to avoid it (and in the same time - not to became a patient)\n",
    "- calculate cost reduction of potential patient treatment and care at the hospital\n",
    "- calculate if it possible to save money on not performing medical test in patients with most of stroke predictions' factors already present.\n",
    "\n",
    "I have no knowledge about current norms of taking medical exams and about the information campaigns for patients prone to getting stroke.\n",
    "\n",
    "**Assumptions of the project.**\n",
    "\n",
    "According to: https://www.frontiersin.org/articles/10.3389/fpubh.2022.860396/full medical computing might help with disease diagnosis, disease stage prediction, designing medical wareable, predicion of hospital stay and eventually death prediction. Article also says that additionaly to laboratory tests and experimental results, other factors having influence on getting chronic disease might be:\n",
    "- age\n",
    "- gender\n",
    "- drug addiction\n",
    "- BMI\n",
    "- blood pressure\n",
    "- hypertension\n",
    "- lifestyle\n",
    "- diet\n",
    "- excercise habits.\n",
    "\n",
    "I will try to determine which of these factors might be used in modeling part (according to which data I have available).\n",
    "\n",
    "For modeling part I am going to use supervised machine learning. It gives me answer what patients's attributes have the biggest impact on getting stroke.\n",
    "\n",
    "I will also check if there is possible to predict hypertension/average glucose level and bmi (solely or together), based on available data.\n",
    "\n",
    "**In 2016 41mln people died from chronic disease (which stands for 71% of all deaths that year). 17,9mln of them died from heart stroke. It has a big socio-economic impact, so I will try to calculate how many of these deaths might be avoided if predicted on time.**\n"
   ]
  },
  {
   "attachments": {},
   "cell_type": "markdown",
   "metadata": {},
   "source": [
    "**IMPORTS.**"
   ]
  },
  {
   "cell_type": "code",
   "execution_count": null,
   "metadata": {},
   "outputs": [],
   "source": [
    "# Basic data manipulation and visualization\n",
    "import numpy as np\n",
    "import pandas as pd\n",
    "from matplotlib import pyplot as plt\n",
    "import seaborn as sns\n",
    "from numpy import float64\n",
    "from sklearn.preprocessing import StandardScaler, OneHotEncoder\n",
    "import shap\n",
    "from sklearn.utils import resample\n",
    "from imblearn.over_sampling import SMOTE, RandomOverSampler\n",
    "from imblearn.under_sampling import RandomUnderSampler\n",
    "from imblearn.ensemble import BalancedRandomForestClassifier\n",
    "from collections import Counter\n",
    "import pickle\n",
    "\n",
    "# Statistical inference\n",
    "import statsmodels.api as sm\n",
    "import statsmodels.stats.weightstats as smweight\n",
    "import statsmodels.stats.proportion as smprop\n",
    "from scipy.stats import chisquare\n",
    "\n",
    "\n",
    "# Models\n",
    "from sklearn.model_selection import (\n",
    "    train_test_split,\n",
    "    cross_validate,\n",
    "    GridSearchCV,\n",
    "    KFold,\n",
    "    StratifiedKFold,\n",
    "    RandomizedSearchCV,\n",
    ")\n",
    "from sklearn.linear_model import LogisticRegression\n",
    "from sklearn.svm import SVC\n",
    "from sklearn.neighbors import KNeighborsClassifier\n",
    "from sklearn.tree import DecisionTreeClassifier\n",
    "from sklearn.ensemble import (\n",
    "    RandomForestClassifier,\n",
    "    VotingClassifier,\n",
    "    BaggingClassifier,\n",
    ")\n",
    "from sklearn import tree\n",
    "import xgboost as xg\n",
    "from sklearn.compose import ColumnTransformer\n",
    "from sklearn.pipeline import Pipeline\n",
    "from imblearn.pipeline import make_pipeline\n",
    "from sklearn.compose import make_column_transformer\n",
    "from imblearn.under_sampling import RandomUnderSampler\n",
    "from catboost import Pool, CatBoostClassifier, cv\n",
    "\n",
    "# Metrics\n",
    "from sklearn.inspection import permutation_importance\n",
    "from sklearn.model_selection import cross_val_predict\n",
    "from sklearn import metrics\n",
    "from sklearn.metrics import (\n",
    "    accuracy_score,\n",
    "    classification_report,\n",
    "    confusion_matrix,\n",
    "    ConfusionMatrixDisplay,\n",
    "    plot_confusion_matrix,\n",
    ")\n",
    "from sklearn.model_selection import cross_val_score\n",
    "\n",
    "# Functions\n",
    "from utils import *\n",
    "\n",
    "import warnings\n",
    "\n",
    "warnings.simplefilter(\"ignore\")"
   ]
  },
  {
   "cell_type": "markdown",
   "metadata": {},
   "source": [
    "### **LOADING DATA**"
   ]
  },
  {
   "cell_type": "code",
   "execution_count": 288,
   "metadata": {},
   "outputs": [
    {
     "data": {
      "text/html": [
       "<div>\n",
       "<style scoped>\n",
       "    .dataframe tbody tr th:only-of-type {\n",
       "        vertical-align: middle;\n",
       "    }\n",
       "\n",
       "    .dataframe tbody tr th {\n",
       "        vertical-align: top;\n",
       "    }\n",
       "\n",
       "    .dataframe thead th {\n",
       "        text-align: right;\n",
       "    }\n",
       "</style>\n",
       "<table border=\"1\" class=\"dataframe\">\n",
       "  <thead>\n",
       "    <tr style=\"text-align: right;\">\n",
       "      <th></th>\n",
       "      <th>gender</th>\n",
       "      <th>age</th>\n",
       "      <th>hypertension</th>\n",
       "      <th>heart_disease</th>\n",
       "      <th>ever_married</th>\n",
       "      <th>work_type</th>\n",
       "      <th>Residence_type</th>\n",
       "      <th>avg_glucose_level</th>\n",
       "      <th>bmi</th>\n",
       "      <th>smoking_status</th>\n",
       "      <th>stroke</th>\n",
       "    </tr>\n",
       "    <tr>\n",
       "      <th>id</th>\n",
       "      <th></th>\n",
       "      <th></th>\n",
       "      <th></th>\n",
       "      <th></th>\n",
       "      <th></th>\n",
       "      <th></th>\n",
       "      <th></th>\n",
       "      <th></th>\n",
       "      <th></th>\n",
       "      <th></th>\n",
       "      <th></th>\n",
       "    </tr>\n",
       "  </thead>\n",
       "  <tbody>\n",
       "    <tr>\n",
       "      <th>9046</th>\n",
       "      <td>Male</td>\n",
       "      <td>67.0</td>\n",
       "      <td>0</td>\n",
       "      <td>1</td>\n",
       "      <td>Yes</td>\n",
       "      <td>Private</td>\n",
       "      <td>Urban</td>\n",
       "      <td>228.69</td>\n",
       "      <td>36.6</td>\n",
       "      <td>formerly smoked</td>\n",
       "      <td>1</td>\n",
       "    </tr>\n",
       "    <tr>\n",
       "      <th>51676</th>\n",
       "      <td>Female</td>\n",
       "      <td>61.0</td>\n",
       "      <td>0</td>\n",
       "      <td>0</td>\n",
       "      <td>Yes</td>\n",
       "      <td>Self-employed</td>\n",
       "      <td>Rural</td>\n",
       "      <td>202.21</td>\n",
       "      <td>NaN</td>\n",
       "      <td>never smoked</td>\n",
       "      <td>1</td>\n",
       "    </tr>\n",
       "    <tr>\n",
       "      <th>31112</th>\n",
       "      <td>Male</td>\n",
       "      <td>80.0</td>\n",
       "      <td>0</td>\n",
       "      <td>1</td>\n",
       "      <td>Yes</td>\n",
       "      <td>Private</td>\n",
       "      <td>Rural</td>\n",
       "      <td>105.92</td>\n",
       "      <td>32.5</td>\n",
       "      <td>never smoked</td>\n",
       "      <td>1</td>\n",
       "    </tr>\n",
       "    <tr>\n",
       "      <th>60182</th>\n",
       "      <td>Female</td>\n",
       "      <td>49.0</td>\n",
       "      <td>0</td>\n",
       "      <td>0</td>\n",
       "      <td>Yes</td>\n",
       "      <td>Private</td>\n",
       "      <td>Urban</td>\n",
       "      <td>171.23</td>\n",
       "      <td>34.4</td>\n",
       "      <td>smokes</td>\n",
       "      <td>1</td>\n",
       "    </tr>\n",
       "    <tr>\n",
       "      <th>1665</th>\n",
       "      <td>Female</td>\n",
       "      <td>79.0</td>\n",
       "      <td>1</td>\n",
       "      <td>0</td>\n",
       "      <td>Yes</td>\n",
       "      <td>Self-employed</td>\n",
       "      <td>Rural</td>\n",
       "      <td>174.12</td>\n",
       "      <td>24.0</td>\n",
       "      <td>never smoked</td>\n",
       "      <td>1</td>\n",
       "    </tr>\n",
       "  </tbody>\n",
       "</table>\n",
       "</div>"
      ],
      "text/plain": [
       "       gender   age  hypertension  heart_disease ever_married      work_type  \\\n",
       "id                                                                             \n",
       "9046     Male  67.0             0              1          Yes        Private   \n",
       "51676  Female  61.0             0              0          Yes  Self-employed   \n",
       "31112    Male  80.0             0              1          Yes        Private   \n",
       "60182  Female  49.0             0              0          Yes        Private   \n",
       "1665   Female  79.0             1              0          Yes  Self-employed   \n",
       "\n",
       "      Residence_type  avg_glucose_level   bmi   smoking_status  stroke  \n",
       "id                                                                      \n",
       "9046           Urban             228.69  36.6  formerly smoked       1  \n",
       "51676          Rural             202.21   NaN     never smoked       1  \n",
       "31112          Rural             105.92  32.5     never smoked       1  \n",
       "60182          Urban             171.23  34.4           smokes       1  \n",
       "1665           Rural             174.12  24.0     never smoked       1  "
      ]
     },
     "execution_count": 288,
     "metadata": {},
     "output_type": "execute_result"
    }
   ],
   "source": [
    "healthcare_dataset = pd.read_csv(\"healthcare-dataset-stroke-data.csv\", index_col=0)\n",
    "data = healthcare_dataset.copy()\n",
    "data.head()"
   ]
  },
  {
   "cell_type": "code",
   "execution_count": 289,
   "metadata": {},
   "outputs": [],
   "source": [
    "data = data.rename(\n",
    "    columns={\n",
    "        \"Residence_type\": \"residence_type\",\n",
    "    }\n",
    ")"
   ]
  },
  {
   "cell_type": "markdown",
   "metadata": {},
   "source": [
    "### **DATA DECRIPTION**"
   ]
  },
  {
   "cell_type": "code",
   "execution_count": 290,
   "metadata": {},
   "outputs": [
    {
     "name": "stdout",
     "output_type": "stream",
     "text": [
      "<class 'pandas.core.frame.DataFrame'>\n",
      "Int64Index: 5110 entries, 9046 to 44679\n",
      "Data columns (total 11 columns):\n",
      " #   Column             Non-Null Count  Dtype  \n",
      "---  ------             --------------  -----  \n",
      " 0   gender             5110 non-null   object \n",
      " 1   age                5110 non-null   float64\n",
      " 2   hypertension       5110 non-null   int64  \n",
      " 3   heart_disease      5110 non-null   int64  \n",
      " 4   ever_married       5110 non-null   object \n",
      " 5   work_type          5110 non-null   object \n",
      " 6   residence_type     5110 non-null   object \n",
      " 7   avg_glucose_level  5110 non-null   float64\n",
      " 8   bmi                4909 non-null   float64\n",
      " 9   smoking_status     5110 non-null   object \n",
      " 10  stroke             5110 non-null   int64  \n",
      "dtypes: float64(3), int64(3), object(5)\n",
      "memory usage: 479.1+ KB\n"
     ]
    }
   ],
   "source": [
    "data.info()"
   ]
  },
  {
   "cell_type": "code",
   "execution_count": 291,
   "metadata": {},
   "outputs": [
    {
     "data": {
      "text/plain": [
       "gender                 0\n",
       "age                    0\n",
       "hypertension           0\n",
       "heart_disease          0\n",
       "ever_married           0\n",
       "work_type              0\n",
       "residence_type         0\n",
       "avg_glucose_level      0\n",
       "bmi                  201\n",
       "smoking_status         0\n",
       "stroke                 0\n",
       "dtype: int64"
      ]
     },
     "execution_count": 291,
     "metadata": {},
     "output_type": "execute_result"
    }
   ],
   "source": [
    "data.isnull().sum()"
   ]
  },
  {
   "cell_type": "code",
   "execution_count": 292,
   "metadata": {},
   "outputs": [
    {
     "data": {
      "text/plain": [
       "0"
      ]
     },
     "execution_count": 292,
     "metadata": {},
     "output_type": "execute_result"
    }
   ],
   "source": [
    "len(data[data.duplicated()])"
   ]
  },
  {
   "cell_type": "code",
   "execution_count": 293,
   "metadata": {},
   "outputs": [
    {
     "data": {
      "text/html": [
       "<div>\n",
       "<style scoped>\n",
       "    .dataframe tbody tr th:only-of-type {\n",
       "        vertical-align: middle;\n",
       "    }\n",
       "\n",
       "    .dataframe tbody tr th {\n",
       "        vertical-align: top;\n",
       "    }\n",
       "\n",
       "    .dataframe thead th {\n",
       "        text-align: right;\n",
       "    }\n",
       "</style>\n",
       "<table border=\"1\" class=\"dataframe\">\n",
       "  <thead>\n",
       "    <tr style=\"text-align: right;\">\n",
       "      <th></th>\n",
       "      <th>age</th>\n",
       "      <th>hypertension</th>\n",
       "      <th>heart_disease</th>\n",
       "      <th>avg_glucose_level</th>\n",
       "      <th>bmi</th>\n",
       "      <th>stroke</th>\n",
       "    </tr>\n",
       "  </thead>\n",
       "  <tbody>\n",
       "    <tr>\n",
       "      <th>count</th>\n",
       "      <td>5110.000000</td>\n",
       "      <td>5110.000000</td>\n",
       "      <td>5110.000000</td>\n",
       "      <td>5110.000000</td>\n",
       "      <td>4909.000000</td>\n",
       "      <td>5110.000000</td>\n",
       "    </tr>\n",
       "    <tr>\n",
       "      <th>mean</th>\n",
       "      <td>43.226614</td>\n",
       "      <td>0.097456</td>\n",
       "      <td>0.054012</td>\n",
       "      <td>106.147677</td>\n",
       "      <td>28.893237</td>\n",
       "      <td>0.048728</td>\n",
       "    </tr>\n",
       "    <tr>\n",
       "      <th>std</th>\n",
       "      <td>22.612647</td>\n",
       "      <td>0.296607</td>\n",
       "      <td>0.226063</td>\n",
       "      <td>45.283560</td>\n",
       "      <td>7.854067</td>\n",
       "      <td>0.215320</td>\n",
       "    </tr>\n",
       "    <tr>\n",
       "      <th>min</th>\n",
       "      <td>0.080000</td>\n",
       "      <td>0.000000</td>\n",
       "      <td>0.000000</td>\n",
       "      <td>55.120000</td>\n",
       "      <td>10.300000</td>\n",
       "      <td>0.000000</td>\n",
       "    </tr>\n",
       "    <tr>\n",
       "      <th>25%</th>\n",
       "      <td>25.000000</td>\n",
       "      <td>0.000000</td>\n",
       "      <td>0.000000</td>\n",
       "      <td>77.245000</td>\n",
       "      <td>23.500000</td>\n",
       "      <td>0.000000</td>\n",
       "    </tr>\n",
       "    <tr>\n",
       "      <th>50%</th>\n",
       "      <td>45.000000</td>\n",
       "      <td>0.000000</td>\n",
       "      <td>0.000000</td>\n",
       "      <td>91.885000</td>\n",
       "      <td>28.100000</td>\n",
       "      <td>0.000000</td>\n",
       "    </tr>\n",
       "    <tr>\n",
       "      <th>75%</th>\n",
       "      <td>61.000000</td>\n",
       "      <td>0.000000</td>\n",
       "      <td>0.000000</td>\n",
       "      <td>114.090000</td>\n",
       "      <td>33.100000</td>\n",
       "      <td>0.000000</td>\n",
       "    </tr>\n",
       "    <tr>\n",
       "      <th>max</th>\n",
       "      <td>82.000000</td>\n",
       "      <td>1.000000</td>\n",
       "      <td>1.000000</td>\n",
       "      <td>271.740000</td>\n",
       "      <td>97.600000</td>\n",
       "      <td>1.000000</td>\n",
       "    </tr>\n",
       "  </tbody>\n",
       "</table>\n",
       "</div>"
      ],
      "text/plain": [
       "               age  hypertension  heart_disease  avg_glucose_level  \\\n",
       "count  5110.000000   5110.000000    5110.000000        5110.000000   \n",
       "mean     43.226614      0.097456       0.054012         106.147677   \n",
       "std      22.612647      0.296607       0.226063          45.283560   \n",
       "min       0.080000      0.000000       0.000000          55.120000   \n",
       "25%      25.000000      0.000000       0.000000          77.245000   \n",
       "50%      45.000000      0.000000       0.000000          91.885000   \n",
       "75%      61.000000      0.000000       0.000000         114.090000   \n",
       "max      82.000000      1.000000       1.000000         271.740000   \n",
       "\n",
       "               bmi       stroke  \n",
       "count  4909.000000  5110.000000  \n",
       "mean     28.893237     0.048728  \n",
       "std       7.854067     0.215320  \n",
       "min      10.300000     0.000000  \n",
       "25%      23.500000     0.000000  \n",
       "50%      28.100000     0.000000  \n",
       "75%      33.100000     0.000000  \n",
       "max      97.600000     1.000000  "
      ]
     },
     "execution_count": 293,
     "metadata": {},
     "output_type": "execute_result"
    }
   ],
   "source": [
    "data.describe()"
   ]
  },
  {
   "cell_type": "markdown",
   "metadata": {},
   "source": [
    "Data consists of 11 columns, with 10 independent features and 1 outcome variable.\n",
    "\n",
    "It has 5110 entries, with 201 missing values in 'BMI' columns. Data has no duplicates.\n",
    "\n",
    "Features: *'gender', 'hypertension', 'heart_disease', 'ever_married','work_type', 'residence_type', 'smoking_status', 'stroke'* are categorical, while *'age', 'avg_glucose_level', 'bmi'* are numerical. 'hypertension', 'heart_disease' looked like there were numeric too, but after closer look I can see that they indicate if the patient suffers from any of these conditions or not, so they are categorical (I could replace this values with True/False).\n",
    "\n",
    "**Attribute Information**\n",
    "1) id: unique identifier\n",
    "2) gender: \"Male\", \"Female\" or \"Other\"\n",
    "3) age: age of the patient\n",
    "4) hypertension: 0 if the patient doesn't have hypertension, 1 if the patient has hypertension\n",
    "5) heart_disease: 0 if the patient doesn't have any heart diseases, 1 if the patient has a heart disease\n",
    "6) ever_married: \"No\" or \"Yes\"\n",
    "7) work_type: \"children\", \"Govt_jov\", \"Never_worked\", \"Private\" or \"Self-employed\"\n",
    "8) residence_type: \"Rural\" or \"Urban\"\n",
    "9) avg_glucose_level: average glucose level in blood\n",
    "10) bmi: body mass index\n",
    "11) smoking_status: \"formerly smoked\", \"never smoked\", \"smokes\" or \"Unknown\"*\n",
    "12) stroke: 1 if the patient had a stroke or 0 if not\n",
    "*Note: \"Unknown\" in smoking_status means that the information is unavailable for this patient\n",
    "\n"
   ]
  },
  {
   "cell_type": "markdown",
   "metadata": {},
   "source": [
    "----"
   ]
  },
  {
   "cell_type": "markdown",
   "metadata": {},
   "source": [
    "## **DATA EXPLORATION.**"
   ]
  },
  {
   "cell_type": "code",
   "execution_count": 294,
   "metadata": {},
   "outputs": [
    {
     "data": {
      "text/plain": [
       "0    4861\n",
       "1     249\n",
       "Name: stroke, dtype: int64"
      ]
     },
     "execution_count": 294,
     "metadata": {},
     "output_type": "execute_result"
    }
   ],
   "source": [
    "data[\"stroke\"].value_counts()\n"
   ]
  },
  {
   "cell_type": "code",
   "execution_count": 295,
   "metadata": {},
   "outputs": [],
   "source": [
    "replace_values = {1: \"Yes\", 0: \"No\"}\n",
    "\n",
    "data = data.replace({\"hypertension\": replace_values, \"heart_disease\": replace_values})"
   ]
  },
  {
   "cell_type": "code",
   "execution_count": 296,
   "metadata": {},
   "outputs": [],
   "source": [
    "data_numerical = data.select_dtypes(include=[\"int64\", \"float64\"])\n",
    "data_categorical = data.select_dtypes(include=\"object\")"
   ]
  },
  {
   "cell_type": "markdown",
   "metadata": {},
   "source": [
    "### **Analysis of numerical features**"
   ]
  },
  {
   "cell_type": "code",
   "execution_count": 297,
   "metadata": {},
   "outputs": [
    {
     "data": {
      "text/html": [
       "<div>\n",
       "<style scoped>\n",
       "    .dataframe tbody tr th:only-of-type {\n",
       "        vertical-align: middle;\n",
       "    }\n",
       "\n",
       "    .dataframe tbody tr th {\n",
       "        vertical-align: top;\n",
       "    }\n",
       "\n",
       "    .dataframe thead th {\n",
       "        text-align: right;\n",
       "    }\n",
       "</style>\n",
       "<table border=\"1\" class=\"dataframe\">\n",
       "  <thead>\n",
       "    <tr style=\"text-align: right;\">\n",
       "      <th></th>\n",
       "      <th>age</th>\n",
       "      <th>avg_glucose_level</th>\n",
       "      <th>bmi</th>\n",
       "      <th>stroke</th>\n",
       "    </tr>\n",
       "    <tr>\n",
       "      <th>id</th>\n",
       "      <th></th>\n",
       "      <th></th>\n",
       "      <th></th>\n",
       "      <th></th>\n",
       "    </tr>\n",
       "  </thead>\n",
       "  <tbody>\n",
       "    <tr>\n",
       "      <th>9046</th>\n",
       "      <td>67.0</td>\n",
       "      <td>228.69</td>\n",
       "      <td>36.6</td>\n",
       "      <td>1</td>\n",
       "    </tr>\n",
       "    <tr>\n",
       "      <th>31112</th>\n",
       "      <td>80.0</td>\n",
       "      <td>105.92</td>\n",
       "      <td>32.5</td>\n",
       "      <td>1</td>\n",
       "    </tr>\n",
       "    <tr>\n",
       "      <th>60182</th>\n",
       "      <td>49.0</td>\n",
       "      <td>171.23</td>\n",
       "      <td>34.4</td>\n",
       "      <td>1</td>\n",
       "    </tr>\n",
       "    <tr>\n",
       "      <th>1665</th>\n",
       "      <td>79.0</td>\n",
       "      <td>174.12</td>\n",
       "      <td>24.0</td>\n",
       "      <td>1</td>\n",
       "    </tr>\n",
       "    <tr>\n",
       "      <th>56669</th>\n",
       "      <td>81.0</td>\n",
       "      <td>186.21</td>\n",
       "      <td>29.0</td>\n",
       "      <td>1</td>\n",
       "    </tr>\n",
       "  </tbody>\n",
       "</table>\n",
       "</div>"
      ],
      "text/plain": [
       "        age  avg_glucose_level   bmi  stroke\n",
       "id                                          \n",
       "9046   67.0             228.69  36.6       1\n",
       "31112  80.0             105.92  32.5       1\n",
       "60182  49.0             171.23  34.4       1\n",
       "1665   79.0             174.12  24.0       1\n",
       "56669  81.0             186.21  29.0       1"
      ]
     },
     "execution_count": 297,
     "metadata": {},
     "output_type": "execute_result"
    }
   ],
   "source": [
    "data_numerical = data_numerical.dropna()\n",
    "data_numerical.head()"
   ]
  },
  {
   "cell_type": "code",
   "execution_count": 298,
   "metadata": {},
   "outputs": [
    {
     "data": {
      "image/png": "[encoded data removed]",
      "text/plain": [
       "<Figure size 1152x432 with 3 Axes>"
      ]
     },
     "metadata": {
      "needs_background": "light"
     },
     "output_type": "display_data"
    }
   ],
   "source": [
    "col_lst = data_numerical.columns.to_list()\n",
    "create_histplot(data_numerical, col_lst[0:-1])"
   ]
  },
  {
   "cell_type": "code",
   "execution_count": 299,
   "metadata": {},
   "outputs": [
    {
     "data": {
      "image/png": "[encoded data removed]",
      "text/plain": [
       "<Figure size 1152x432 with 3 Axes>"
      ]
     },
     "metadata": {
      "needs_background": "light"
     },
     "output_type": "display_data"
    }
   ],
   "source": [
    "create_boxplot(data, col_lst)\n"
   ]
  },
  {
   "cell_type": "markdown",
   "metadata": {},
   "source": [
    "**AGE**"
   ]
  },
  {
   "cell_type": "code",
   "execution_count": 305,
   "metadata": {},
   "outputs": [
    {
     "data": {
      "image/png": "[encoded data removed]",
      "text/plain": [
       "<Figure size 864x432 with 2 Axes>"
      ]
     },
     "metadata": {
      "needs_background": "light"
     },
     "output_type": "display_data"
    }
   ],
   "source": [
    "show_distribution(data, \"stroke\", \"age\")"
   ]
  },
  {
   "cell_type": "markdown",
   "metadata": {},
   "source": [
    "Age looks like a big factor on getting a stroke. Chances for suffering from that condition rises with age."
   ]
  },
  {
   "cell_type": "markdown",
   "metadata": {},
   "source": [
    "**AVG_GLUCOSE_LEVEL**\n",
    "\n",
    "To understand better what might indicates number in column 'avg_glucose_level' I have checked what are the norms of glucose level for healthy and diabetic patients. The graph below (source: https://www.cdc.gov/diabetes/basics/getting-tested.html) shows that healthy patients have glucose level below value of 100 [mg/dL]. Patients at risk have glucose level at the range of 100-125 [mg/dL]. Diabetic patients have glucose level equal to 126 or more. Tested with glucose tolerance test, levels of glucose indicating if patient is sick differs. Unfortunately I have no information which test were taken by patients included in a dataset. As glucose tolerance test is more specialized, and fasting blood sugar test serves more as screening, I assume that in a dataset I have information about fasting blood sugar test.\n",
    "\n",
    "Boxplot shows a lot of outliers with the highest value of 271.74 [mg/dL]. It is possible to have this amount of glucose in a blood, so I do not take it into account as actual outliers, but as a possible case for test result."
   ]
  },
  {
   "cell_type": "markdown",
   "metadata": {},
   "source": [
    "![](CDC_Diabetes_Social_Ad_Concept_A2_Facebook.png)"
   ]
  },
  {
   "cell_type": "markdown",
   "metadata": {},
   "source": [
    "I am taking a look if data distribution of avg_glucose_level and bmi differs while taking into account if the patient had a stroke or not."
   ]
  },
  {
   "cell_type": "code",
   "execution_count": 303,
   "metadata": {},
   "outputs": [],
   "source": [
    "replace_values = {1: \"Yes\", 0: \"No\"}\n",
    "\n",
    "data = data.replace({\"stroke\": replace_values})\n"
   ]
  },
  {
   "cell_type": "code",
   "execution_count": 304,
   "metadata": {},
   "outputs": [
    {
     "data": {
      "image/png": "[encoded data removed]",
      "text/plain": [
       "<Figure size 864x432 with 2 Axes>"
      ]
     },
     "metadata": {
      "needs_background": "light"
     },
     "output_type": "display_data"
    }
   ],
   "source": [
    "show_distribution(data, \"stroke\", \"avg_glucose_level\")"
   ]
  },
  {
   "cell_type": "code",
   "execution_count": 169,
   "metadata": {},
   "outputs": [
    {
     "data": {
      "text/plain": [
       "Text(0.5, 1.0, 'Density distribution of avg glucose level\\n within groups of people who suffered from stroke or not ')"
      ]
     },
     "execution_count": 169,
     "metadata": {},
     "output_type": "execute_result"
    },
    {
     "data": {
      "image/png": "[encoded data removed]",
      "text/plain": [
       "<Figure size 432x288 with 1 Axes>"
      ]
     },
     "metadata": {
      "needs_background": "light"
     },
     "output_type": "display_data"
    }
   ],
   "source": [
    "sns.histplot(\n",
    "    data=data,\n",
    "    x=\"avg_glucose_level\",\n",
    "    hue=\"stroke\",\n",
    "    bins=50,\n",
    "    stat=\"density\",\n",
    "    common_norm=False,\n",
    ")\n",
    "plt.title(\n",
    "    \"Density distribution of avg glucose level\\n within groups of people who suffered from stroke or not \"\n",
    ")"
   ]
  },
  {
   "cell_type": "markdown",
   "metadata": {},
   "source": [
    "Partial Conclusion: At first sight, distribution of average glucose level in patients who did not have stroke looks similiar to patient who did. However, when we take into account density distribution of patients, histograms looks slightly different. There is higher density afroung values of avg_glucose_level ranging from 180-230 for people who had stroke and higher density of people with avg_glucose_level ranging from 70-100 who did not have a stroke. I assume that this might be important feature for predicting if patient suffer from stroke or not.\n"
   ]
  },
  {
   "cell_type": "markdown",
   "metadata": {},
   "source": [
    "**BMI**\n",
    "\n",
    "I also checked what values from BMI columns means. Graph (source: https://www.medicoverhospitals.in/bmi-calculator/) below shows ranges for people whose weight is normal, too low or too high.\n"
   ]
  },
  {
   "cell_type": "markdown",
   "metadata": {},
   "source": [
    "![](bmi-calculator.jpg)"
   ]
  },
  {
   "cell_type": "code",
   "execution_count": 170,
   "metadata": {},
   "outputs": [
    {
     "data": {
      "image/png": "[encoded data removed]",
      "text/plain": [
       "<Figure size 864x432 with 2 Axes>"
      ]
     },
     "metadata": {
      "needs_background": "light"
     },
     "output_type": "display_data"
    }
   ],
   "source": [
    "show_distribution(data, \"stroke\", \"bmi\")"
   ]
  },
  {
   "cell_type": "code",
   "execution_count": 171,
   "metadata": {},
   "outputs": [
    {
     "data": {
      "text/plain": [
       "33"
      ]
     },
     "execution_count": 171,
     "metadata": {},
     "output_type": "execute_result"
    }
   ],
   "source": [
    "len(data[data[\"bmi\"] > 55])"
   ]
  },
  {
   "cell_type": "code",
   "execution_count": 172,
   "metadata": {},
   "outputs": [],
   "source": [
    "data = data[data[\"bmi\"] <= 55]"
   ]
  },
  {
   "cell_type": "code",
   "execution_count": 173,
   "metadata": {},
   "outputs": [
    {
     "data": {
      "text/plain": [
       "Text(0.5, 1.0, 'Density distribution of BMI values \\n for people who suffered from stroke or not')"
      ]
     },
     "execution_count": 173,
     "metadata": {},
     "output_type": "execute_result"
    },
    {
     "data": {
      "image/png": "[encoded data removed]",
      "text/plain": [
       "<Figure size 432x288 with 1 Axes>"
      ]
     },
     "metadata": {
      "needs_background": "light"
     },
     "output_type": "display_data"
    }
   ],
   "source": [
    "sns.histplot(\n",
    "    data=data, x=\"bmi\", hue=\"stroke\", bins=50, stat=\"density\", common_norm=False\n",
    ")\n",
    "plt.title(\n",
    "    \"Density distribution of BMI values \\n for people who suffered from stroke or not\"\n",
    ")"
   ]
  },
  {
   "cell_type": "markdown",
   "metadata": {},
   "source": [
    "Looking solely on the histragrams did not give me the answer if the distribution differs significantly or not. This is why I decided to perform Chi-squared test. Usually this test is used to check differences in frequencies, but I changed it slightly and tested similarity between two distributions. If the two distribution were the same, I would expect the same frequency of observations in each bin."
   ]
  },
  {
   "cell_type": "code",
   "execution_count": 174,
   "metadata": {},
   "outputs": [],
   "source": [
    "bmi = data[\"bmi\"].values\n",
    "bmi_y = data.loc[data.stroke == \"Yes\", \"bmi\"].values\n",
    "bmi_n = data.loc[data.stroke == \"No\", \"bmi\"].values"
   ]
  },
  {
   "cell_type": "code",
   "execution_count": 175,
   "metadata": {},
   "outputs": [
    {
     "data": {
      "text/html": [
       "<div>\n",
       "<style scoped>\n",
       "    .dataframe tbody tr th:only-of-type {\n",
       "        vertical-align: middle;\n",
       "    }\n",
       "\n",
       "    .dataframe tbody tr th {\n",
       "        vertical-align: top;\n",
       "    }\n",
       "\n",
       "    .dataframe thead th {\n",
       "        text-align: right;\n",
       "    }\n",
       "</style>\n",
       "<table border=\"1\" class=\"dataframe\">\n",
       "  <thead>\n",
       "    <tr style=\"text-align: right;\">\n",
       "      <th></th>\n",
       "      <th>BMI_values</th>\n",
       "      <th>NR_of_patiens_without_stroke</th>\n",
       "      <th>NR_of_patiens_with_stroke_actual</th>\n",
       "      <th>NR_of_patiens_with_stroke_expected</th>\n",
       "    </tr>\n",
       "  </thead>\n",
       "  <tbody>\n",
       "    <tr>\n",
       "      <th>0</th>\n",
       "      <td>(10.3, 19.5]</td>\n",
       "      <td>476</td>\n",
       "      <td>2</td>\n",
       "      <td>21.214485</td>\n",
       "    </tr>\n",
       "    <tr>\n",
       "      <th>1</th>\n",
       "      <td>(19.5, 22.3]</td>\n",
       "      <td>467</td>\n",
       "      <td>13</td>\n",
       "      <td>20.813370</td>\n",
       "    </tr>\n",
       "    <tr>\n",
       "      <th>2</th>\n",
       "      <td>(22.3, 24.4]</td>\n",
       "      <td>473</td>\n",
       "      <td>20</td>\n",
       "      <td>21.080780</td>\n",
       "    </tr>\n",
       "    <tr>\n",
       "      <th>3</th>\n",
       "      <td>(24.4, 26.2]</td>\n",
       "      <td>454</td>\n",
       "      <td>13</td>\n",
       "      <td>20.233983</td>\n",
       "    </tr>\n",
       "    <tr>\n",
       "      <th>4</th>\n",
       "      <td>(26.2, 27.9]</td>\n",
       "      <td>475</td>\n",
       "      <td>32</td>\n",
       "      <td>21.169916</td>\n",
       "    </tr>\n",
       "    <tr>\n",
       "      <th>5</th>\n",
       "      <td>(27.9, 29.6]</td>\n",
       "      <td>463</td>\n",
       "      <td>24</td>\n",
       "      <td>20.635097</td>\n",
       "    </tr>\n",
       "    <tr>\n",
       "      <th>6</th>\n",
       "      <td>(29.6, 31.8]</td>\n",
       "      <td>478</td>\n",
       "      <td>35</td>\n",
       "      <td>21.303621</td>\n",
       "    </tr>\n",
       "    <tr>\n",
       "      <th>7</th>\n",
       "      <td>(31.8, 34.4]</td>\n",
       "      <td>461</td>\n",
       "      <td>24</td>\n",
       "      <td>20.545961</td>\n",
       "    </tr>\n",
       "    <tr>\n",
       "      <th>8</th>\n",
       "      <td>(34.4, 38.6]</td>\n",
       "      <td>455</td>\n",
       "      <td>24</td>\n",
       "      <td>20.278552</td>\n",
       "    </tr>\n",
       "    <tr>\n",
       "      <th>9</th>\n",
       "      <td>(38.6, 55.0]</td>\n",
       "      <td>465</td>\n",
       "      <td>21</td>\n",
       "      <td>20.724234</td>\n",
       "    </tr>\n",
       "  </tbody>\n",
       "</table>\n",
       "</div>"
      ],
      "text/plain": [
       "     BMI_values  NR_of_patiens_without_stroke  \\\n",
       "0  (10.3, 19.5]                           476   \n",
       "1  (19.5, 22.3]                           467   \n",
       "2  (22.3, 24.4]                           473   \n",
       "3  (24.4, 26.2]                           454   \n",
       "4  (26.2, 27.9]                           475   \n",
       "5  (27.9, 29.6]                           463   \n",
       "6  (29.6, 31.8]                           478   \n",
       "7  (31.8, 34.4]                           461   \n",
       "8  (34.4, 38.6]                           455   \n",
       "9  (38.6, 55.0]                           465   \n",
       "\n",
       "   NR_of_patiens_with_stroke_actual  NR_of_patiens_with_stroke_expected  \n",
       "0                                 2                           21.214485  \n",
       "1                                13                           20.813370  \n",
       "2                                20                           21.080780  \n",
       "3                                13                           20.233983  \n",
       "4                                32                           21.169916  \n",
       "5                                24                           20.635097  \n",
       "6                                35                           21.303621  \n",
       "7                                24                           20.545961  \n",
       "8                                24                           20.278552  \n",
       "9                                21                           20.724234  "
      ]
     },
     "execution_count": 175,
     "metadata": {},
     "output_type": "execute_result"
    }
   ],
   "source": [
    "# Init dataframe\n",
    "data_bins = pd.DataFrame()\n",
    "\n",
    "# Generate bins from group of patients without stroke\n",
    "_, bins = pd.qcut(bmi_n, q=10, retbins=True)\n",
    "data_bins[\"BMI_values\"] = pd.cut(bmi_n, bins=bins).value_counts().index\n",
    "\n",
    "# Apply bins to both groups\n",
    "data_bins[\"NR_of_patiens_without_stroke\"] = (\n",
    "    pd.cut(bmi_n, bins=bins).value_counts().values\n",
    ")\n",
    "data_bins[\"NR_of_patiens_with_stroke_actual\"] = (\n",
    "    pd.cut(bmi_y, bins=bins).value_counts().values\n",
    ")\n",
    "\n",
    "# Compute expected frequency in group of patients who had stroke\n",
    "data_bins[\"NR_of_patiens_with_stroke_expected\"] = (\n",
    "    data_bins[\"NR_of_patiens_without_stroke\"]\n",
    "    / np.sum(data_bins[\"NR_of_patiens_without_stroke\"])\n",
    "    * np.sum(data_bins[\"NR_of_patiens_with_stroke_actual\"])\n",
    ")\n",
    "\n",
    "data_bins\n"
   ]
  },
  {
   "cell_type": "markdown",
   "metadata": {},
   "source": [
    "**TESTING HYPOTHESIS.**\n",
    "\n",
    "H_0 = Two distribution are the same\n",
    "\n",
    "H_1 = Two distributuin are not the same."
   ]
  },
  {
   "cell_type": "code",
   "execution_count": 176,
   "metadata": {},
   "outputs": [
    {
     "name": "stdout",
     "output_type": "stream",
     "text": [
      "Chi-squared Test: statistic=39.1399, p-value=0.0000\n"
     ]
    }
   ],
   "source": [
    "stat, p_value = chisquare(\n",
    "    data_bins[\"NR_of_patiens_with_stroke_actual\"],\n",
    "    data_bins[\"NR_of_patiens_with_stroke_expected\"],\n",
    ")\n",
    "print(f\"Chi-squared Test: statistic={stat:.4f}, p-value={p_value:.4f}\")\n"
   ]
  },
  {
   "cell_type": "markdown",
   "metadata": {},
   "source": [
    "Partial conclusions: The chi-squared test strongly rejects the null hypothesis that the two distributions are the same. The reason lies in the fact that the two distributions have a similar center but different tails and the chi-squared test checks the similarity along the whole distribution and not only in the center.\n",
    "\n",
    "That might be another indicator that BMI is a factor for stroke prediction."
   ]
  },
  {
   "cell_type": "markdown",
   "metadata": {},
   "source": [
    "### **Analysis of categorical features**"
   ]
  },
  {
   "cell_type": "code",
   "execution_count": 177,
   "metadata": {},
   "outputs": [
    {
     "data": {
      "text/html": [
       "<div>\n",
       "<style scoped>\n",
       "    .dataframe tbody tr th:only-of-type {\n",
       "        vertical-align: middle;\n",
       "    }\n",
       "\n",
       "    .dataframe tbody tr th {\n",
       "        vertical-align: top;\n",
       "    }\n",
       "\n",
       "    .dataframe thead th {\n",
       "        text-align: right;\n",
       "    }\n",
       "</style>\n",
       "<table border=\"1\" class=\"dataframe\">\n",
       "  <thead>\n",
       "    <tr style=\"text-align: right;\">\n",
       "      <th></th>\n",
       "      <th>gender</th>\n",
       "      <th>hypertension</th>\n",
       "      <th>heart_disease</th>\n",
       "      <th>ever_married</th>\n",
       "      <th>work_type</th>\n",
       "      <th>residence_type</th>\n",
       "      <th>smoking_status</th>\n",
       "    </tr>\n",
       "    <tr>\n",
       "      <th>id</th>\n",
       "      <th></th>\n",
       "      <th></th>\n",
       "      <th></th>\n",
       "      <th></th>\n",
       "      <th></th>\n",
       "      <th></th>\n",
       "      <th></th>\n",
       "    </tr>\n",
       "  </thead>\n",
       "  <tbody>\n",
       "    <tr>\n",
       "      <th>9046</th>\n",
       "      <td>Male</td>\n",
       "      <td>No</td>\n",
       "      <td>Yes</td>\n",
       "      <td>Yes</td>\n",
       "      <td>Private</td>\n",
       "      <td>Urban</td>\n",
       "      <td>formerly smoked</td>\n",
       "    </tr>\n",
       "    <tr>\n",
       "      <th>51676</th>\n",
       "      <td>Female</td>\n",
       "      <td>No</td>\n",
       "      <td>No</td>\n",
       "      <td>Yes</td>\n",
       "      <td>Self-employed</td>\n",
       "      <td>Rural</td>\n",
       "      <td>never smoked</td>\n",
       "    </tr>\n",
       "    <tr>\n",
       "      <th>31112</th>\n",
       "      <td>Male</td>\n",
       "      <td>No</td>\n",
       "      <td>Yes</td>\n",
       "      <td>Yes</td>\n",
       "      <td>Private</td>\n",
       "      <td>Rural</td>\n",
       "      <td>never smoked</td>\n",
       "    </tr>\n",
       "    <tr>\n",
       "      <th>60182</th>\n",
       "      <td>Female</td>\n",
       "      <td>No</td>\n",
       "      <td>No</td>\n",
       "      <td>Yes</td>\n",
       "      <td>Private</td>\n",
       "      <td>Urban</td>\n",
       "      <td>smokes</td>\n",
       "    </tr>\n",
       "    <tr>\n",
       "      <th>1665</th>\n",
       "      <td>Female</td>\n",
       "      <td>Yes</td>\n",
       "      <td>No</td>\n",
       "      <td>Yes</td>\n",
       "      <td>Self-employed</td>\n",
       "      <td>Rural</td>\n",
       "      <td>never smoked</td>\n",
       "    </tr>\n",
       "  </tbody>\n",
       "</table>\n",
       "</div>"
      ],
      "text/plain": [
       "       gender hypertension heart_disease ever_married      work_type  \\\n",
       "id                                                                     \n",
       "9046     Male           No           Yes          Yes        Private   \n",
       "51676  Female           No            No          Yes  Self-employed   \n",
       "31112    Male           No           Yes          Yes        Private   \n",
       "60182  Female           No            No          Yes        Private   \n",
       "1665   Female          Yes            No          Yes  Self-employed   \n",
       "\n",
       "      residence_type   smoking_status  \n",
       "id                                     \n",
       "9046           Urban  formerly smoked  \n",
       "51676          Rural     never smoked  \n",
       "31112          Rural     never smoked  \n",
       "60182          Urban           smokes  \n",
       "1665           Rural     never smoked  "
      ]
     },
     "execution_count": 177,
     "metadata": {},
     "output_type": "execute_result"
    }
   ],
   "source": [
    "data_categorical.head()"
   ]
  },
  {
   "cell_type": "code",
   "execution_count": 179,
   "metadata": {},
   "outputs": [
    {
     "data": {
      "image/png": "[encoded data removed]",
      "text/plain": [
       "<Figure size 1584x432 with 5 Axes>"
      ]
     },
     "metadata": {
      "needs_background": "light"
     },
     "output_type": "display_data"
    }
   ],
   "source": [
    "list_of_columns = [\n",
    "    \"gender\",\n",
    "    \"hypertension\",\n",
    "    \"heart_disease\",\n",
    "    \"ever_married\",\n",
    "    \"residence_type\",\n",
    "]\n",
    "create_countplot(data_categorical, list_of_columns)\n"
   ]
  },
  {
   "cell_type": "code",
   "execution_count": 180,
   "metadata": {},
   "outputs": [
    {
     "data": {
      "image/png": "[encoded data removed]",
      "text/plain": [
       "<Figure size 1584x432 with 2 Axes>"
      ]
     },
     "metadata": {
      "needs_background": "light"
     },
     "output_type": "display_data"
    }
   ],
   "source": [
    "list_of_columns = [\"work_type\", \"smoking_status\"]\n",
    "create_countplot(data_categorical, list_of_columns)"
   ]
  },
  {
   "cell_type": "markdown",
   "metadata": {},
   "source": [
    "**Observations from that part:**\n",
    "\n",
    "- Categorical features includes information about gender: male, female and other. Majoristy of patients were female.\n",
    "- Majority of patients did not suffer from hypertension nor heart disease\n",
    "- About 2/3 of patients were married.\n",
    "- Residence type of patients is urban or rural with no advantage of any of this.\n",
    "- Majority of patients work in a private sector.\n",
    "- Most patients never smoked or we do not have infromation about it.\n",
    "\n",
    "Also important information from that part would what percentage of people from every group suffered from stroke or not."
   ]
  },
  {
   "cell_type": "code",
   "execution_count": 181,
   "metadata": {},
   "outputs": [
    {
     "data": {
      "text/html": [
       "<style type=\"text/css\">\n",
       "#T_75079_row0_col0, #T_75079_row3_col0 {\n",
       "  background-color: #fff400;\n",
       "  color: #000000;\n",
       "}\n",
       "#T_75079_row1_col0, #T_75079_row4_col0 {\n",
       "  background-color: #ff0b00;\n",
       "  color: #f1f1f1;\n",
       "}\n",
       "#T_75079_row2_col0, #T_75079_row7_col0 {\n",
       "  background-color: #ffff00;\n",
       "  color: #000000;\n",
       "}\n",
       "#T_75079_row5_col0 {\n",
       "  background-color: #ffee00;\n",
       "  color: #000000;\n",
       "}\n",
       "#T_75079_row6_col0 {\n",
       "  background-color: #ff1100;\n",
       "  color: #f1f1f1;\n",
       "}\n",
       "#T_75079_row8_col0 {\n",
       "  background-color: #ff0000;\n",
       "  color: #f1f1f1;\n",
       "}\n",
       "</style>\n",
       "<table id=\"T_75079\">\n",
       "  <thead>\n",
       "    <tr>\n",
       "      <th class=\"blank\" >&nbsp;</th>\n",
       "      <th class=\"blank level0\" >&nbsp;</th>\n",
       "      <th id=\"T_75079_level0_col0\" class=\"col_heading level0 col0\" >nr_of_patients</th>\n",
       "    </tr>\n",
       "    <tr>\n",
       "      <th class=\"index_name level0\" >work_type</th>\n",
       "      <th class=\"index_name level1\" >stroke</th>\n",
       "      <th class=\"blank col0\" >&nbsp;</th>\n",
       "    </tr>\n",
       "  </thead>\n",
       "  <tbody>\n",
       "    <tr>\n",
       "      <th id=\"T_75079_level0_row0\" class=\"row_heading level0 row0\" rowspan=\"2\">Govt_job</th>\n",
       "      <th id=\"T_75079_level1_row0\" class=\"row_heading level1 row0\" >No</th>\n",
       "      <td id=\"T_75079_row0_col0\" class=\"data row0 col0\" >95.527157</td>\n",
       "    </tr>\n",
       "    <tr>\n",
       "      <th id=\"T_75079_level1_row1\" class=\"row_heading level1 row1\" >Yes</th>\n",
       "      <td id=\"T_75079_row1_col0\" class=\"data row1 col0\" >4.472843</td>\n",
       "    </tr>\n",
       "    <tr>\n",
       "      <th id=\"T_75079_level0_row2\" class=\"row_heading level0 row2\" >Never_worked</th>\n",
       "      <th id=\"T_75079_level1_row2\" class=\"row_heading level1 row2\" >No</th>\n",
       "      <td id=\"T_75079_row2_col0\" class=\"data row2 col0\" >100.000000</td>\n",
       "    </tr>\n",
       "    <tr>\n",
       "      <th id=\"T_75079_level0_row3\" class=\"row_heading level0 row3\" rowspan=\"2\">Private</th>\n",
       "      <th id=\"T_75079_level1_row3\" class=\"row_heading level1 row3\" >No</th>\n",
       "      <td id=\"T_75079_row3_col0\" class=\"data row3 col0\" >95.477387</td>\n",
       "    </tr>\n",
       "    <tr>\n",
       "      <th id=\"T_75079_level1_row4\" class=\"row_heading level1 row4\" >Yes</th>\n",
       "      <td id=\"T_75079_row4_col0\" class=\"data row4 col0\" >4.522613</td>\n",
       "    </tr>\n",
       "    <tr>\n",
       "      <th id=\"T_75079_level0_row5\" class=\"row_heading level0 row5\" rowspan=\"2\">Self-employed</th>\n",
       "      <th id=\"T_75079_level1_row5\" class=\"row_heading level1 row5\" >No</th>\n",
       "      <td id=\"T_75079_row5_col0\" class=\"data row5 col0\" >93.125811</td>\n",
       "    </tr>\n",
       "    <tr>\n",
       "      <th id=\"T_75079_level1_row6\" class=\"row_heading level1 row6\" >Yes</th>\n",
       "      <td id=\"T_75079_row6_col0\" class=\"data row6 col0\" >6.874189</td>\n",
       "    </tr>\n",
       "    <tr>\n",
       "      <th id=\"T_75079_level0_row7\" class=\"row_heading level0 row7\" rowspan=\"2\">children</th>\n",
       "      <th id=\"T_75079_level1_row7\" class=\"row_heading level1 row7\" >No</th>\n",
       "      <td id=\"T_75079_row7_col0\" class=\"data row7 col0\" >99.850969</td>\n",
       "    </tr>\n",
       "    <tr>\n",
       "      <th id=\"T_75079_level1_row8\" class=\"row_heading level1 row8\" >Yes</th>\n",
       "      <td id=\"T_75079_row8_col0\" class=\"data row8 col0\" >0.149031</td>\n",
       "    </tr>\n",
       "  </tbody>\n",
       "</table>\n"
      ],
      "text/plain": [
       "<pandas.io.formats.style.Styler at 0x254d734ac20>"
      ]
     },
     "execution_count": 181,
     "metadata": {},
     "output_type": "execute_result"
    }
   ],
   "source": [
    "calculate_percentage(data, \"work_type\")\n"
   ]
  },
  {
   "cell_type": "markdown",
   "metadata": {},
   "source": [
    "Partial conclusion: Being self-emloyed employed might have an impact of getting stroke. However, self-employed group was 3 times smaller than people working in private sector so that might be misleading."
   ]
  },
  {
   "cell_type": "code",
   "execution_count": 182,
   "metadata": {},
   "outputs": [
    {
     "data": {
      "text/html": [
       "<style type=\"text/css\">\n",
       "#T_2d3fa_row0_col0 {\n",
       "  background-color: #ffff00;\n",
       "  color: #000000;\n",
       "}\n",
       "#T_2d3fa_row1_col0 {\n",
       "  background-color: #ff0000;\n",
       "  color: #f1f1f1;\n",
       "}\n",
       "#T_2d3fa_row2_col0 {\n",
       "  background-color: #fff300;\n",
       "  color: #000000;\n",
       "}\n",
       "#T_2d3fa_row3_col0 {\n",
       "  background-color: #ff0c00;\n",
       "  color: #f1f1f1;\n",
       "}\n",
       "#T_2d3fa_row4_col0 {\n",
       "  background-color: #fff900;\n",
       "  color: #000000;\n",
       "}\n",
       "#T_2d3fa_row5_col0 {\n",
       "  background-color: #ff0600;\n",
       "  color: #f1f1f1;\n",
       "}\n",
       "#T_2d3fa_row6_col0 {\n",
       "  background-color: #fff700;\n",
       "  color: #000000;\n",
       "}\n",
       "#T_2d3fa_row7_col0 {\n",
       "  background-color: #ff0800;\n",
       "  color: #f1f1f1;\n",
       "}\n",
       "</style>\n",
       "<table id=\"T_2d3fa\">\n",
       "  <thead>\n",
       "    <tr>\n",
       "      <th class=\"blank\" >&nbsp;</th>\n",
       "      <th class=\"blank level0\" >&nbsp;</th>\n",
       "      <th id=\"T_2d3fa_level0_col0\" class=\"col_heading level0 col0\" >nr_of_patients</th>\n",
       "    </tr>\n",
       "    <tr>\n",
       "      <th class=\"index_name level0\" >smoking_status</th>\n",
       "      <th class=\"index_name level1\" >stroke</th>\n",
       "      <th class=\"blank col0\" >&nbsp;</th>\n",
       "    </tr>\n",
       "  </thead>\n",
       "  <tbody>\n",
       "    <tr>\n",
       "      <th id=\"T_2d3fa_level0_row0\" class=\"row_heading level0 row0\" rowspan=\"2\">Unknown</th>\n",
       "      <th id=\"T_2d3fa_level1_row0\" class=\"row_heading level1 row0\" >No</th>\n",
       "      <td id=\"T_2d3fa_row0_col0\" class=\"data row0 col0\" >98.033898</td>\n",
       "    </tr>\n",
       "    <tr>\n",
       "      <th id=\"T_2d3fa_level1_row1\" class=\"row_heading level1 row1\" >Yes</th>\n",
       "      <td id=\"T_2d3fa_row1_col0\" class=\"data row1 col0\" >1.966102</td>\n",
       "    </tr>\n",
       "    <tr>\n",
       "      <th id=\"T_2d3fa_level0_row2\" class=\"row_heading level0 row2\" rowspan=\"2\">formerly smoked</th>\n",
       "      <th id=\"T_2d3fa_level1_row2\" class=\"row_heading level1 row2\" >No</th>\n",
       "      <td id=\"T_2d3fa_row2_col0\" class=\"data row2 col0\" >93.157263</td>\n",
       "    </tr>\n",
       "    <tr>\n",
       "      <th id=\"T_2d3fa_level1_row3\" class=\"row_heading level1 row3\" >Yes</th>\n",
       "      <td id=\"T_2d3fa_row3_col0\" class=\"data row3 col0\" >6.842737</td>\n",
       "    </tr>\n",
       "    <tr>\n",
       "      <th id=\"T_2d3fa_level0_row4\" class=\"row_heading level0 row4\" rowspan=\"2\">never smoked</th>\n",
       "      <th id=\"T_2d3fa_level1_row4\" class=\"row_heading level1 row4\" >No</th>\n",
       "      <td id=\"T_2d3fa_row4_col0\" class=\"data row4 col0\" >95.479303</td>\n",
       "    </tr>\n",
       "    <tr>\n",
       "      <th id=\"T_2d3fa_level1_row5\" class=\"row_heading level1 row5\" >Yes</th>\n",
       "      <td id=\"T_2d3fa_row5_col0\" class=\"data row5 col0\" >4.520697</td>\n",
       "    </tr>\n",
       "    <tr>\n",
       "      <th id=\"T_2d3fa_level0_row6\" class=\"row_heading level0 row6\" rowspan=\"2\">smokes</th>\n",
       "      <th id=\"T_2d3fa_level1_row6\" class=\"row_heading level1 row6\" >No</th>\n",
       "      <td id=\"T_2d3fa_row6_col0\" class=\"data row6 col0\" >94.672131</td>\n",
       "    </tr>\n",
       "    <tr>\n",
       "      <th id=\"T_2d3fa_level1_row7\" class=\"row_heading level1 row7\" >Yes</th>\n",
       "      <td id=\"T_2d3fa_row7_col0\" class=\"data row7 col0\" >5.327869</td>\n",
       "    </tr>\n",
       "  </tbody>\n",
       "</table>\n"
      ],
      "text/plain": [
       "<pandas.io.formats.style.Styler at 0x254b613b0d0>"
      ]
     },
     "execution_count": 182,
     "metadata": {},
     "output_type": "execute_result"
    }
   ],
   "source": [
    "calculate_percentage(data, \"smoking_status\")\n"
   ]
  },
  {
   "cell_type": "markdown",
   "metadata": {},
   "source": [
    "Partial conclusion:  Having some history with smoking doesn't look like having any impact on getting stroke or not."
   ]
  },
  {
   "cell_type": "code",
   "execution_count": 183,
   "metadata": {},
   "outputs": [
    {
     "data": {
      "text/html": [
       "<style type=\"text/css\">\n",
       "#T_b8849_row0_col0, #T_b8849_row2_col0 {\n",
       "  background-color: #fff400;\n",
       "  color: #000000;\n",
       "}\n",
       "#T_b8849_row1_col0, #T_b8849_row3_col0 {\n",
       "  background-color: #ff0000;\n",
       "  color: #f1f1f1;\n",
       "}\n",
       "#T_b8849_row4_col0 {\n",
       "  background-color: #ffff00;\n",
       "  color: #000000;\n",
       "}\n",
       "</style>\n",
       "<table id=\"T_b8849\">\n",
       "  <thead>\n",
       "    <tr>\n",
       "      <th class=\"blank\" >&nbsp;</th>\n",
       "      <th class=\"blank level0\" >&nbsp;</th>\n",
       "      <th id=\"T_b8849_level0_col0\" class=\"col_heading level0 col0\" >nr_of_patients</th>\n",
       "    </tr>\n",
       "    <tr>\n",
       "      <th class=\"index_name level0\" >gender</th>\n",
       "      <th class=\"index_name level1\" >stroke</th>\n",
       "      <th class=\"blank col0\" >&nbsp;</th>\n",
       "    </tr>\n",
       "  </thead>\n",
       "  <tbody>\n",
       "    <tr>\n",
       "      <th id=\"T_b8849_level0_row0\" class=\"row_heading level0 row0\" rowspan=\"2\">Female</th>\n",
       "      <th id=\"T_b8849_level1_row0\" class=\"row_heading level1 row0\" >No</th>\n",
       "      <td id=\"T_b8849_row0_col0\" class=\"data row0 col0\" >95.860870</td>\n",
       "    </tr>\n",
       "    <tr>\n",
       "      <th id=\"T_b8849_level1_row1\" class=\"row_heading level1 row1\" >Yes</th>\n",
       "      <td id=\"T_b8849_row1_col0\" class=\"data row1 col0\" >4.139130</td>\n",
       "    </tr>\n",
       "    <tr>\n",
       "      <th id=\"T_b8849_level0_row2\" class=\"row_heading level0 row2\" rowspan=\"2\">Male</th>\n",
       "      <th id=\"T_b8849_level1_row2\" class=\"row_heading level1 row2\" >No</th>\n",
       "      <td id=\"T_b8849_row2_col0\" class=\"data row2 col0\" >95.550000</td>\n",
       "    </tr>\n",
       "    <tr>\n",
       "      <th id=\"T_b8849_level1_row3\" class=\"row_heading level1 row3\" >Yes</th>\n",
       "      <td id=\"T_b8849_row3_col0\" class=\"data row3 col0\" >4.450000</td>\n",
       "    </tr>\n",
       "    <tr>\n",
       "      <th id=\"T_b8849_level0_row4\" class=\"row_heading level0 row4\" >Other</th>\n",
       "      <th id=\"T_b8849_level1_row4\" class=\"row_heading level1 row4\" >No</th>\n",
       "      <td id=\"T_b8849_row4_col0\" class=\"data row4 col0\" >100.000000</td>\n",
       "    </tr>\n",
       "  </tbody>\n",
       "</table>\n"
      ],
      "text/plain": [
       "<pandas.io.formats.style.Styler at 0x254d73ae710>"
      ]
     },
     "execution_count": 183,
     "metadata": {},
     "output_type": "execute_result"
    }
   ],
   "source": [
    "calculate_percentage(data, \"gender\")\n"
   ]
  },
  {
   "cell_type": "markdown",
   "metadata": {},
   "source": [
    "Partial conclusion: Gender does not look like having any impact on getting stroke."
   ]
  },
  {
   "cell_type": "code",
   "execution_count": 184,
   "metadata": {},
   "outputs": [
    {
     "data": {
      "text/html": [
       "<style type=\"text/css\">\n",
       "#T_e2acf_row0_col0 {\n",
       "  background-color: #ffff00;\n",
       "  color: #000000;\n",
       "}\n",
       "#T_e2acf_row1_col0 {\n",
       "  background-color: #ff0000;\n",
       "  color: #f1f1f1;\n",
       "}\n",
       "#T_e2acf_row2_col0 {\n",
       "  background-color: #ffe300;\n",
       "  color: #000000;\n",
       "}\n",
       "#T_e2acf_row3_col0 {\n",
       "  background-color: #ff1c00;\n",
       "  color: #f1f1f1;\n",
       "}\n",
       "</style>\n",
       "<table id=\"T_e2acf\">\n",
       "  <thead>\n",
       "    <tr>\n",
       "      <th class=\"blank\" >&nbsp;</th>\n",
       "      <th class=\"blank level0\" >&nbsp;</th>\n",
       "      <th id=\"T_e2acf_level0_col0\" class=\"col_heading level0 col0\" >nr_of_patients</th>\n",
       "    </tr>\n",
       "    <tr>\n",
       "      <th class=\"index_name level0\" >hypertension</th>\n",
       "      <th class=\"index_name level1\" >stroke</th>\n",
       "      <th class=\"blank col0\" >&nbsp;</th>\n",
       "    </tr>\n",
       "  </thead>\n",
       "  <tbody>\n",
       "    <tr>\n",
       "      <th id=\"T_e2acf_level0_row0\" class=\"row_heading level0 row0\" rowspan=\"2\">No</th>\n",
       "      <th id=\"T_e2acf_level1_row0\" class=\"row_heading level1 row0\" >No</th>\n",
       "      <td id=\"T_e2acf_row0_col0\" class=\"data row0 col0\" >96.662156</td>\n",
       "    </tr>\n",
       "    <tr>\n",
       "      <th id=\"T_e2acf_level1_row1\" class=\"row_heading level1 row1\" >Yes</th>\n",
       "      <td id=\"T_e2acf_row1_col0\" class=\"data row1 col0\" >3.337844</td>\n",
       "    </tr>\n",
       "    <tr>\n",
       "      <th id=\"T_e2acf_level0_row2\" class=\"row_heading level0 row2\" rowspan=\"2\">Yes</th>\n",
       "      <th id=\"T_e2acf_level1_row2\" class=\"row_heading level1 row2\" >No</th>\n",
       "      <td id=\"T_e2acf_row2_col0\" class=\"data row2 col0\" >86.425339</td>\n",
       "    </tr>\n",
       "    <tr>\n",
       "      <th id=\"T_e2acf_level1_row3\" class=\"row_heading level1 row3\" >Yes</th>\n",
       "      <td id=\"T_e2acf_row3_col0\" class=\"data row3 col0\" >13.574661</td>\n",
       "    </tr>\n",
       "  </tbody>\n",
       "</table>\n"
      ],
      "text/plain": [
       "<pandas.io.formats.style.Styler at 0x254d799a920>"
      ]
     },
     "execution_count": 184,
     "metadata": {},
     "output_type": "execute_result"
    }
   ],
   "source": [
    "calculate_percentage(data, \"hypertension\")\n"
   ]
  },
  {
   "cell_type": "markdown",
   "metadata": {},
   "source": [
    "Partial conclusion: Having hypertension might have a strong impact on getting stroke."
   ]
  },
  {
   "cell_type": "code",
   "execution_count": 185,
   "metadata": {},
   "outputs": [
    {
     "data": {
      "text/html": [
       "<style type=\"text/css\">\n",
       "#T_5dd1f_row0_col0 {\n",
       "  background-color: #ffff00;\n",
       "  color: #000000;\n",
       "}\n",
       "#T_5dd1f_row1_col0 {\n",
       "  background-color: #ff0000;\n",
       "  color: #f1f1f1;\n",
       "}\n",
       "#T_5dd1f_row2_col0 {\n",
       "  background-color: #ffdc00;\n",
       "  color: #000000;\n",
       "}\n",
       "#T_5dd1f_row3_col0 {\n",
       "  background-color: #ff2300;\n",
       "  color: #f1f1f1;\n",
       "}\n",
       "</style>\n",
       "<table id=\"T_5dd1f\">\n",
       "  <thead>\n",
       "    <tr>\n",
       "      <th class=\"blank\" >&nbsp;</th>\n",
       "      <th class=\"blank level0\" >&nbsp;</th>\n",
       "      <th id=\"T_5dd1f_level0_col0\" class=\"col_heading level0 col0\" >nr_of_patients</th>\n",
       "    </tr>\n",
       "    <tr>\n",
       "      <th class=\"index_name level0\" >heart_disease</th>\n",
       "      <th class=\"index_name level1\" >stroke</th>\n",
       "      <th class=\"blank col0\" >&nbsp;</th>\n",
       "    </tr>\n",
       "  </thead>\n",
       "  <tbody>\n",
       "    <tr>\n",
       "      <th id=\"T_5dd1f_level0_row0\" class=\"row_heading level0 row0\" rowspan=\"2\">No</th>\n",
       "      <th id=\"T_5dd1f_level1_row0\" class=\"row_heading level1 row0\" >No</th>\n",
       "      <td id=\"T_5dd1f_row0_col0\" class=\"data row0 col0\" >96.373840</td>\n",
       "    </tr>\n",
       "    <tr>\n",
       "      <th id=\"T_5dd1f_level1_row1\" class=\"row_heading level1 row1\" >Yes</th>\n",
       "      <td id=\"T_5dd1f_row1_col0\" class=\"data row1 col0\" >3.626160</td>\n",
       "    </tr>\n",
       "    <tr>\n",
       "      <th id=\"T_5dd1f_level0_row2\" class=\"row_heading level0 row2\" rowspan=\"2\">Yes</th>\n",
       "      <th id=\"T_5dd1f_level1_row2\" class=\"row_heading level1 row2\" >No</th>\n",
       "      <td id=\"T_5dd1f_row2_col0\" class=\"data row2 col0\" >83.539095</td>\n",
       "    </tr>\n",
       "    <tr>\n",
       "      <th id=\"T_5dd1f_level1_row3\" class=\"row_heading level1 row3\" >Yes</th>\n",
       "      <td id=\"T_5dd1f_row3_col0\" class=\"data row3 col0\" >16.460905</td>\n",
       "    </tr>\n",
       "  </tbody>\n",
       "</table>\n"
      ],
      "text/plain": [
       "<pandas.io.formats.style.Styler at 0x254d7dc36d0>"
      ]
     },
     "execution_count": 185,
     "metadata": {},
     "output_type": "execute_result"
    }
   ],
   "source": [
    "calculate_percentage(data, \"heart_disease\")\n"
   ]
  },
  {
   "cell_type": "markdown",
   "metadata": {},
   "source": [
    "Partial conclusion: Having heart disease might have a strong impact on getting stroke."
   ]
  },
  {
   "cell_type": "code",
   "execution_count": 186,
   "metadata": {},
   "outputs": [
    {
     "data": {
      "text/html": [
       "<style type=\"text/css\">\n",
       "#T_c6e1f_row0_col0, #T_c6e1f_row2_col0 {\n",
       "  background-color: #ffff00;\n",
       "  color: #000000;\n",
       "}\n",
       "#T_c6e1f_row1_col0, #T_c6e1f_row3_col0 {\n",
       "  background-color: #ff0000;\n",
       "  color: #f1f1f1;\n",
       "}\n",
       "</style>\n",
       "<table id=\"T_c6e1f\">\n",
       "  <thead>\n",
       "    <tr>\n",
       "      <th class=\"blank\" >&nbsp;</th>\n",
       "      <th class=\"blank level0\" >&nbsp;</th>\n",
       "      <th id=\"T_c6e1f_level0_col0\" class=\"col_heading level0 col0\" >nr_of_patients</th>\n",
       "    </tr>\n",
       "    <tr>\n",
       "      <th class=\"index_name level0\" >residence_type</th>\n",
       "      <th class=\"index_name level1\" >stroke</th>\n",
       "      <th class=\"blank col0\" >&nbsp;</th>\n",
       "    </tr>\n",
       "  </thead>\n",
       "  <tbody>\n",
       "    <tr>\n",
       "      <th id=\"T_c6e1f_level0_row0\" class=\"row_heading level0 row0\" rowspan=\"2\">Rural</th>\n",
       "      <th id=\"T_c6e1f_level1_row0\" class=\"row_heading level1 row0\" >No</th>\n",
       "      <td id=\"T_c6e1f_row0_col0\" class=\"data row0 col0\" >95.876718</td>\n",
       "    </tr>\n",
       "    <tr>\n",
       "      <th id=\"T_c6e1f_level1_row1\" class=\"row_heading level1 row1\" >Yes</th>\n",
       "      <td id=\"T_c6e1f_row1_col0\" class=\"data row1 col0\" >4.123282</td>\n",
       "    </tr>\n",
       "    <tr>\n",
       "      <th id=\"T_c6e1f_level0_row2\" class=\"row_heading level0 row2\" rowspan=\"2\">Urban</th>\n",
       "      <th id=\"T_c6e1f_level1_row2\" class=\"row_heading level1 row2\" >No</th>\n",
       "      <td id=\"T_c6e1f_row2_col0\" class=\"data row2 col0\" >95.595960</td>\n",
       "    </tr>\n",
       "    <tr>\n",
       "      <th id=\"T_c6e1f_level1_row3\" class=\"row_heading level1 row3\" >Yes</th>\n",
       "      <td id=\"T_c6e1f_row3_col0\" class=\"data row3 col0\" >4.404040</td>\n",
       "    </tr>\n",
       "  </tbody>\n",
       "</table>\n"
      ],
      "text/plain": [
       "<pandas.io.formats.style.Styler at 0x254b7490b80>"
      ]
     },
     "execution_count": 186,
     "metadata": {},
     "output_type": "execute_result"
    }
   ],
   "source": [
    "calculate_percentage(data, \"residence_type\")\n"
   ]
  },
  {
   "cell_type": "markdown",
   "metadata": {},
   "source": [
    "Partial conclusion: Living in rural/urban area does not seems to have any effects on getting stroke."
   ]
  },
  {
   "cell_type": "code",
   "execution_count": 187,
   "metadata": {},
   "outputs": [
    {
     "data": {
      "text/html": [
       "<style type=\"text/css\">\n",
       "#T_fbd6b_row0_col0 {\n",
       "  background-color: #ffff00;\n",
       "  color: #000000;\n",
       "}\n",
       "#T_fbd6b_row1_col0 {\n",
       "  background-color: #ff0000;\n",
       "  color: #f1f1f1;\n",
       "}\n",
       "#T_fbd6b_row2_col0 {\n",
       "  background-color: #fff400;\n",
       "  color: #000000;\n",
       "}\n",
       "#T_fbd6b_row3_col0 {\n",
       "  background-color: #ff0b00;\n",
       "  color: #f1f1f1;\n",
       "}\n",
       "</style>\n",
       "<table id=\"T_fbd6b\">\n",
       "  <thead>\n",
       "    <tr>\n",
       "      <th class=\"blank\" >&nbsp;</th>\n",
       "      <th class=\"blank level0\" >&nbsp;</th>\n",
       "      <th id=\"T_fbd6b_level0_col0\" class=\"col_heading level0 col0\" >nr_of_patients</th>\n",
       "    </tr>\n",
       "    <tr>\n",
       "      <th class=\"index_name level0\" >ever_married</th>\n",
       "      <th class=\"index_name level1\" >stroke</th>\n",
       "      <th class=\"blank col0\" >&nbsp;</th>\n",
       "    </tr>\n",
       "  </thead>\n",
       "  <tbody>\n",
       "    <tr>\n",
       "      <th id=\"T_fbd6b_level0_row0\" class=\"row_heading level0 row0\" rowspan=\"2\">No</th>\n",
       "      <th id=\"T_fbd6b_level1_row0\" class=\"row_heading level1 row0\" >No</th>\n",
       "      <td id=\"T_fbd6b_row0_col0\" class=\"data row0 col0\" >98.646263</td>\n",
       "    </tr>\n",
       "    <tr>\n",
       "      <th id=\"T_fbd6b_level1_row1\" class=\"row_heading level1 row1\" >Yes</th>\n",
       "      <td id=\"T_fbd6b_row1_col0\" class=\"data row1 col0\" >1.353737</td>\n",
       "    </tr>\n",
       "    <tr>\n",
       "      <th id=\"T_fbd6b_level0_row2\" class=\"row_heading level0 row2\" rowspan=\"2\">Yes</th>\n",
       "      <th id=\"T_fbd6b_level1_row2\" class=\"row_heading level1 row2\" >No</th>\n",
       "      <td id=\"T_fbd6b_row2_col0\" class=\"data row2 col0\" >94.176896</td>\n",
       "    </tr>\n",
       "    <tr>\n",
       "      <th id=\"T_fbd6b_level1_row3\" class=\"row_heading level1 row3\" >Yes</th>\n",
       "      <td id=\"T_fbd6b_row3_col0\" class=\"data row3 col0\" >5.823104</td>\n",
       "    </tr>\n",
       "  </tbody>\n",
       "</table>\n"
      ],
      "text/plain": [
       "<pandas.io.formats.style.Styler at 0x254d7dd6470>"
      ]
     },
     "execution_count": 187,
     "metadata": {},
     "output_type": "execute_result"
    }
   ],
   "source": [
    "calculate_percentage(data, \"ever_married\")\n"
   ]
  },
  {
   "cell_type": "markdown",
   "metadata": {},
   "source": [
    "Partial conclusion: Marital status seems to have large impact on ."
   ]
  },
  {
   "cell_type": "markdown",
   "metadata": {},
   "source": [
    "### **General conclusions.**\n",
    "\n",
    "The youngest patients recorder in a database was younger than a 1yr. Mean age of patients was 42. The oldest patients was 82.  Average glucose level varies from 50 to 275 with two peaks on value about 90 (normal glucose level) and 220 (diabetes). Mean value of BMI was 28.9, while min value was 10.3 and the highest was 97.6. That one looks like an outlier because reasonable values for BMI lies rather below value of 40.\n",
    "\n",
    "Age seems like a huge indicator for having a stroke. From histograms I could also see that high glucose levels might indicate chance for getting stroke.. The value of BMI seems to have smaller impact to that.\n",
    "\n",
    "Other features that might have a big impact on getting stroke is that a person work as self-employed person, suffered from hypertension or heart disease and was married. However, dataset is sorely imbalanced and that conclusions might be misleading. Only 249 out of 5110 people in this dataset got stroke. \n"
   ]
  },
  {
   "cell_type": "markdown",
   "metadata": {},
   "source": [
    "----"
   ]
  },
  {
   "cell_type": "markdown",
   "metadata": {},
   "source": [
    "## **STATISTICAL INFERENCE**"
   ]
  },
  {
   "cell_type": "markdown",
   "metadata": {},
   "source": [
    "Some of the features from a dataset seems to be promising in case of predicting stroke. I will check how age, avg glucose level, being married, having hypertension/hear disease might be influencial for the outcome."
   ]
  },
  {
   "cell_type": "code",
   "execution_count": 188,
   "metadata": {},
   "outputs": [],
   "source": [
    "stroke = data[data[\"stroke\"] == \"Yes\"]\n",
    "not_stroke = data[data[\"stroke\"] == \"No\"]\n"
   ]
  },
  {
   "cell_type": "code",
   "execution_count": 189,
   "metadata": {},
   "outputs": [],
   "source": [
    "replace_values_01 = {\"Yes\": 1, \"No\": 0}\n",
    "\n",
    "stroke = stroke.replace(\n",
    "    {\n",
    "        \"hypertension\": replace_values_01,\n",
    "        \"heart_disease\": replace_values_01,\n",
    "        \"ever_married\": replace_values_01,\n",
    "    }\n",
    ")\n",
    "\n",
    "not_stroke = not_stroke.replace(\n",
    "    {\n",
    "        \"hypertension\": replace_values_01,\n",
    "        \"heart_disease\": replace_values_01,\n",
    "        \"ever_married\": replace_values_01,\n",
    "    }\n",
    ")"
   ]
  },
  {
   "cell_type": "code",
   "execution_count": 190,
   "metadata": {},
   "outputs": [
    {
     "data": {
      "text/html": [
       "<div>\n",
       "<style scoped>\n",
       "    .dataframe tbody tr th:only-of-type {\n",
       "        vertical-align: middle;\n",
       "    }\n",
       "\n",
       "    .dataframe tbody tr th {\n",
       "        vertical-align: top;\n",
       "    }\n",
       "\n",
       "    .dataframe thead th {\n",
       "        text-align: right;\n",
       "    }\n",
       "</style>\n",
       "<table border=\"1\" class=\"dataframe\">\n",
       "  <thead>\n",
       "    <tr style=\"text-align: right;\">\n",
       "      <th></th>\n",
       "      <th>age</th>\n",
       "      <th>avg_glucose_level</th>\n",
       "      <th>hypertension</th>\n",
       "      <th>heart_disease</th>\n",
       "      <th>ever_married</th>\n",
       "    </tr>\n",
       "  </thead>\n",
       "  <tbody>\n",
       "    <tr>\n",
       "      <th>count</th>\n",
       "      <td>208.000000</td>\n",
       "      <td>208.000000</td>\n",
       "      <td>208.000000</td>\n",
       "      <td>208.000000</td>\n",
       "      <td>208.000000</td>\n",
       "    </tr>\n",
       "    <tr>\n",
       "      <th>mean</th>\n",
       "      <td>67.822115</td>\n",
       "      <td>134.140962</td>\n",
       "      <td>0.288462</td>\n",
       "      <td>0.192308</td>\n",
       "      <td>0.889423</td>\n",
       "    </tr>\n",
       "    <tr>\n",
       "      <th>std</th>\n",
       "      <td>12.331653</td>\n",
       "      <td>62.301263</td>\n",
       "      <td>0.454140</td>\n",
       "      <td>0.395064</td>\n",
       "      <td>0.314364</td>\n",
       "    </tr>\n",
       "    <tr>\n",
       "      <th>min</th>\n",
       "      <td>14.000000</td>\n",
       "      <td>56.110000</td>\n",
       "      <td>0.000000</td>\n",
       "      <td>0.000000</td>\n",
       "      <td>0.000000</td>\n",
       "    </tr>\n",
       "    <tr>\n",
       "      <th>25%</th>\n",
       "      <td>58.750000</td>\n",
       "      <td>80.355000</td>\n",
       "      <td>0.000000</td>\n",
       "      <td>0.000000</td>\n",
       "      <td>1.000000</td>\n",
       "    </tr>\n",
       "    <tr>\n",
       "      <th>50%</th>\n",
       "      <td>70.500000</td>\n",
       "      <td>106.250000</td>\n",
       "      <td>0.000000</td>\n",
       "      <td>0.000000</td>\n",
       "      <td>1.000000</td>\n",
       "    </tr>\n",
       "    <tr>\n",
       "      <th>75%</th>\n",
       "      <td>78.250000</td>\n",
       "      <td>196.762500</td>\n",
       "      <td>1.000000</td>\n",
       "      <td>0.000000</td>\n",
       "      <td>1.000000</td>\n",
       "    </tr>\n",
       "    <tr>\n",
       "      <th>max</th>\n",
       "      <td>82.000000</td>\n",
       "      <td>271.740000</td>\n",
       "      <td>1.000000</td>\n",
       "      <td>1.000000</td>\n",
       "      <td>1.000000</td>\n",
       "    </tr>\n",
       "  </tbody>\n",
       "</table>\n",
       "</div>"
      ],
      "text/plain": [
       "              age  avg_glucose_level  hypertension  heart_disease  \\\n",
       "count  208.000000         208.000000    208.000000     208.000000   \n",
       "mean    67.822115         134.140962      0.288462       0.192308   \n",
       "std     12.331653          62.301263      0.454140       0.395064   \n",
       "min     14.000000          56.110000      0.000000       0.000000   \n",
       "25%     58.750000          80.355000      0.000000       0.000000   \n",
       "50%     70.500000         106.250000      0.000000       0.000000   \n",
       "75%     78.250000         196.762500      1.000000       0.000000   \n",
       "max     82.000000         271.740000      1.000000       1.000000   \n",
       "\n",
       "       ever_married  \n",
       "count    208.000000  \n",
       "mean       0.889423  \n",
       "std        0.314364  \n",
       "min        0.000000  \n",
       "25%        1.000000  \n",
       "50%        1.000000  \n",
       "75%        1.000000  \n",
       "max        1.000000  "
      ]
     },
     "execution_count": 190,
     "metadata": {},
     "output_type": "execute_result"
    }
   ],
   "source": [
    "stroke[\n",
    "    [\"age\", \"avg_glucose_level\", \"hypertension\", \"heart_disease\", \"ever_married\"]\n",
    "].describe()"
   ]
  },
  {
   "cell_type": "code",
   "execution_count": 191,
   "metadata": {},
   "outputs": [
    {
     "data": {
      "text/html": [
       "<div>\n",
       "<style scoped>\n",
       "    .dataframe tbody tr th:only-of-type {\n",
       "        vertical-align: middle;\n",
       "    }\n",
       "\n",
       "    .dataframe tbody tr th {\n",
       "        vertical-align: top;\n",
       "    }\n",
       "\n",
       "    .dataframe thead th {\n",
       "        text-align: right;\n",
       "    }\n",
       "</style>\n",
       "<table border=\"1\" class=\"dataframe\">\n",
       "  <thead>\n",
       "    <tr style=\"text-align: right;\">\n",
       "      <th></th>\n",
       "      <th>age</th>\n",
       "      <th>avg_glucose_level</th>\n",
       "      <th>hypertension</th>\n",
       "      <th>heart_disease</th>\n",
       "      <th>ever_married</th>\n",
       "    </tr>\n",
       "  </thead>\n",
       "  <tbody>\n",
       "    <tr>\n",
       "      <th>count</th>\n",
       "      <td>4668.000000</td>\n",
       "      <td>4668.000000</td>\n",
       "      <td>4668.000000</td>\n",
       "      <td>4668.000000</td>\n",
       "      <td>4668.00000</td>\n",
       "    </tr>\n",
       "    <tr>\n",
       "      <th>mean</th>\n",
       "      <td>41.757309</td>\n",
       "      <td>103.945726</td>\n",
       "      <td>0.081834</td>\n",
       "      <td>0.043488</td>\n",
       "      <td>0.64096</td>\n",
       "    </tr>\n",
       "    <tr>\n",
       "      <th>std</th>\n",
       "      <td>22.317771</td>\n",
       "      <td>42.909647</td>\n",
       "      <td>0.274141</td>\n",
       "      <td>0.203974</td>\n",
       "      <td>0.47977</td>\n",
       "    </tr>\n",
       "    <tr>\n",
       "      <th>min</th>\n",
       "      <td>0.080000</td>\n",
       "      <td>55.120000</td>\n",
       "      <td>0.000000</td>\n",
       "      <td>0.000000</td>\n",
       "      <td>0.00000</td>\n",
       "    </tr>\n",
       "    <tr>\n",
       "      <th>25%</th>\n",
       "      <td>24.000000</td>\n",
       "      <td>76.912500</td>\n",
       "      <td>0.000000</td>\n",
       "      <td>0.000000</td>\n",
       "      <td>0.00000</td>\n",
       "    </tr>\n",
       "    <tr>\n",
       "      <th>50%</th>\n",
       "      <td>43.000000</td>\n",
       "      <td>91.230000</td>\n",
       "      <td>0.000000</td>\n",
       "      <td>0.000000</td>\n",
       "      <td>1.00000</td>\n",
       "    </tr>\n",
       "    <tr>\n",
       "      <th>75%</th>\n",
       "      <td>59.000000</td>\n",
       "      <td>112.395000</td>\n",
       "      <td>0.000000</td>\n",
       "      <td>0.000000</td>\n",
       "      <td>1.00000</td>\n",
       "    </tr>\n",
       "    <tr>\n",
       "      <th>max</th>\n",
       "      <td>82.000000</td>\n",
       "      <td>267.760000</td>\n",
       "      <td>1.000000</td>\n",
       "      <td>1.000000</td>\n",
       "      <td>1.00000</td>\n",
       "    </tr>\n",
       "  </tbody>\n",
       "</table>\n",
       "</div>"
      ],
      "text/plain": [
       "               age  avg_glucose_level  hypertension  heart_disease  \\\n",
       "count  4668.000000        4668.000000   4668.000000    4668.000000   \n",
       "mean     41.757309         103.945726      0.081834       0.043488   \n",
       "std      22.317771          42.909647      0.274141       0.203974   \n",
       "min       0.080000          55.120000      0.000000       0.000000   \n",
       "25%      24.000000          76.912500      0.000000       0.000000   \n",
       "50%      43.000000          91.230000      0.000000       0.000000   \n",
       "75%      59.000000         112.395000      0.000000       0.000000   \n",
       "max      82.000000         267.760000      1.000000       1.000000   \n",
       "\n",
       "       ever_married  \n",
       "count    4668.00000  \n",
       "mean        0.64096  \n",
       "std         0.47977  \n",
       "min         0.00000  \n",
       "25%         0.00000  \n",
       "50%         1.00000  \n",
       "75%         1.00000  \n",
       "max         1.00000  "
      ]
     },
     "execution_count": 191,
     "metadata": {},
     "output_type": "execute_result"
    }
   ],
   "source": [
    "not_stroke[\n",
    "    [\"age\", \"avg_glucose_level\", \"hypertension\", \"heart_disease\", \"ever_married\"]\n",
    "].describe()"
   ]
  },
  {
   "cell_type": "markdown",
   "metadata": {},
   "source": [
    "**Test no.1:**\n",
    "\n",
    "**Null H**: The average age of patients who had stroke is the same as for people who didn't not have stroke.\n",
    "\n",
    "**Alternative H**: The average age between patients differs.\n",
    "\n",
    "Significance level: 5%"
   ]
  },
  {
   "cell_type": "code",
   "execution_count": 192,
   "metadata": {},
   "outputs": [
    {
     "data": {
      "text/plain": [
       "'t_test: 28.476253538704952, p_value: 1.595391033873429e-83, df: 271.57412196358405'"
      ]
     },
     "execution_count": 192,
     "metadata": {},
     "output_type": "execute_result"
    }
   ],
   "source": [
    "t_test, p_value, df = sm.stats.ttest_ind(\n",
    "    stroke[\"age\"],\n",
    "    not_stroke[\"age\"],\n",
    "    usevar=\"unequal\",\n",
    ")\n",
    "\n",
    "f\"t_test: {t_test}, p_value: {p_value}, df: {df}\"\n"
   ]
  },
  {
   "cell_type": "markdown",
   "metadata": {},
   "source": [
    "Conclusion:\n",
    "\n",
    "The p-value is close to 0 - I can reject the null hypothesis. The difference between average age between groups is significant."
   ]
  },
  {
   "cell_type": "markdown",
   "metadata": {},
   "source": [
    "**Test no.2:**\n",
    "\n",
    "**Null H**: The average glucose level of patients who had stroke is the same as for people who didn't not have stroke.\n",
    "\n",
    "**Alternative H**: The average glucose level between patients differs.\n",
    "\n",
    "Significance level: 5%"
   ]
  },
  {
   "cell_type": "code",
   "execution_count": 193,
   "metadata": {},
   "outputs": [
    {
     "data": {
      "text/plain": [
       "'t_test: 6.917213373536713, p_value: 5.150980928056149e-11, df: 215.83903233153964'"
      ]
     },
     "execution_count": 193,
     "metadata": {},
     "output_type": "execute_result"
    }
   ],
   "source": [
    "t_test, p_value, df = sm.stats.ttest_ind(\n",
    "    stroke[\"avg_glucose_level\"],\n",
    "    not_stroke[\"avg_glucose_level\"],\n",
    "    usevar=\"unequal\",\n",
    ")\n",
    "\n",
    "f\"t_test: {t_test}, p_value: {p_value}, df: {df}\"\n"
   ]
  },
  {
   "cell_type": "markdown",
   "metadata": {},
   "source": [
    "Conclusion:\n",
    "\n",
    "The p-value is close to 0 - I can reject the null hypothesis. The difference between average glucose level between groups is significant."
   ]
  },
  {
   "cell_type": "markdown",
   "metadata": {},
   "source": [
    "**Test no.3:**\n",
    "\n",
    "**Null H**: difference in population proportion between people who suffer from a hypertension or not with having/not having stroke is equal to 0\n",
    "\n",
    "**Alternative H**: difference in population proportion is not equal to 0\n",
    "\n",
    "Significance level - 5%"
   ]
  },
  {
   "cell_type": "code",
   "execution_count": 194,
   "metadata": {},
   "outputs": [
    {
     "data": {
      "text/plain": [
       "'t_test: 6.509284769893021, p_value: 5.292174652694787e-10, df: 213.77410204599786'"
      ]
     },
     "execution_count": 194,
     "metadata": {},
     "output_type": "execute_result"
    }
   ],
   "source": [
    "t_test, p_value, df = sm.stats.ttest_ind(\n",
    "    stroke[\"hypertension\"],\n",
    "    not_stroke[\"hypertension\"],\n",
    "    usevar=\"unequal\",\n",
    ")\n",
    "f\"t_test: {t_test}, p_value: {p_value}, df: {df}\"\n"
   ]
  },
  {
   "cell_type": "markdown",
   "metadata": {},
   "source": [
    "Conclusion:\n",
    "\n",
    "The p-value is close to 0 - I can reject the null hypothesis. The presence of hypertensions influence having stroke significantly across two groups."
   ]
  },
  {
   "cell_type": "markdown",
   "metadata": {},
   "source": [
    "**Test no.4:**\n",
    "\n",
    "**Null H**: difference in population proportion between people who suffer from a heart disease or not with having/not having stroke is equal to 0\n",
    "\n",
    "**Alternative H**: difference in population proportion is not equal to 0\n",
    "\n",
    "Significance level - 5%"
   ]
  },
  {
   "cell_type": "code",
   "execution_count": 195,
   "metadata": {},
   "outputs": [
    {
     "data": {
      "text/plain": [
       "'t_test: 5.400841382681714, p_value: 1.7737422818836717e-07, df: 211.94539847192257'"
      ]
     },
     "execution_count": 195,
     "metadata": {},
     "output_type": "execute_result"
    }
   ],
   "source": [
    "t_test, p_value, df = sm.stats.ttest_ind(\n",
    "    stroke[\"heart_disease\"],\n",
    "    not_stroke[\"heart_disease\"],\n",
    "    usevar=\"unequal\",\n",
    ")\n",
    "f\"t_test: {t_test}, p_value: {p_value}, df: {df}\"\n"
   ]
  },
  {
   "cell_type": "markdown",
   "metadata": {},
   "source": [
    "Conclusion:\n",
    "\n",
    "The p-value is close to 0 - I can reject the null hypothesis. The presence of heart disease influence having stroke significantly across two groups."
   ]
  },
  {
   "cell_type": "markdown",
   "metadata": {},
   "source": [
    "**Test no.5:**\n",
    "\n",
    "**Null H**: difference in population proportion between people who were married or not with having/not having stroke is equal to 0\n",
    "\n",
    "**Alternative H**: difference in population proportion is not equal to 0\n",
    "\n",
    "Significance level - 5%"
   ]
  },
  {
   "cell_type": "code",
   "execution_count": 196,
   "metadata": {},
   "outputs": [
    {
     "data": {
      "text/plain": [
       "'t_test: 10.849728444129894, p_value: 9.324460094213899e-23, df: 252.07611288115564'"
      ]
     },
     "execution_count": 196,
     "metadata": {},
     "output_type": "execute_result"
    }
   ],
   "source": [
    "t_test, p_value, df = sm.stats.ttest_ind(\n",
    "    stroke[\"ever_married\"],\n",
    "    not_stroke[\"ever_married\"],\n",
    "    usevar=\"unequal\",\n",
    ")\n",
    "f\"t_test: {t_test}, p_value: {p_value}, df: {df}\"\n"
   ]
  },
  {
   "cell_type": "markdown",
   "metadata": {},
   "source": [
    "Conclusion:\n",
    "\n",
    "The p-value is close to 0 - I can reject the null hypothesis. Being married influence having stroke significantly across two groups."
   ]
  },
  {
   "cell_type": "markdown",
   "metadata": {},
   "source": [
    "----"
   ]
  },
  {
   "cell_type": "markdown",
   "metadata": {},
   "source": [
    "## **CORRELATION BETWEEN FEATURES AND FEATURE ENGINEERING**"
   ]
  },
  {
   "cell_type": "markdown",
   "metadata": {},
   "source": [
    "To check correlation between all the features, first I need to convert object type variables into numeric one. Additionaly, some of the machine learning models require feature engineering to perform the algorithm. For example, logistic regression or SVM require all the features to be numerical. Decision Tree, as opposite example, does not need any feature encoding. However, as I will perform different algorithms, I do features encoding at this stage of my analysis."
   ]
  },
  {
   "cell_type": "markdown",
   "metadata": {},
   "source": [
    "**Categorical features - changing strings into numeric.**"
   ]
  },
  {
   "cell_type": "code",
   "execution_count": 197,
   "metadata": {},
   "outputs": [],
   "source": [
    "data_corr = data.copy()\n",
    "data_corr = data_corr.replace(\n",
    "    {\n",
    "        \"hypertension\": replace_values_01,\n",
    "        \"heart_disease\": replace_values_01,\n",
    "        \"ever_married\": replace_values_01,\n",
    "    }\n",
    ")"
   ]
  },
  {
   "cell_type": "code",
   "execution_count": 198,
   "metadata": {},
   "outputs": [
    {
     "data": {
      "text/plain": [
       "array([[0.0, 1.0, 0.0, ..., 228.69, 36.6, 'Yes'],\n",
       "       [0.0, 1.0, 0.0, ..., 105.92, 32.5, 'Yes'],\n",
       "       [1.0, 0.0, 0.0, ..., 171.23, 34.4, 'Yes'],\n",
       "       ...,\n",
       "       [1.0, 0.0, 0.0, ..., 82.99, 30.6, 'No'],\n",
       "       [0.0, 1.0, 0.0, ..., 166.29, 25.6, 'No'],\n",
       "       [1.0, 0.0, 0.0, ..., 85.28, 26.2, 'No']], dtype=object)"
      ]
     },
     "execution_count": 198,
     "metadata": {},
     "output_type": "execute_result"
    }
   ],
   "source": [
    "column_trans = make_column_transformer(\n",
    "    (\n",
    "        OneHotEncoder(handle_unknown=\"ignore\"),\n",
    "        [\"gender\", \"work_type\", \"residence_type\", \"smoking_status\"],\n",
    "    ),\n",
    "    remainder=\"passthrough\",\n",
    ")\n",
    "\n",
    "data_transformed = column_trans.fit_transform(data_corr)\n",
    "data_transformed"
   ]
  },
  {
   "cell_type": "code",
   "execution_count": 199,
   "metadata": {},
   "outputs": [],
   "source": [
    "encoded_data = pd.DataFrame(\n",
    "    data_transformed, columns=column_trans.get_feature_names_out()\n",
    ")"
   ]
  },
  {
   "cell_type": "code",
   "execution_count": 200,
   "metadata": {},
   "outputs": [],
   "source": [
    "correlation_data = encoded_data.iloc[:, 0:-1].astype(float)\n",
    "\n",
    "correlation_data.columns = correlation_data.columns.str.replace(\n",
    "    \"onehotencoder__\", \"\"\n",
    ").str.replace(\"remainder__\", \"\")"
   ]
  },
  {
   "cell_type": "code",
   "execution_count": 201,
   "metadata": {},
   "outputs": [
    {
     "data": {
      "image/png": "[encoded data removed]",
      "text/plain": [
       "<Figure size 1296x1152 with 2 Axes>"
      ]
     },
     "metadata": {
      "needs_background": "light"
     },
     "output_type": "display_data"
    }
   ],
   "source": [
    "create_heatmap(correlation_data, (18, 16))\n"
   ]
  },
  {
   "cell_type": "markdown",
   "metadata": {},
   "source": [
    "Conclusion: Pearson correlation coefficients shown at the heatmap do not represents high correlation (either positive or negative)."
   ]
  },
  {
   "cell_type": "markdown",
   "metadata": {},
   "source": [
    "----"
   ]
  },
  {
   "cell_type": "markdown",
   "metadata": {},
   "source": [
    "# **PREDICTIVE MODELLING**"
   ]
  },
  {
   "cell_type": "markdown",
   "metadata": {},
   "source": [
    "### **Stroke prediction.**"
   ]
  },
  {
   "cell_type": "code",
   "execution_count": 202,
   "metadata": {},
   "outputs": [],
   "source": [
    "data = data.dropna(axis=0)\n"
   ]
  },
  {
   "cell_type": "code",
   "execution_count": 203,
   "metadata": {},
   "outputs": [],
   "source": [
    "X = data.iloc[:, 0:-1]\n",
    "y = data.iloc[:, -1].replace({\"Yes\": 1, \"No\": 0})\n",
    "\n",
    "numeric_features = [\"age\", \"avg_glucose_level\", \"bmi\"]\n",
    "numeric_transformer = StandardScaler()\n",
    "\n",
    "categorical_features = [\n",
    "    \"gender\",\n",
    "    \"hypertension\",\n",
    "    \"heart_disease\",\n",
    "    \"ever_married\",\n",
    "    \"work_type\",\n",
    "    \"residence_type\",\n",
    "    \"smoking_status\",\n",
    "]\n",
    "categorical_transformer = OneHotEncoder(handle_unknown=\"ignore\")\n",
    "\n",
    "preprocessor = ColumnTransformer(\n",
    "    transformers=[\n",
    "        (\"num\", numeric_transformer, numeric_features),\n",
    "        (\"cat\", categorical_transformer, categorical_features),\n",
    "    ]\n",
    ")\n",
    "\n",
    "X_train, X_test, y_train, y_test = train_test_split(\n",
    "    X, y, test_size=0.3, random_state=0, stratify=y\n",
    ")"
   ]
  },
  {
   "cell_type": "markdown",
   "metadata": {},
   "source": [
    "**Testing different models using pipelines.**"
   ]
  },
  {
   "cell_type": "code",
   "execution_count": 204,
   "metadata": {},
   "outputs": [],
   "source": [
    "pipelines = []\n",
    "pipelines.append(\n",
    "    (\n",
    "        \"Logistic Regression\",\n",
    "        (\n",
    "            Pipeline(\n",
    "                steps=[\n",
    "                    (\"preprocessor\", preprocessor),\n",
    "                    (\"LR\", LogisticRegression(class_weight=\"balanced\")),\n",
    "                ]\n",
    "            )\n",
    "        ),\n",
    "    )\n",
    ")\n",
    "pipelines.append(\n",
    "    (\n",
    "        \"kNN\",\n",
    "        (\n",
    "            Pipeline(\n",
    "                steps=[\n",
    "                    (\"preprocessor\", preprocessor),\n",
    "                    (\"KNN\", KNeighborsClassifier(n_neighbors=5)),\n",
    "                ]\n",
    "            )\n",
    "        ),\n",
    "    )\n",
    ")\n",
    "pipelines.append(\n",
    "    (\n",
    "        \"Decision Tree\",\n",
    "        (\n",
    "            Pipeline(\n",
    "                steps=[\n",
    "                    (\"preprocessor\", preprocessor),\n",
    "                    (\"DT\", DecisionTreeClassifier(class_weight=\"balanced\")),\n",
    "                ]\n",
    "            )\n",
    "        ),\n",
    "    )\n",
    ")\n",
    "pipelines.append(\n",
    "    (\n",
    "        \"Random Forest\",\n",
    "        (\n",
    "            Pipeline(\n",
    "                steps=[\n",
    "                    (\"preprocessor\", preprocessor),\n",
    "                    (\"RF\", RandomForestClassifier(class_weight=\"balanced\")),\n",
    "                ]\n",
    "            )\n",
    "        ),\n",
    "    )\n",
    ")\n",
    "pipelines.append(\n",
    "    (\n",
    "        \"SVC linear\",\n",
    "        (\n",
    "            Pipeline(\n",
    "                steps=[\n",
    "                    (\"preprocessor\", preprocessor),\n",
    "                    (\"SVC\", SVC(kernel=\"linear\", class_weight=\"balanced\")),\n",
    "                ]\n",
    "            )\n",
    "        ),\n",
    "    )\n",
    ")\n",
    "pipelines.append(\n",
    "    (\n",
    "        \"SVC rbf\",\n",
    "        (\n",
    "            Pipeline(\n",
    "                steps=[\n",
    "                    (\"preprocessor\", preprocessor),\n",
    "                    (\"SVC\", SVC(kernel=\"rbf\", class_weight=\"balanced\")),\n",
    "                ]\n",
    "            )\n",
    "        ),\n",
    "    )\n",
    ")\n"
   ]
  },
  {
   "cell_type": "code",
   "execution_count": 205,
   "metadata": {},
   "outputs": [
    {
     "data": {
      "text/html": [
       "<div>\n",
       "<style scoped>\n",
       "    .dataframe tbody tr th:only-of-type {\n",
       "        vertical-align: middle;\n",
       "    }\n",
       "\n",
       "    .dataframe tbody tr th {\n",
       "        vertical-align: top;\n",
       "    }\n",
       "\n",
       "    .dataframe thead th {\n",
       "        text-align: right;\n",
       "    }\n",
       "</style>\n",
       "<table border=\"1\" class=\"dataframe\">\n",
       "  <thead>\n",
       "    <tr style=\"text-align: right;\">\n",
       "      <th></th>\n",
       "      <th>CV mean</th>\n",
       "      <th>Std</th>\n",
       "    </tr>\n",
       "  </thead>\n",
       "  <tbody>\n",
       "    <tr>\n",
       "      <th>Logistic Regression</th>\n",
       "      <td>0.828178</td>\n",
       "      <td>0.044236</td>\n",
       "    </tr>\n",
       "    <tr>\n",
       "      <th>kNN</th>\n",
       "      <td>0.619931</td>\n",
       "      <td>0.022593</td>\n",
       "    </tr>\n",
       "    <tr>\n",
       "      <th>Decision Tree</th>\n",
       "      <td>0.533520</td>\n",
       "      <td>0.030715</td>\n",
       "    </tr>\n",
       "    <tr>\n",
       "      <th>Random Forest</th>\n",
       "      <td>0.810607</td>\n",
       "      <td>0.031855</td>\n",
       "    </tr>\n",
       "    <tr>\n",
       "      <th>SVC linear</th>\n",
       "      <td>0.825109</td>\n",
       "      <td>0.043517</td>\n",
       "    </tr>\n",
       "    <tr>\n",
       "      <th>SVC rbf</th>\n",
       "      <td>0.776404</td>\n",
       "      <td>0.030701</td>\n",
       "    </tr>\n",
       "  </tbody>\n",
       "</table>\n",
       "</div>"
      ],
      "text/plain": [
       "                      CV mean       Std\n",
       "Logistic Regression  0.828178  0.044236\n",
       "kNN                  0.619931  0.022593\n",
       "Decision Tree        0.533520  0.030715\n",
       "Random Forest        0.810607  0.031855\n",
       "SVC linear           0.825109  0.043517\n",
       "SVC rbf              0.776404  0.030701"
      ]
     },
     "execution_count": 205,
     "metadata": {},
     "output_type": "execute_result"
    }
   ],
   "source": [
    "model_name, roc_auc, model_comparison = calculate_roc_auc(pipelines, X_train, y_train)\n",
    "model_comparison"
   ]
  },
  {
   "cell_type": "code",
   "execution_count": 206,
   "metadata": {},
   "outputs": [
    {
     "data": {
      "text/plain": [
       "Text(0.5, 1.0, 'ROC AUC for different models')"
      ]
     },
     "execution_count": 206,
     "metadata": {},
     "output_type": "execute_result"
    },
    {
     "data": {
      "image/png": "[encoded data removed]",
      "text/plain": [
       "<Figure size 864x432 with 1 Axes>"
      ]
     },
     "metadata": {
      "needs_background": "light"
     },
     "output_type": "display_data"
    }
   ],
   "source": [
    "plt.subplots(figsize=(12, 6))\n",
    "box = pd.DataFrame(roc_auc, index=[model_name])\n",
    "box.T.boxplot(grid=False, rot=45)\n",
    "ax = plt.gca()\n",
    "ax.set_ylim([0, 1.2])\n",
    "plt.title(\"ROC AUC for different models\")"
   ]
  },
  {
   "cell_type": "code",
   "execution_count": 207,
   "metadata": {},
   "outputs": [],
   "source": [
    "dict_of_models = dict((model_name, model) for model_name, model in pipelines)\n"
   ]
  },
  {
   "cell_type": "code",
   "execution_count": 208,
   "metadata": {},
   "outputs": [
    {
     "data": {
      "image/png": "[encoded data removed]",
      "text/plain": [
       "<Figure size 1728x288 with 12 Axes>"
      ]
     },
     "metadata": {
      "needs_background": "light"
     },
     "output_type": "display_data"
    }
   ],
   "source": [
    "create_confusion_matrix(dict_of_models, X_test, y_test)\n"
   ]
  },
  {
   "cell_type": "code",
   "execution_count": 209,
   "metadata": {},
   "outputs": [
    {
     "name": "stdout",
     "output_type": "stream",
     "text": [
      "\n",
      " Logistic Regression\n",
      "              precision    recall  f1-score     support\n",
      "0              0.991194  0.723055  0.836154  1401.00000\n",
      "1              0.120181  0.854839  0.210736    62.00000\n",
      "accuracy       0.728640  0.728640  0.728640     0.72864\n",
      "macro avg      0.555688  0.788947  0.523445  1463.00000\n",
      "weighted avg   0.954281  0.728640  0.809649  1463.00000\n",
      "\n",
      " SVC linear\n",
      "              precision    recall  f1-score      support\n",
      "0              0.992016  0.709493  0.827299  1401.000000\n",
      "1              0.117137  0.870968  0.206501    62.000000\n",
      "accuracy       0.716336  0.716336  0.716336     0.716336\n",
      "macro avg      0.554576  0.790230  0.516900  1463.000000\n",
      "weighted avg   0.954940  0.716336  0.800991  1463.000000\n",
      "\n",
      " SVC rbf\n",
      "              precision    recall  f1-score      support\n",
      "0              0.984215  0.756602  0.855529  1401.000000\n",
      "1              0.116580  0.725806  0.200893    62.000000\n",
      "accuracy       0.755297  0.755297  0.755297     0.755297\n",
      "macro avg      0.550398  0.741204  0.528211  1463.000000\n",
      "weighted avg   0.947446  0.755297  0.827786  1463.000000\n"
     ]
    }
   ],
   "source": [
    "for i in [\"Logistic Regression\", \"SVC linear\", \"SVC rbf\"]:\n",
    "    dict_of_models[i].fit(X_train, y_train)\n",
    "    y_pred = dict_of_models[i].predict(X_test)\n",
    "    print(\"\\n\", i)\n",
    "    print(pd.DataFrame(classification_report(y_test, y_pred, output_dict=True)).T)"
   ]
  },
  {
   "cell_type": "markdown",
   "metadata": {},
   "source": [
    "Partial conclusion:\n",
    "\n",
    "I could achieved high accuracy score for initial models (without hyperparameter tuning), especially for DT and RF. However, when I took closer look into confusion matrix I could see that these models perform very badly on positive class - with no good prediction for Random Forest as an example.\n",
    "\n",
    "Linear Regression and models based on Support Vector Machines achieved lower accuracy score, but at least they could predict some positive class examples.\n",
    "\n",
    "I will try to achieve highest possible **recall** for positive class and reduce false negatives. \n",
    "\n",
    "It is important to find a good balance between possible errors. More tests - higher costs but lower death ratio. More deaths - ethical issue. \n"
   ]
  },
  {
   "cell_type": "markdown",
   "metadata": {},
   "source": [
    "I am taking quick try on how changing treshold for prediction might affect the outcome."
   ]
  },
  {
   "cell_type": "code",
   "execution_count": 210,
   "metadata": {},
   "outputs": [
    {
     "name": "stdout",
     "output_type": "stream",
     "text": [
      "\n",
      "******** For i = 0.4 ******\n",
      "Our testing accuracy is 0.6596035543403964\n",
      "[[909 492]\n",
      " [  6  56]]\n",
      "\n",
      "******** For i = 0.45 ******\n",
      "Our testing accuracy is 0.6924128503075871\n",
      "[[958 443]\n",
      " [  7  55]]\n",
      "\n",
      "******** For i = 0.5 ******\n",
      "Our testing accuracy is 0.7286397812713602\n",
      "[[1013  388]\n",
      " [   9   53]]\n",
      "\n",
      "******** For i = 0.55 ******\n",
      "Our testing accuracy is 0.7593984962406015\n",
      "[[1058  343]\n",
      " [   9   53]]\n",
      "\n",
      "******** For i = 0.6 ******\n",
      "Our testing accuracy is 0.7887901572112098\n",
      "[[1103  298]\n",
      " [  11   51]]\n",
      "\n",
      "******** For i = 0.65 ******\n",
      "Our testing accuracy is 0.8120300751879699\n",
      "[[1139  262]\n",
      " [  13   49]]\n",
      "\n",
      "******** For i = 0.7 ******\n",
      "Our testing accuracy is 0.8386876281613124\n",
      "[[1183  218]\n",
      " [  18   44]]\n",
      "\n",
      "******** For i = 0.75 ******\n",
      "Our testing accuracy is 0.8653451811346549\n",
      "[[1231  170]\n",
      " [  27   35]]\n",
      "\n",
      "******** For i = 0.8 ******\n",
      "Our testing accuracy is 0.8926862611073137\n",
      "[[1280  121]\n",
      " [  36   26]]\n"
     ]
    }
   ],
   "source": [
    "clf = dict_of_models[\"Logistic Regression\"]\n",
    "pred_proba_df = pd.DataFrame(clf.predict_proba(X_test))\n",
    "threshold_list = [\n",
    "    0.4,\n",
    "    0.45,\n",
    "    0.5,\n",
    "    0.55,\n",
    "    0.6,\n",
    "    0.65,\n",
    "    0.7,\n",
    "    0.75,\n",
    "    0.8,\n",
    "]\n",
    "for i in threshold_list:\n",
    "    print(\"\\n******** For i = {} ******\".format(i))\n",
    "    y_pred = pred_proba_df.applymap(lambda x: 1 if x > i else 0)\n",
    "    test_accuracy = metrics.accuracy_score(\n",
    "        y_test.to_numpy().reshape(y_test.to_numpy().size, 1),\n",
    "        y_pred.iloc[:, 1].to_numpy().reshape(y_pred.iloc[:, 1].to_numpy().size, 1),\n",
    "    )\n",
    "    print(\"Our testing accuracy is {}\".format(test_accuracy))\n",
    "\n",
    "    print(\n",
    "        confusion_matrix(\n",
    "            y_test.to_numpy().reshape(y_test.to_numpy().size, 1),\n",
    "            y_pred.iloc[:, 1].to_numpy().reshape(y_pred.iloc[:, 1].to_numpy().size, 1),\n",
    "        )\n",
    "    )\n"
   ]
  },
  {
   "cell_type": "markdown",
   "metadata": {},
   "source": [
    "Still the outcome is not satisfactory. I will try to upsample the positive class and downsample the negative class examples."
   ]
  },
  {
   "cell_type": "markdown",
   "metadata": {},
   "source": [
    "**UPSAMPLING AND DOWNSAMPLING DATA.**"
   ]
  },
  {
   "cell_type": "markdown",
   "metadata": {},
   "source": [
    "First I check how upsampling positive class changes the outcome."
   ]
  },
  {
   "cell_type": "code",
   "execution_count": 211,
   "metadata": {},
   "outputs": [],
   "source": [
    "X_train_res, X_test_res, y_train_res, y_test_res = train_test_split(\n",
    "    X, y, test_size=0.3, random_state=0, stratify=y\n",
    ")\n",
    "X_train_res = preprocessor.fit_transform(X_train_res)\n",
    "X_test_res = preprocessor.transform(X_test_res)\n",
    "smote = SMOTE(random_state=1)\n",
    "X_train_res, y_train_res = smote.fit_resample(X_train_res, y_train_res)"
   ]
  },
  {
   "cell_type": "code",
   "execution_count": 212,
   "metadata": {},
   "outputs": [
    {
     "data": {
      "text/plain": [
       "{0: 3267, 1: 3267}"
      ]
     },
     "execution_count": 212,
     "metadata": {},
     "output_type": "execute_result"
    }
   ],
   "source": [
    "unique, counts = np.unique(y_train_res, return_counts=True)\n",
    "dict(zip(unique, counts))\n"
   ]
  },
  {
   "cell_type": "code",
   "execution_count": 213,
   "metadata": {},
   "outputs": [],
   "source": [
    "classifiers = [\n",
    "    \"Linear SVM\",\n",
    "    \"Radial SVM\",\n",
    "    \"Logistic Regression\",\n",
    "    \"Decision Tree\",\n",
    "    \"Random Forest\",\n",
    "]\n",
    "\n",
    "models = [\n",
    "    SVC(kernel=\"linear\", class_weight=\"balanced\"),\n",
    "    SVC(kernel=\"rbf\", class_weight=\"balanced\"),\n",
    "    LogisticRegression(class_weight=\"balanced\"),\n",
    "    DecisionTreeClassifier(class_weight=\"balanced\"),\n",
    "    RandomForestClassifier(class_weight=\"balanced\"),\n",
    "]\n"
   ]
  },
  {
   "cell_type": "code",
   "execution_count": 214,
   "metadata": {},
   "outputs": [
    {
     "data": {
      "text/html": [
       "<div>\n",
       "<style scoped>\n",
       "    .dataframe tbody tr th:only-of-type {\n",
       "        vertical-align: middle;\n",
       "    }\n",
       "\n",
       "    .dataframe tbody tr th {\n",
       "        vertical-align: top;\n",
       "    }\n",
       "\n",
       "    .dataframe thead th {\n",
       "        text-align: right;\n",
       "    }\n",
       "</style>\n",
       "<table border=\"1\" class=\"dataframe\">\n",
       "  <thead>\n",
       "    <tr style=\"text-align: right;\">\n",
       "      <th></th>\n",
       "      <th>CV mean</th>\n",
       "      <th>Std</th>\n",
       "    </tr>\n",
       "  </thead>\n",
       "  <tbody>\n",
       "    <tr>\n",
       "      <th>Linear SVM</th>\n",
       "      <td>0.851327</td>\n",
       "      <td>0.009644</td>\n",
       "    </tr>\n",
       "    <tr>\n",
       "      <th>Radial SVM</th>\n",
       "      <td>0.967906</td>\n",
       "      <td>0.005330</td>\n",
       "    </tr>\n",
       "    <tr>\n",
       "      <th>Logistic Regression</th>\n",
       "      <td>0.851643</td>\n",
       "      <td>0.008627</td>\n",
       "    </tr>\n",
       "    <tr>\n",
       "      <th>Decision Tree</th>\n",
       "      <td>0.930522</td>\n",
       "      <td>0.015210</td>\n",
       "    </tr>\n",
       "    <tr>\n",
       "      <th>Random Forest</th>\n",
       "      <td>0.996894</td>\n",
       "      <td>0.003893</td>\n",
       "    </tr>\n",
       "  </tbody>\n",
       "</table>\n",
       "</div>"
      ],
      "text/plain": [
       "                      CV mean       Std\n",
       "Linear SVM           0.851327  0.009644\n",
       "Radial SVM           0.967906  0.005330\n",
       "Logistic Regression  0.851643  0.008627\n",
       "Decision Tree        0.930522  0.015210\n",
       "Random Forest        0.996894  0.003893"
      ]
     },
     "execution_count": 214,
     "metadata": {},
     "output_type": "execute_result"
    }
   ],
   "source": [
    "calculate_roc_auc_models(models, X_train_res, y_train_res, classifiers)\n"
   ]
  },
  {
   "cell_type": "code",
   "execution_count": 215,
   "metadata": {},
   "outputs": [
    {
     "data": {
      "image/png": "[encoded data removed]",
      "text/plain": [
       "<Figure size 1728x288 with 10 Axes>"
      ]
     },
     "metadata": {
      "needs_background": "light"
     },
     "output_type": "display_data"
    }
   ],
   "source": [
    "create_confusion_matrix_for_list(models, X_test_res, y_test_res)\n"
   ]
  },
  {
   "cell_type": "code",
   "execution_count": 216,
   "metadata": {},
   "outputs": [
    {
     "name": "stdout",
     "output_type": "stream",
     "text": [
      "\n",
      " SVC(class_weight='balanced', kernel='linear')\n",
      "              precision    recall  f1-score      support\n",
      "0              0.991054  0.711635  0.828417  1401.000000\n",
      "1              0.115974  0.854839  0.204239    62.000000\n",
      "accuracy       0.717703  0.717703  0.717703     0.717703\n",
      "macro avg      0.553514  0.783237  0.516328  1463.000000\n",
      "weighted avg   0.953969  0.717703  0.801965  1463.000000\n",
      "\n",
      " SVC(class_weight='balanced')\n",
      "              precision    recall  f1-score      support\n",
      "0              0.973132  0.827266  0.894290  1401.000000\n",
      "1              0.110294  0.483871  0.179641    62.000000\n",
      "accuracy       0.812714  0.812714  0.812714     0.812714\n",
      "macro avg      0.541713  0.655569  0.536965  1463.000000\n",
      "weighted avg   0.936566  0.812714  0.864004  1463.000000\n",
      "\n",
      " LogisticRegression(class_weight='balanced')\n",
      "              precision    recall  f1-score      support\n",
      "0              0.991228  0.725910  0.838072  1401.000000\n",
      "1              0.121281  0.854839  0.212425    62.000000\n",
      "accuracy       0.731374  0.731374  0.731374     0.731374\n",
      "macro avg      0.556255  0.790374  0.525248  1463.000000\n",
      "weighted avg   0.954361  0.731374  0.811558  1463.000000\n"
     ]
    }
   ],
   "source": [
    "list_of_models = [\"Logistic Regression\", \"SVC linear\", \"SVC rbf\"]\n",
    "for i in range(0, 3):\n",
    "    models[i].fit(X_train_res, y_train_res)\n",
    "    y_pred = models[i].predict(X_test_res)\n",
    "    print(\"\\n\", models[i])\n",
    "    print(pd.DataFrame(classification_report(y_test_res, y_pred, output_dict=True)).T)"
   ]
  },
  {
   "cell_type": "markdown",
   "metadata": {},
   "source": [
    "Upsampling minority class did not give any improvement in prediction performance."
   ]
  },
  {
   "cell_type": "markdown",
   "metadata": {},
   "source": [
    "Using random undersampling."
   ]
  },
  {
   "cell_type": "code",
   "execution_count": 217,
   "metadata": {},
   "outputs": [
    {
     "data": {
      "text/html": [
       "<div>\n",
       "<style scoped>\n",
       "    .dataframe tbody tr th:only-of-type {\n",
       "        vertical-align: middle;\n",
       "    }\n",
       "\n",
       "    .dataframe tbody tr th {\n",
       "        vertical-align: top;\n",
       "    }\n",
       "\n",
       "    .dataframe thead th {\n",
       "        text-align: right;\n",
       "    }\n",
       "</style>\n",
       "<table border=\"1\" class=\"dataframe\">\n",
       "  <thead>\n",
       "    <tr style=\"text-align: right;\">\n",
       "      <th></th>\n",
       "      <th>Accuracy</th>\n",
       "      <th>Balanced accuracy</th>\n",
       "      <th>ROC_AUC</th>\n",
       "    </tr>\n",
       "  </thead>\n",
       "  <tbody>\n",
       "    <tr>\n",
       "      <th>Under-sampling + Logistic regression</th>\n",
       "      <td>0.71316</td>\n",
       "      <td>0.732806</td>\n",
       "      <td>0.824148</td>\n",
       "    </tr>\n",
       "  </tbody>\n",
       "</table>\n",
       "</div>"
      ],
      "text/plain": [
       "                                      Accuracy  Balanced accuracy   ROC_AUC\n",
       "Under-sampling + Logistic regression   0.71316           0.732806  0.824148"
      ]
     },
     "execution_count": 217,
     "metadata": {},
     "output_type": "execute_result"
    }
   ],
   "source": [
    "scoring = [\"accuracy\", \"balanced_accuracy\", \"roc_auc\"]\n",
    "index = []\n",
    "scores = {\"Accuracy\": [], \"Balanced accuracy\": [], \"ROC_AUC\": []}\n",
    "sampling_strategies = []\n",
    "\n",
    "lr_clf = make_pipeline(\n",
    "    RandomUnderSampler(random_state=42),\n",
    "    preprocessor,\n",
    "    LogisticRegression(max_iter=1000),\n",
    ")\n",
    "index += [\"Under-sampling + Logistic regression\"]\n",
    "cv_result = cross_validate(lr_clf, X_train, y_train, scoring=scoring)\n",
    "scores[\"Accuracy\"].append(cv_result[\"test_accuracy\"].mean())\n",
    "scores[\"Balanced accuracy\"].append(cv_result[\"test_balanced_accuracy\"].mean())\n",
    "scores[\"ROC_AUC\"].append(cv_result[\"test_roc_auc\"].mean())\n",
    "sampling_strategies.append((\"lr\", lr_clf))\n",
    "lr_clf.fit(X_train, y_train)\n",
    "y_pred = lr_clf.predict(X_test)\n",
    "\n",
    "df_scores = pd.DataFrame(scores, index=index)\n",
    "df_scores"
   ]
  },
  {
   "cell_type": "code",
   "execution_count": 218,
   "metadata": {},
   "outputs": [
    {
     "data": {
      "text/html": [
       "<div>\n",
       "<style scoped>\n",
       "    .dataframe tbody tr th:only-of-type {\n",
       "        vertical-align: middle;\n",
       "    }\n",
       "\n",
       "    .dataframe tbody tr th {\n",
       "        vertical-align: top;\n",
       "    }\n",
       "\n",
       "    .dataframe thead th {\n",
       "        text-align: right;\n",
       "    }\n",
       "</style>\n",
       "<table border=\"1\" class=\"dataframe\">\n",
       "  <thead>\n",
       "    <tr style=\"text-align: right;\">\n",
       "      <th></th>\n",
       "      <th>precision</th>\n",
       "      <th>recall</th>\n",
       "      <th>f1-score</th>\n",
       "      <th>support</th>\n",
       "    </tr>\n",
       "  </thead>\n",
       "  <tbody>\n",
       "    <tr>\n",
       "      <th>0</th>\n",
       "      <td>0.991812</td>\n",
       "      <td>0.691649</td>\n",
       "      <td>0.814971</td>\n",
       "      <td>1401.000000</td>\n",
       "    </tr>\n",
       "    <tr>\n",
       "      <th>1</th>\n",
       "      <td>0.111111</td>\n",
       "      <td>0.870968</td>\n",
       "      <td>0.197080</td>\n",
       "      <td>62.000000</td>\n",
       "    </tr>\n",
       "    <tr>\n",
       "      <th>accuracy</th>\n",
       "      <td>0.699248</td>\n",
       "      <td>0.699248</td>\n",
       "      <td>0.699248</td>\n",
       "      <td>0.699248</td>\n",
       "    </tr>\n",
       "    <tr>\n",
       "      <th>macro avg</th>\n",
       "      <td>0.551461</td>\n",
       "      <td>0.781308</td>\n",
       "      <td>0.506025</td>\n",
       "      <td>1463.000000</td>\n",
       "    </tr>\n",
       "    <tr>\n",
       "      <th>weighted avg</th>\n",
       "      <td>0.954489</td>\n",
       "      <td>0.699248</td>\n",
       "      <td>0.788785</td>\n",
       "      <td>1463.000000</td>\n",
       "    </tr>\n",
       "  </tbody>\n",
       "</table>\n",
       "</div>"
      ],
      "text/plain": [
       "              precision    recall  f1-score      support\n",
       "0              0.991812  0.691649  0.814971  1401.000000\n",
       "1              0.111111  0.870968  0.197080    62.000000\n",
       "accuracy       0.699248  0.699248  0.699248     0.699248\n",
       "macro avg      0.551461  0.781308  0.506025  1463.000000\n",
       "weighted avg   0.954489  0.699248  0.788785  1463.000000"
      ]
     },
     "execution_count": 218,
     "metadata": {},
     "output_type": "execute_result"
    }
   ],
   "source": [
    "pd.DataFrame(classification_report(y_test, y_pred, output_dict=True)).T\n"
   ]
  },
  {
   "cell_type": "code",
   "execution_count": 219,
   "metadata": {},
   "outputs": [
    {
     "data": {
      "text/html": [
       "<div>\n",
       "<style scoped>\n",
       "    .dataframe tbody tr th:only-of-type {\n",
       "        vertical-align: middle;\n",
       "    }\n",
       "\n",
       "    .dataframe tbody tr th {\n",
       "        vertical-align: top;\n",
       "    }\n",
       "\n",
       "    .dataframe thead th {\n",
       "        text-align: right;\n",
       "    }\n",
       "</style>\n",
       "<table border=\"1\" class=\"dataframe\">\n",
       "  <thead>\n",
       "    <tr style=\"text-align: right;\">\n",
       "      <th></th>\n",
       "      <th>Accuracy</th>\n",
       "      <th>Balanced accuracy</th>\n",
       "      <th>ROC_AUC</th>\n",
       "    </tr>\n",
       "  </thead>\n",
       "  <tbody>\n",
       "    <tr>\n",
       "      <th>Under-sampling + Logistic regression</th>\n",
       "      <td>0.713160</td>\n",
       "      <td>0.732806</td>\n",
       "      <td>0.824148</td>\n",
       "    </tr>\n",
       "    <tr>\n",
       "      <th>Under-sampling + Random forest</th>\n",
       "      <td>0.686496</td>\n",
       "      <td>0.708644</td>\n",
       "      <td>0.781339</td>\n",
       "    </tr>\n",
       "  </tbody>\n",
       "</table>\n",
       "</div>"
      ],
      "text/plain": [
       "                                      Accuracy  Balanced accuracy   ROC_AUC\n",
       "Under-sampling + Logistic regression  0.713160           0.732806  0.824148\n",
       "Under-sampling + Random forest        0.686496           0.708644  0.781339"
      ]
     },
     "execution_count": 219,
     "metadata": {},
     "output_type": "execute_result"
    }
   ],
   "source": [
    "rf_clf = make_pipeline(\n",
    "    RandomUnderSampler(random_state=42),\n",
    "    preprocessor,\n",
    "    RandomForestClassifier(random_state=42, n_jobs=2),\n",
    ")\n",
    "\n",
    "index += [\"Under-sampling + Random forest\"]\n",
    "cv_result = cross_validate(rf_clf, X_train, y_train, scoring=scoring)\n",
    "scores[\"Accuracy\"].append(cv_result[\"test_accuracy\"].mean())\n",
    "scores[\"Balanced accuracy\"].append(cv_result[\"test_balanced_accuracy\"].mean())\n",
    "scores[\"ROC_AUC\"].append(cv_result[\"test_roc_auc\"].mean())\n",
    "sampling_strategies.append((\"rf\", rf_clf))\n",
    "rf_clf.fit(X_train, y_train)\n",
    "y_pred = rf_clf.predict(X_test)\n",
    "\n",
    "df_scores = pd.DataFrame(scores, index=index)\n",
    "df_scores"
   ]
  },
  {
   "cell_type": "code",
   "execution_count": 220,
   "metadata": {},
   "outputs": [
    {
     "data": {
      "text/html": [
       "<div>\n",
       "<style scoped>\n",
       "    .dataframe tbody tr th:only-of-type {\n",
       "        vertical-align: middle;\n",
       "    }\n",
       "\n",
       "    .dataframe tbody tr th {\n",
       "        vertical-align: top;\n",
       "    }\n",
       "\n",
       "    .dataframe thead th {\n",
       "        text-align: right;\n",
       "    }\n",
       "</style>\n",
       "<table border=\"1\" class=\"dataframe\">\n",
       "  <thead>\n",
       "    <tr style=\"text-align: right;\">\n",
       "      <th></th>\n",
       "      <th>precision</th>\n",
       "      <th>recall</th>\n",
       "      <th>f1-score</th>\n",
       "      <th>support</th>\n",
       "    </tr>\n",
       "  </thead>\n",
       "  <tbody>\n",
       "    <tr>\n",
       "      <th>0</th>\n",
       "      <td>0.988360</td>\n",
       "      <td>0.666667</td>\n",
       "      <td>0.796249</td>\n",
       "      <td>1401.000000</td>\n",
       "    </tr>\n",
       "    <tr>\n",
       "      <th>1</th>\n",
       "      <td>0.098456</td>\n",
       "      <td>0.822581</td>\n",
       "      <td>0.175862</td>\n",
       "      <td>62.000000</td>\n",
       "    </tr>\n",
       "    <tr>\n",
       "      <th>accuracy</th>\n",
       "      <td>0.673274</td>\n",
       "      <td>0.673274</td>\n",
       "      <td>0.673274</td>\n",
       "      <td>0.673274</td>\n",
       "    </tr>\n",
       "    <tr>\n",
       "      <th>macro avg</th>\n",
       "      <td>0.543408</td>\n",
       "      <td>0.744624</td>\n",
       "      <td>0.486056</td>\n",
       "      <td>1463.000000</td>\n",
       "    </tr>\n",
       "    <tr>\n",
       "      <th>weighted avg</th>\n",
       "      <td>0.950647</td>\n",
       "      <td>0.673274</td>\n",
       "      <td>0.769958</td>\n",
       "      <td>1463.000000</td>\n",
       "    </tr>\n",
       "  </tbody>\n",
       "</table>\n",
       "</div>"
      ],
      "text/plain": [
       "              precision    recall  f1-score      support\n",
       "0              0.988360  0.666667  0.796249  1401.000000\n",
       "1              0.098456  0.822581  0.175862    62.000000\n",
       "accuracy       0.673274  0.673274  0.673274     0.673274\n",
       "macro avg      0.543408  0.744624  0.486056  1463.000000\n",
       "weighted avg   0.950647  0.673274  0.769958  1463.000000"
      ]
     },
     "execution_count": 220,
     "metadata": {},
     "output_type": "execute_result"
    }
   ],
   "source": [
    "pd.DataFrame(classification_report(y_test, y_pred, output_dict=True)).T\n"
   ]
  },
  {
   "cell_type": "code",
   "execution_count": 221,
   "metadata": {},
   "outputs": [
    {
     "data": {
      "text/html": [
       "<div>\n",
       "<style scoped>\n",
       "    .dataframe tbody tr th:only-of-type {\n",
       "        vertical-align: middle;\n",
       "    }\n",
       "\n",
       "    .dataframe tbody tr th {\n",
       "        vertical-align: top;\n",
       "    }\n",
       "\n",
       "    .dataframe thead th {\n",
       "        text-align: right;\n",
       "    }\n",
       "</style>\n",
       "<table border=\"1\" class=\"dataframe\">\n",
       "  <thead>\n",
       "    <tr style=\"text-align: right;\">\n",
       "      <th></th>\n",
       "      <th>Accuracy</th>\n",
       "      <th>Balanced accuracy</th>\n",
       "      <th>ROC_AUC</th>\n",
       "    </tr>\n",
       "  </thead>\n",
       "  <tbody>\n",
       "    <tr>\n",
       "      <th>Under-sampling + Logistic regression</th>\n",
       "      <td>0.713160</td>\n",
       "      <td>0.732806</td>\n",
       "      <td>0.824148</td>\n",
       "    </tr>\n",
       "    <tr>\n",
       "      <th>Under-sampling + Random forest</th>\n",
       "      <td>0.686496</td>\n",
       "      <td>0.708644</td>\n",
       "      <td>0.781339</td>\n",
       "    </tr>\n",
       "    <tr>\n",
       "      <th>Balanced random forest</th>\n",
       "      <td>0.698803</td>\n",
       "      <td>0.741554</td>\n",
       "      <td>0.819844</td>\n",
       "    </tr>\n",
       "  </tbody>\n",
       "</table>\n",
       "</div>"
      ],
      "text/plain": [
       "                                      Accuracy  Balanced accuracy   ROC_AUC\n",
       "Under-sampling + Logistic regression  0.713160           0.732806  0.824148\n",
       "Under-sampling + Random forest        0.686496           0.708644  0.781339\n",
       "Balanced random forest                0.698803           0.741554  0.819844"
      ]
     },
     "execution_count": 221,
     "metadata": {},
     "output_type": "execute_result"
    }
   ],
   "source": [
    "rf_clf_balanced = make_pipeline(\n",
    "    preprocessor,\n",
    "    BalancedRandomForestClassifier(random_state=42, n_jobs=2),\n",
    ")\n",
    "\n",
    "index += [\"Balanced random forest\"]\n",
    "cv_result = cross_validate(rf_clf_balanced, X_train, y_train, scoring=scoring)\n",
    "scores[\"Accuracy\"].append(cv_result[\"test_accuracy\"].mean())\n",
    "scores[\"Balanced accuracy\"].append(cv_result[\"test_balanced_accuracy\"].mean())\n",
    "scores[\"ROC_AUC\"].append(cv_result[\"test_roc_auc\"].mean())\n",
    "sampling_strategies.append((\"rf_clf_balanced\", rf_clf_balanced))\n",
    "rf_clf_balanced.fit(X_train, y_train)\n",
    "y_pred = rf_clf_balanced.predict(X_test)\n",
    "\n",
    "df_scores = pd.DataFrame(scores, index=index)\n",
    "df_scores"
   ]
  },
  {
   "cell_type": "code",
   "execution_count": 222,
   "metadata": {},
   "outputs": [
    {
     "data": {
      "text/html": [
       "<div>\n",
       "<style scoped>\n",
       "    .dataframe tbody tr th:only-of-type {\n",
       "        vertical-align: middle;\n",
       "    }\n",
       "\n",
       "    .dataframe tbody tr th {\n",
       "        vertical-align: top;\n",
       "    }\n",
       "\n",
       "    .dataframe thead th {\n",
       "        text-align: right;\n",
       "    }\n",
       "</style>\n",
       "<table border=\"1\" class=\"dataframe\">\n",
       "  <thead>\n",
       "    <tr style=\"text-align: right;\">\n",
       "      <th></th>\n",
       "      <th>precision</th>\n",
       "      <th>recall</th>\n",
       "      <th>f1-score</th>\n",
       "      <th>support</th>\n",
       "    </tr>\n",
       "  </thead>\n",
       "  <tbody>\n",
       "    <tr>\n",
       "      <th>0</th>\n",
       "      <td>0.993750</td>\n",
       "      <td>0.680942</td>\n",
       "      <td>0.808132</td>\n",
       "      <td>1401.000000</td>\n",
       "    </tr>\n",
       "    <tr>\n",
       "      <th>1</th>\n",
       "      <td>0.111332</td>\n",
       "      <td>0.903226</td>\n",
       "      <td>0.198230</td>\n",
       "      <td>62.000000</td>\n",
       "    </tr>\n",
       "    <tr>\n",
       "      <th>accuracy</th>\n",
       "      <td>0.690362</td>\n",
       "      <td>0.690362</td>\n",
       "      <td>0.690362</td>\n",
       "      <td>0.690362</td>\n",
       "    </tr>\n",
       "    <tr>\n",
       "      <th>macro avg</th>\n",
       "      <td>0.552541</td>\n",
       "      <td>0.792084</td>\n",
       "      <td>0.503181</td>\n",
       "      <td>1463.000000</td>\n",
       "    </tr>\n",
       "    <tr>\n",
       "      <th>weighted avg</th>\n",
       "      <td>0.956354</td>\n",
       "      <td>0.690362</td>\n",
       "      <td>0.782285</td>\n",
       "      <td>1463.000000</td>\n",
       "    </tr>\n",
       "  </tbody>\n",
       "</table>\n",
       "</div>"
      ],
      "text/plain": [
       "              precision    recall  f1-score      support\n",
       "0              0.993750  0.680942  0.808132  1401.000000\n",
       "1              0.111332  0.903226  0.198230    62.000000\n",
       "accuracy       0.690362  0.690362  0.690362     0.690362\n",
       "macro avg      0.552541  0.792084  0.503181  1463.000000\n",
       "weighted avg   0.956354  0.690362  0.782285  1463.000000"
      ]
     },
     "execution_count": 222,
     "metadata": {},
     "output_type": "execute_result"
    }
   ],
   "source": [
    "pd.DataFrame(classification_report(y_test, y_pred, output_dict=True)).T\n"
   ]
  },
  {
   "cell_type": "markdown",
   "metadata": {},
   "source": [
    "I decide to check how upsample/downsample the data simultaneously works for model performance. I choose for that three types of models - Logistic Regression, Decision Tree and Random Forest."
   ]
  },
  {
   "cell_type": "code",
   "execution_count": 223,
   "metadata": {},
   "outputs": [],
   "source": [
    "over = RandomOverSampler(sampling_strategy=0.5)\n",
    "under = RandomUnderSampler(sampling_strategy=0.5)\n",
    "augumented_pipelines = []\n",
    "\n",
    "pipeline_lr = make_pipeline(over, under, preprocessor, LogisticRegression())\n",
    "augumented_pipelines.append(pipeline_lr)\n",
    "\n",
    "pipeline_dt = make_pipeline(over, under, preprocessor, DecisionTreeClassifier())\n",
    "augumented_pipelines.append(pipeline_dt)\n",
    "\n",
    "pipeline_rf = make_pipeline(over, under, preprocessor, RandomForestClassifier())\n",
    "augumented_pipelines.append(pipeline_rf)"
   ]
  },
  {
   "cell_type": "code",
   "execution_count": 224,
   "metadata": {},
   "outputs": [
    {
     "data": {
      "text/html": [
       "<div>\n",
       "<style scoped>\n",
       "    .dataframe tbody tr th:only-of-type {\n",
       "        vertical-align: middle;\n",
       "    }\n",
       "\n",
       "    .dataframe tbody tr th {\n",
       "        vertical-align: top;\n",
       "    }\n",
       "\n",
       "    .dataframe thead th {\n",
       "        text-align: right;\n",
       "    }\n",
       "</style>\n",
       "<table border=\"1\" class=\"dataframe\">\n",
       "  <thead>\n",
       "    <tr style=\"text-align: right;\">\n",
       "      <th></th>\n",
       "      <th>ROC AUC mean</th>\n",
       "      <th>Std</th>\n",
       "    </tr>\n",
       "  </thead>\n",
       "  <tbody>\n",
       "    <tr>\n",
       "      <th>0</th>\n",
       "      <td>0.829546</td>\n",
       "      <td>0.036661</td>\n",
       "    </tr>\n",
       "    <tr>\n",
       "      <th>1</th>\n",
       "      <td>0.548955</td>\n",
       "      <td>0.019320</td>\n",
       "    </tr>\n",
       "    <tr>\n",
       "      <th>2</th>\n",
       "      <td>0.804476</td>\n",
       "      <td>0.026273</td>\n",
       "    </tr>\n",
       "  </tbody>\n",
       "</table>\n",
       "</div>"
      ],
      "text/plain": [
       "   ROC AUC mean       Std\n",
       "0      0.829546  0.036661\n",
       "1      0.548955  0.019320\n",
       "2      0.804476  0.026273"
      ]
     },
     "execution_count": 224,
     "metadata": {},
     "output_type": "execute_result"
    }
   ],
   "source": [
    "roc_auc_ups = []\n",
    "roc_auc_std_ups = []\n",
    "roc_auc = []\n",
    "\n",
    "for model in augumented_pipelines:\n",
    "    kfold = StratifiedKFold(n_splits=5)\n",
    "    crossv_roc_auc = cross_val_score(\n",
    "        model, X_train, y_train, cv=kfold, scoring=\"roc_auc\"\n",
    "    )\n",
    "    roc_auc_ups.append(crossv_roc_auc.mean())\n",
    "    roc_auc_std_ups.append(crossv_roc_auc.std())\n",
    "    roc_auc.append(crossv_roc_auc)\n",
    "\n",
    "models_comparison_ups = pd.DataFrame(\n",
    "    {\"ROC AUC mean\": roc_auc_ups, \"Std\": roc_auc_std_ups},\n",
    ")\n",
    "models_comparison_ups\n"
   ]
  },
  {
   "cell_type": "code",
   "execution_count": 225,
   "metadata": {},
   "outputs": [
    {
     "data": {
      "image/png": "[encoded data removed]",
      "text/plain": [
       "<Figure size 1152x288 with 6 Axes>"
      ]
     },
     "metadata": {
      "needs_background": "light"
     },
     "output_type": "display_data"
    }
   ],
   "source": [
    "f, ax = plt.subplots(1, 3, figsize=(16, 4))\n",
    "i = 0\n",
    "for pipe in augumented_pipelines:\n",
    "    y_pred = cross_val_predict(pipe, X_test, y_test, cv=6)\n",
    "    sns.heatmap(confusion_matrix(y_test, y_pred), ax=ax[i], annot=True, fmt=\"2.0f\")\n",
    "    ax[i].set_title(f\"Matrix for {pipe[3]}\")\n",
    "    i += 1\n",
    "    plt.subplots_adjust(\n",
    "        left=0.1, bottom=0.1, right=0.9, top=0.9, wspace=0.4, hspace=0.4\n",
    "    )"
   ]
  },
  {
   "cell_type": "markdown",
   "metadata": {},
   "source": [
    "Choosing combined approach to over/down sampling does not bring any improvements to the model performance."
   ]
  },
  {
   "cell_type": "markdown",
   "metadata": {},
   "source": [
    "**HYPERPARAMETER TUNING**"
   ]
  },
  {
   "cell_type": "markdown",
   "metadata": {},
   "source": [
    "For further analysis I choose Decision Tree, Random Forest and SVC with RBF kernel (using original dataset, no downsampling or oversampling methods applied)."
   ]
  },
  {
   "cell_type": "code",
   "execution_count": 226,
   "metadata": {},
   "outputs": [
    {
     "name": "stdout",
     "output_type": "stream",
     "text": [
      "Best Score:  0.821861032275239\n",
      "Best Params:  {'DT__criterion': 'gini', 'DT__max_depth': 9, 'DT__min_samples_leaf': 1, 'DT__min_samples_split': 2}\n"
     ]
    }
   ],
   "source": [
    "param_dict = {\n",
    "    \"DT__criterion\": [\"gini\", \"entropy\"],\n",
    "    \"DT__max_depth\": range(1, 10),\n",
    "    \"DT__min_samples_split\": range(2, 10),\n",
    "    \"DT__min_samples_leaf\": range(1, 5),\n",
    "}\n",
    "\n",
    "DT_pipeline = GridSearchCV(pipelines[2][1], param_dict, cv=5)\n",
    "DT_pipeline.fit(X_train, y_train)\n",
    "\n",
    "print(\"Best Score: \", DT_pipeline.best_score_)\n",
    "print(\"Best Params: \", DT_pipeline.best_params_)"
   ]
  },
  {
   "cell_type": "code",
   "execution_count": 228,
   "metadata": {},
   "outputs": [
    {
     "name": "stdout",
     "output_type": "stream",
     "text": [
      "Best Score:  0.9566364538026562\n",
      "Best Params:  {'RF__bootstrap': True, 'RF__max_depth': None, 'RF__min_samples_leaf': 1, 'RF__min_samples_split': 2, 'RF__n_estimators': 100}\n"
     ]
    }
   ],
   "source": [
    "n_estimators = [10, 50, 100, 300, 500]\n",
    "max_depth = [None, 2, 5, 10]\n",
    "min_samples_split = [2, 5, 10]\n",
    "min_samples_leaf = [1, 2, 4]\n",
    "bootstrap = [True, False]\n",
    "random_RF = {\n",
    "    \"RF__n_estimators\": n_estimators,\n",
    "    \"RF__max_depth\": max_depth,\n",
    "    \"RF__min_samples_split\": min_samples_split,\n",
    "    \"RF__min_samples_leaf\": min_samples_leaf,\n",
    "    \"RF__bootstrap\": bootstrap,\n",
    "}\n",
    "\n",
    "RF_pipeline = GridSearchCV(pipelines[3][1], random_RF, cv=5)\n",
    "RF_pipeline.fit(X_train, y_train)\n",
    "\n",
    "print(\"Best Score: \", RF_pipeline.best_score_)\n",
    "print(\"Best Params: \", RF_pipeline.best_params_)\n"
   ]
  },
  {
   "cell_type": "code",
   "execution_count": 230,
   "metadata": {},
   "outputs": [
    {
     "name": "stdout",
     "output_type": "stream",
     "text": [
      "Fitting 5 folds for each of 36 candidates, totalling 180 fits\n",
      "Best Score:  0.9179615548103717\n",
      "Best Params:  {'SVC__C': 1.0, 'SVC__gamma': 1.0, 'SVC__kernel': 'rbf'}\n"
     ]
    }
   ],
   "source": [
    "C = [0.05, 0.1, 0.3, 0.5, 0.7, 1.0]\n",
    "gamma = [0.05, 0.1, 0.3, 0.5, 0.7, 1.0]\n",
    "kernel = [\"rbf\"]\n",
    "hyper_svc = {\"SVC__kernel\": kernel, \"SVC__C\": C, \"SVC__gamma\": gamma}\n",
    "\n",
    "svc_pipeline = GridSearchCV(pipelines[4][1], hyper_svc, verbose=True)\n",
    "svc_pipeline.fit(X_train, y_train)\n",
    "\n",
    "print(\"Best Score: \", svc_pipeline.best_score_)\n",
    "print(\"Best Params: \", svc_pipeline.best_params_)"
   ]
  },
  {
   "cell_type": "markdown",
   "metadata": {},
   "source": [
    "Checking performance on test sets:"
   ]
  },
  {
   "cell_type": "markdown",
   "metadata": {},
   "source": [
    "Decision Tree"
   ]
  },
  {
   "cell_type": "code",
   "execution_count": 231,
   "metadata": {},
   "outputs": [
    {
     "data": {
      "text/html": [
       "<div>\n",
       "<style scoped>\n",
       "    .dataframe tbody tr th:only-of-type {\n",
       "        vertical-align: middle;\n",
       "    }\n",
       "\n",
       "    .dataframe tbody tr th {\n",
       "        vertical-align: top;\n",
       "    }\n",
       "\n",
       "    .dataframe thead th {\n",
       "        text-align: right;\n",
       "    }\n",
       "</style>\n",
       "<table border=\"1\" class=\"dataframe\">\n",
       "  <thead>\n",
       "    <tr style=\"text-align: right;\">\n",
       "      <th></th>\n",
       "      <th>precision</th>\n",
       "      <th>recall</th>\n",
       "      <th>f1-score</th>\n",
       "      <th>support</th>\n",
       "    </tr>\n",
       "  </thead>\n",
       "  <tbody>\n",
       "    <tr>\n",
       "      <th>0</th>\n",
       "      <td>0.971064</td>\n",
       "      <td>0.814418</td>\n",
       "      <td>0.885870</td>\n",
       "      <td>1401.000000</td>\n",
       "    </tr>\n",
       "    <tr>\n",
       "      <th>1</th>\n",
       "      <td>0.097222</td>\n",
       "      <td>0.451613</td>\n",
       "      <td>0.160000</td>\n",
       "      <td>62.000000</td>\n",
       "    </tr>\n",
       "    <tr>\n",
       "      <th>accuracy</th>\n",
       "      <td>0.799043</td>\n",
       "      <td>0.799043</td>\n",
       "      <td>0.799043</td>\n",
       "      <td>0.799043</td>\n",
       "    </tr>\n",
       "    <tr>\n",
       "      <th>macro avg</th>\n",
       "      <td>0.534143</td>\n",
       "      <td>0.633016</td>\n",
       "      <td>0.522935</td>\n",
       "      <td>1463.000000</td>\n",
       "    </tr>\n",
       "    <tr>\n",
       "      <th>weighted avg</th>\n",
       "      <td>0.934032</td>\n",
       "      <td>0.799043</td>\n",
       "      <td>0.855108</td>\n",
       "      <td>1463.000000</td>\n",
       "    </tr>\n",
       "  </tbody>\n",
       "</table>\n",
       "</div>"
      ],
      "text/plain": [
       "              precision    recall  f1-score      support\n",
       "0              0.971064  0.814418  0.885870  1401.000000\n",
       "1              0.097222  0.451613  0.160000    62.000000\n",
       "accuracy       0.799043  0.799043  0.799043     0.799043\n",
       "macro avg      0.534143  0.633016  0.522935  1463.000000\n",
       "weighted avg   0.934032  0.799043  0.855108  1463.000000"
      ]
     },
     "execution_count": 231,
     "metadata": {},
     "output_type": "execute_result"
    }
   ],
   "source": [
    "y_pred = DT_pipeline.predict(X_test)\n",
    "pd.DataFrame(classification_report(y_test, y_pred, output_dict=True)).T\n"
   ]
  },
  {
   "cell_type": "markdown",
   "metadata": {},
   "source": [
    "Random Forest."
   ]
  },
  {
   "cell_type": "code",
   "execution_count": 232,
   "metadata": {},
   "outputs": [
    {
     "data": {
      "text/html": [
       "<div>\n",
       "<style scoped>\n",
       "    .dataframe tbody tr th:only-of-type {\n",
       "        vertical-align: middle;\n",
       "    }\n",
       "\n",
       "    .dataframe tbody tr th {\n",
       "        vertical-align: top;\n",
       "    }\n",
       "\n",
       "    .dataframe thead th {\n",
       "        text-align: right;\n",
       "    }\n",
       "</style>\n",
       "<table border=\"1\" class=\"dataframe\">\n",
       "  <thead>\n",
       "    <tr style=\"text-align: right;\">\n",
       "      <th></th>\n",
       "      <th>precision</th>\n",
       "      <th>recall</th>\n",
       "      <th>f1-score</th>\n",
       "      <th>support</th>\n",
       "    </tr>\n",
       "  </thead>\n",
       "  <tbody>\n",
       "    <tr>\n",
       "      <th>0</th>\n",
       "      <td>0.957505</td>\n",
       "      <td>0.997145</td>\n",
       "      <td>0.976923</td>\n",
       "      <td>1401.000000</td>\n",
       "    </tr>\n",
       "    <tr>\n",
       "      <th>1</th>\n",
       "      <td>0.000000</td>\n",
       "      <td>0.000000</td>\n",
       "      <td>0.000000</td>\n",
       "      <td>62.000000</td>\n",
       "    </tr>\n",
       "    <tr>\n",
       "      <th>accuracy</th>\n",
       "      <td>0.954887</td>\n",
       "      <td>0.954887</td>\n",
       "      <td>0.954887</td>\n",
       "      <td>0.954887</td>\n",
       "    </tr>\n",
       "    <tr>\n",
       "      <th>macro avg</th>\n",
       "      <td>0.478753</td>\n",
       "      <td>0.498572</td>\n",
       "      <td>0.488462</td>\n",
       "      <td>1463.000000</td>\n",
       "    </tr>\n",
       "    <tr>\n",
       "      <th>weighted avg</th>\n",
       "      <td>0.916927</td>\n",
       "      <td>0.954887</td>\n",
       "      <td>0.935522</td>\n",
       "      <td>1463.000000</td>\n",
       "    </tr>\n",
       "  </tbody>\n",
       "</table>\n",
       "</div>"
      ],
      "text/plain": [
       "              precision    recall  f1-score      support\n",
       "0              0.957505  0.997145  0.976923  1401.000000\n",
       "1              0.000000  0.000000  0.000000    62.000000\n",
       "accuracy       0.954887  0.954887  0.954887     0.954887\n",
       "macro avg      0.478753  0.498572  0.488462  1463.000000\n",
       "weighted avg   0.916927  0.954887  0.935522  1463.000000"
      ]
     },
     "execution_count": 232,
     "metadata": {},
     "output_type": "execute_result"
    }
   ],
   "source": [
    "y_pred = RF_pipeline.predict(X_test)\n",
    "pd.DataFrame(classification_report(y_test, y_pred, output_dict=True)).T\n"
   ]
  },
  {
   "cell_type": "markdown",
   "metadata": {},
   "source": [
    "SVC"
   ]
  },
  {
   "cell_type": "code",
   "execution_count": 233,
   "metadata": {},
   "outputs": [
    {
     "data": {
      "text/html": [
       "<div>\n",
       "<style scoped>\n",
       "    .dataframe tbody tr th:only-of-type {\n",
       "        vertical-align: middle;\n",
       "    }\n",
       "\n",
       "    .dataframe tbody tr th {\n",
       "        vertical-align: top;\n",
       "    }\n",
       "\n",
       "    .dataframe thead th {\n",
       "        text-align: right;\n",
       "    }\n",
       "</style>\n",
       "<table border=\"1\" class=\"dataframe\">\n",
       "  <thead>\n",
       "    <tr style=\"text-align: right;\">\n",
       "      <th></th>\n",
       "      <th>precision</th>\n",
       "      <th>recall</th>\n",
       "      <th>f1-score</th>\n",
       "      <th>support</th>\n",
       "    </tr>\n",
       "  </thead>\n",
       "  <tbody>\n",
       "    <tr>\n",
       "      <th>0</th>\n",
       "      <td>0.957259</td>\n",
       "      <td>0.927195</td>\n",
       "      <td>0.941987</td>\n",
       "      <td>1401.000000</td>\n",
       "    </tr>\n",
       "    <tr>\n",
       "      <th>1</th>\n",
       "      <td>0.037736</td>\n",
       "      <td>0.064516</td>\n",
       "      <td>0.047619</td>\n",
       "      <td>62.000000</td>\n",
       "    </tr>\n",
       "    <tr>\n",
       "      <th>accuracy</th>\n",
       "      <td>0.890636</td>\n",
       "      <td>0.890636</td>\n",
       "      <td>0.890636</td>\n",
       "      <td>0.890636</td>\n",
       "    </tr>\n",
       "    <tr>\n",
       "      <th>macro avg</th>\n",
       "      <td>0.497497</td>\n",
       "      <td>0.495855</td>\n",
       "      <td>0.494803</td>\n",
       "      <td>1463.000000</td>\n",
       "    </tr>\n",
       "    <tr>\n",
       "      <th>weighted avg</th>\n",
       "      <td>0.918291</td>\n",
       "      <td>0.890636</td>\n",
       "      <td>0.904085</td>\n",
       "      <td>1463.000000</td>\n",
       "    </tr>\n",
       "  </tbody>\n",
       "</table>\n",
       "</div>"
      ],
      "text/plain": [
       "              precision    recall  f1-score      support\n",
       "0              0.957259  0.927195  0.941987  1401.000000\n",
       "1              0.037736  0.064516  0.047619    62.000000\n",
       "accuracy       0.890636  0.890636  0.890636     0.890636\n",
       "macro avg      0.497497  0.495855  0.494803  1463.000000\n",
       "weighted avg   0.918291  0.890636  0.904085  1463.000000"
      ]
     },
     "execution_count": 233,
     "metadata": {},
     "output_type": "execute_result"
    }
   ],
   "source": [
    "y_pred = svc_pipeline.predict(X_test)\n",
    "pd.DataFrame(classification_report(y_test, y_pred, output_dict=True)).T\n"
   ]
  },
  {
   "cell_type": "markdown",
   "metadata": {},
   "source": [
    "Hyperparameter tuning did not help with prediction. In fact, performance on the test set was even worse."
   ]
  },
  {
   "cell_type": "markdown",
   "metadata": {},
   "source": [
    "**ENSEMBLING**"
   ]
  },
  {
   "cell_type": "code",
   "execution_count": 252,
   "metadata": {},
   "outputs": [
    {
     "name": "stdout",
     "output_type": "stream",
     "text": [
      "The accuracy for ensembled model is: 0.9528366370471634\n",
      "The cross validated score is 0.954586334645247\n"
     ]
    }
   ],
   "source": [
    "X_train = preprocessor.fit_transform(X_train)\n",
    "X_test = preprocessor.transform(X_test)\n",
    "ensemble_lin_rbf = VotingClassifier(\n",
    "    estimators=[\n",
    "        (\n",
    "            \"RBF\",\n",
    "            SVC(\n",
    "                probability=True,\n",
    "                kernel=\"rbf\",\n",
    "                C=1.0,\n",
    "                gamma=1.0,\n",
    "                class_weight=\"balanced\",\n",
    "            ),\n",
    "        ),\n",
    "        (\n",
    "            \"DT\",\n",
    "            DecisionTreeClassifier(\n",
    "                max_depth=9,\n",
    "                min_samples_leaf=1,\n",
    "                min_samples_split=5,\n",
    "                class_weight=\"balanced\",\n",
    "            ),\n",
    "        ),\n",
    "        (\"RF\", RandomForestClassifier(class_weight=\"balanced\")),\n",
    "    ],\n",
    "    voting=\"soft\",\n",
    ").fit(X_train, y_train)\n",
    "print(\"The accuracy for ensembled model is:\", ensemble_lin_rbf.score(X_test, y_test))\n",
    "cross = cross_val_score(ensemble_lin_rbf, X_train, y_train, cv=6, scoring=\"accuracy\")\n",
    "print(\"The cross validated score is\", cross.mean())"
   ]
  },
  {
   "cell_type": "code",
   "execution_count": 253,
   "metadata": {},
   "outputs": [
    {
     "data": {
      "text/html": [
       "<div>\n",
       "<style scoped>\n",
       "    .dataframe tbody tr th:only-of-type {\n",
       "        vertical-align: middle;\n",
       "    }\n",
       "\n",
       "    .dataframe tbody tr th {\n",
       "        vertical-align: top;\n",
       "    }\n",
       "\n",
       "    .dataframe thead th {\n",
       "        text-align: right;\n",
       "    }\n",
       "</style>\n",
       "<table border=\"1\" class=\"dataframe\">\n",
       "  <thead>\n",
       "    <tr style=\"text-align: right;\">\n",
       "      <th></th>\n",
       "      <th>precision</th>\n",
       "      <th>recall</th>\n",
       "      <th>f1-score</th>\n",
       "      <th>support</th>\n",
       "    </tr>\n",
       "  </thead>\n",
       "  <tbody>\n",
       "    <tr>\n",
       "      <th>0</th>\n",
       "      <td>0.957476</td>\n",
       "      <td>0.996431</td>\n",
       "      <td>0.976565</td>\n",
       "      <td>1401.000000</td>\n",
       "    </tr>\n",
       "    <tr>\n",
       "      <th>1</th>\n",
       "      <td>0.000000</td>\n",
       "      <td>0.000000</td>\n",
       "      <td>0.000000</td>\n",
       "      <td>62.000000</td>\n",
       "    </tr>\n",
       "    <tr>\n",
       "      <th>accuracy</th>\n",
       "      <td>0.954204</td>\n",
       "      <td>0.954204</td>\n",
       "      <td>0.954204</td>\n",
       "      <td>0.954204</td>\n",
       "    </tr>\n",
       "    <tr>\n",
       "      <th>macro avg</th>\n",
       "      <td>0.478738</td>\n",
       "      <td>0.498216</td>\n",
       "      <td>0.488283</td>\n",
       "      <td>1463.000000</td>\n",
       "    </tr>\n",
       "    <tr>\n",
       "      <th>weighted avg</th>\n",
       "      <td>0.916899</td>\n",
       "      <td>0.954204</td>\n",
       "      <td>0.935180</td>\n",
       "      <td>1463.000000</td>\n",
       "    </tr>\n",
       "  </tbody>\n",
       "</table>\n",
       "</div>"
      ],
      "text/plain": [
       "              precision    recall  f1-score      support\n",
       "0              0.957476  0.996431  0.976565  1401.000000\n",
       "1              0.000000  0.000000  0.000000    62.000000\n",
       "accuracy       0.954204  0.954204  0.954204     0.954204\n",
       "macro avg      0.478738  0.498216  0.488283  1463.000000\n",
       "weighted avg   0.916899  0.954204  0.935180  1463.000000"
      ]
     },
     "execution_count": 253,
     "metadata": {},
     "output_type": "execute_result"
    }
   ],
   "source": [
    "y_pred = calculate_predictions(ensemble_lin_rbf, X_train, X_test, y_train)\n",
    "pd.DataFrame(classification_report(y_test, y_pred, output_dict=True)).T\n"
   ]
  },
  {
   "cell_type": "markdown",
   "metadata": {},
   "source": [
    "Ensembled method performed terrible in positive class prediction."
   ]
  },
  {
   "cell_type": "markdown",
   "metadata": {},
   "source": [
    "**XGBoost.**"
   ]
  },
  {
   "cell_type": "code",
   "execution_count": 254,
   "metadata": {},
   "outputs": [
    {
     "name": "stdout",
     "output_type": "stream",
     "text": [
      "The cross validated score for XGBoost is: 0.8319329754377875\n"
     ]
    }
   ],
   "source": [
    "xgboost = xg.XGBClassifier(n_estimators=30, learning_rate=0.1)\n",
    "result = cross_val_score(xgboost, X_train, y_train, cv=10, scoring=\"roc_auc\")\n",
    "print(\"The cross validated score for XGBoost is:\", result.mean())\n"
   ]
  },
  {
   "cell_type": "code",
   "execution_count": 255,
   "metadata": {},
   "outputs": [
    {
     "data": {
      "text/html": [
       "<div>\n",
       "<style scoped>\n",
       "    .dataframe tbody tr th:only-of-type {\n",
       "        vertical-align: middle;\n",
       "    }\n",
       "\n",
       "    .dataframe tbody tr th {\n",
       "        vertical-align: top;\n",
       "    }\n",
       "\n",
       "    .dataframe thead th {\n",
       "        text-align: right;\n",
       "    }\n",
       "</style>\n",
       "<table border=\"1\" class=\"dataframe\">\n",
       "  <thead>\n",
       "    <tr style=\"text-align: right;\">\n",
       "      <th></th>\n",
       "      <th>precision</th>\n",
       "      <th>recall</th>\n",
       "      <th>f1-score</th>\n",
       "      <th>support</th>\n",
       "    </tr>\n",
       "  </thead>\n",
       "  <tbody>\n",
       "    <tr>\n",
       "      <th>0</th>\n",
       "      <td>0.959450</td>\n",
       "      <td>0.996431</td>\n",
       "      <td>0.977591</td>\n",
       "      <td>1401.000000</td>\n",
       "    </tr>\n",
       "    <tr>\n",
       "      <th>1</th>\n",
       "      <td>0.375000</td>\n",
       "      <td>0.048387</td>\n",
       "      <td>0.085714</td>\n",
       "      <td>62.000000</td>\n",
       "    </tr>\n",
       "    <tr>\n",
       "      <th>accuracy</th>\n",
       "      <td>0.956254</td>\n",
       "      <td>0.956254</td>\n",
       "      <td>0.956254</td>\n",
       "      <td>0.956254</td>\n",
       "    </tr>\n",
       "    <tr>\n",
       "      <th>macro avg</th>\n",
       "      <td>0.667225</td>\n",
       "      <td>0.522409</td>\n",
       "      <td>0.531653</td>\n",
       "      <td>1463.000000</td>\n",
       "    </tr>\n",
       "    <tr>\n",
       "      <th>weighted avg</th>\n",
       "      <td>0.934682</td>\n",
       "      <td>0.956254</td>\n",
       "      <td>0.939794</td>\n",
       "      <td>1463.000000</td>\n",
       "    </tr>\n",
       "  </tbody>\n",
       "</table>\n",
       "</div>"
      ],
      "text/plain": [
       "              precision    recall  f1-score      support\n",
       "0              0.959450  0.996431  0.977591  1401.000000\n",
       "1              0.375000  0.048387  0.085714    62.000000\n",
       "accuracy       0.956254  0.956254  0.956254     0.956254\n",
       "macro avg      0.667225  0.522409  0.531653  1463.000000\n",
       "weighted avg   0.934682  0.956254  0.939794  1463.000000"
      ]
     },
     "execution_count": 255,
     "metadata": {},
     "output_type": "execute_result"
    }
   ],
   "source": [
    "y_pred = calculate_predictions(xgboost, X_train, X_test, y_train)\n",
    "pd.DataFrame(classification_report(y_test, y_pred, output_dict=True)).T\n"
   ]
  },
  {
   "cell_type": "code",
   "execution_count": 257,
   "metadata": {},
   "outputs": [
    {
     "data": {
      "image/png": "[encoded data removed]",
      "text/plain": [
       "<Figure size 432x288 with 2 Axes>"
      ]
     },
     "metadata": {
      "needs_background": "light"
     },
     "output_type": "display_data"
    }
   ],
   "source": [
    "y_pred = cross_val_predict(xgboost, X_test, y_test, cv=6)\n",
    "sns.heatmap(confusion_matrix(y_test, y_pred), annot=True, fmt=\"2.0f\");"
   ]
  },
  {
   "cell_type": "code",
   "execution_count": 258,
   "metadata": {},
   "outputs": [
    {
     "name": "stdout",
     "output_type": "stream",
     "text": [
      "Estimate: 22.442\n"
     ]
    }
   ],
   "source": [
    "counter = Counter(y)\n",
    "estimate = counter[0] / counter[1]\n",
    "print(\"Estimate: %.3f\" % estimate)"
   ]
  },
  {
   "cell_type": "code",
   "execution_count": 259,
   "metadata": {},
   "outputs": [
    {
     "name": "stdout",
     "output_type": "stream",
     "text": [
      "Fitting 5 folds for each of 25 candidates, totalling 125 fits\n",
      "Best parameters: {'subsample': 0.5, 'scale_pos_weight': 17, 'n_estimators': 100, 'max_depth': 3, 'learning_rate': 0.01, 'colsample_bytree': 0.7, 'colsample_bylevel': 0.6}\n"
     ]
    }
   ],
   "source": [
    "params = {\n",
    "    \"max_depth\": [3, 5, 6, 10, 15, 20],\n",
    "    \"learning_rate\": [0.01, 0.1, 0.2, 0.3],\n",
    "    \"subsample\": np.arange(0.5, 1.0, 0.1),\n",
    "    \"colsample_bytree\": np.arange(0.4, 1.0, 0.1),\n",
    "    \"colsample_bylevel\": np.arange(0.4, 1.0, 0.1),\n",
    "    \"n_estimators\": [100, 500, 1000],\n",
    "    \"scale_pos_weight\": [17, 17.5, 18, 18.5, 19, 22.442, 40, 60, 100],\n",
    "}\n",
    "xgbr = xg.XGBClassifier()\n",
    "clf = RandomizedSearchCV(\n",
    "    estimator=xgbr,\n",
    "    param_distributions=params,\n",
    "    scoring=\"roc_auc\",\n",
    "    n_iter=25,\n",
    "    verbose=1,\n",
    "    random_state=0,\n",
    ")\n",
    "clf.fit(X_train, y_train)\n",
    "print(\"Best parameters:\", clf.best_params_)"
   ]
  },
  {
   "cell_type": "code",
   "execution_count": 260,
   "metadata": {},
   "outputs": [
    {
     "data": {
      "image/png": "[encoded data removed]",
      "text/plain": [
       "<Figure size 432x288 with 2 Axes>"
      ]
     },
     "metadata": {
      "needs_background": "light"
     },
     "output_type": "display_data"
    }
   ],
   "source": [
    "model = xg.XGBClassifier(\n",
    "    subsample=0.5,\n",
    "    n_estimators=100,\n",
    "    max_depth=3,\n",
    "    learning_rate=0.01,\n",
    "    colsample_bytree=0.7,\n",
    "    colsample_bylevel=0.6,\n",
    "    scale_pos_weight=18,\n",
    ")\n",
    "model.fit(X_train, y_train)\n",
    "y_pred = model.predict(X_test)\n",
    "sns.heatmap(confusion_matrix(y_test, y_pred), annot=True, fmt=\"2.0f\");"
   ]
  },
  {
   "cell_type": "code",
   "execution_count": 261,
   "metadata": {},
   "outputs": [
    {
     "data": {
      "text/html": [
       "<div>\n",
       "<style scoped>\n",
       "    .dataframe tbody tr th:only-of-type {\n",
       "        vertical-align: middle;\n",
       "    }\n",
       "\n",
       "    .dataframe tbody tr th {\n",
       "        vertical-align: top;\n",
       "    }\n",
       "\n",
       "    .dataframe thead th {\n",
       "        text-align: right;\n",
       "    }\n",
       "</style>\n",
       "<table border=\"1\" class=\"dataframe\">\n",
       "  <thead>\n",
       "    <tr style=\"text-align: right;\">\n",
       "      <th></th>\n",
       "      <th>precision</th>\n",
       "      <th>recall</th>\n",
       "      <th>f1-score</th>\n",
       "      <th>support</th>\n",
       "    </tr>\n",
       "  </thead>\n",
       "  <tbody>\n",
       "    <tr>\n",
       "      <th>0</th>\n",
       "      <td>0.991728</td>\n",
       "      <td>0.770164</td>\n",
       "      <td>0.867015</td>\n",
       "      <td>1401.000000</td>\n",
       "    </tr>\n",
       "    <tr>\n",
       "      <th>1</th>\n",
       "      <td>0.141333</td>\n",
       "      <td>0.854839</td>\n",
       "      <td>0.242563</td>\n",
       "      <td>62.000000</td>\n",
       "    </tr>\n",
       "    <tr>\n",
       "      <th>accuracy</th>\n",
       "      <td>0.773753</td>\n",
       "      <td>0.773753</td>\n",
       "      <td>0.773753</td>\n",
       "      <td>0.773753</td>\n",
       "    </tr>\n",
       "    <tr>\n",
       "      <th>macro avg</th>\n",
       "      <td>0.566531</td>\n",
       "      <td>0.812501</td>\n",
       "      <td>0.554789</td>\n",
       "      <td>1463.000000</td>\n",
       "    </tr>\n",
       "    <tr>\n",
       "      <th>weighted avg</th>\n",
       "      <td>0.955689</td>\n",
       "      <td>0.773753</td>\n",
       "      <td>0.840551</td>\n",
       "      <td>1463.000000</td>\n",
       "    </tr>\n",
       "  </tbody>\n",
       "</table>\n",
       "</div>"
      ],
      "text/plain": [
       "              precision    recall  f1-score      support\n",
       "0              0.991728  0.770164  0.867015  1401.000000\n",
       "1              0.141333  0.854839  0.242563    62.000000\n",
       "accuracy       0.773753  0.773753  0.773753     0.773753\n",
       "macro avg      0.566531  0.812501  0.554789  1463.000000\n",
       "weighted avg   0.955689  0.773753  0.840551  1463.000000"
      ]
     },
     "execution_count": 261,
     "metadata": {},
     "output_type": "execute_result"
    }
   ],
   "source": [
    "pd.DataFrame(classification_report(y_test, y_pred, output_dict=True)).T\n"
   ]
  },
  {
   "cell_type": "code",
   "execution_count": 262,
   "metadata": {},
   "outputs": [],
   "source": [
    "tx = preprocessor.get_params()[\"transformers\"]\n",
    "feature_names = []\n",
    "for name, transformer, features in tx:\n",
    "    try:\n",
    "        Var = preprocessor.named_transformers_[name].get_feature_names_out().tolist()\n",
    "    except AttributeError:\n",
    "        Var = features\n",
    "    feature_names = feature_names + Var"
   ]
  },
  {
   "cell_type": "code",
   "execution_count": 263,
   "metadata": {},
   "outputs": [
    {
     "data": {
      "image/png": "[encoded data removed]",
      "text/plain": [
       "<Figure size 576x684 with 2 Axes>"
      ]
     },
     "metadata": {
      "needs_background": "light"
     },
     "output_type": "display_data"
    }
   ],
   "source": [
    "explainer = shap.TreeExplainer(model)\n",
    "shap_values = explainer.shap_values(X_train)\n",
    "shap.summary_plot(shap_values, X_train, feature_names=feature_names)"
   ]
  },
  {
   "cell_type": "code",
   "execution_count": 245,
   "metadata": {},
   "outputs": [
    {
     "data": {
      "text/html": [
       "<style>#sk-container-id-1 {color: black;background-color: white;}#sk-container-id-1 pre{padding: 0;}#sk-container-id-1 div.sk-toggleable {background-color: white;}#sk-container-id-1 label.sk-toggleable__label {cursor: pointer;display: block;width: 100%;margin-bottom: 0;padding: 0.3em;box-sizing: border-box;text-align: center;}#sk-container-id-1 label.sk-toggleable__label-arrow:before {content: \"▸\";float: left;margin-right: 0.25em;color: #696969;}#sk-container-id-1 label.sk-toggleable__label-arrow:hover:before {color: black;}#sk-container-id-1 div.sk-estimator:hover label.sk-toggleable__label-arrow:before {color: black;}#sk-container-id-1 div.sk-toggleable__content {max-height: 0;max-width: 0;overflow: hidden;text-align: left;background-color: #f0f8ff;}#sk-container-id-1 div.sk-toggleable__content pre {margin: 0.2em;color: black;border-radius: 0.25em;background-color: #f0f8ff;}#sk-container-id-1 input.sk-toggleable__control:checked~div.sk-toggleable__content {max-height: 200px;max-width: 100%;overflow: auto;}#sk-container-id-1 input.sk-toggleable__control:checked~label.sk-toggleable__label-arrow:before {content: \"▾\";}#sk-container-id-1 div.sk-estimator input.sk-toggleable__control:checked~label.sk-toggleable__label {background-color: #d4ebff;}#sk-container-id-1 div.sk-label input.sk-toggleable__control:checked~label.sk-toggleable__label {background-color: #d4ebff;}#sk-container-id-1 input.sk-hidden--visually {border: 0;clip: rect(1px 1px 1px 1px);clip: rect(1px, 1px, 1px, 1px);height: 1px;margin: -1px;overflow: hidden;padding: 0;position: absolute;width: 1px;}#sk-container-id-1 div.sk-estimator {font-family: monospace;background-color: #f0f8ff;border: 1px dotted black;border-radius: 0.25em;box-sizing: border-box;margin-bottom: 0.5em;}#sk-container-id-1 div.sk-estimator:hover {background-color: #d4ebff;}#sk-container-id-1 div.sk-parallel-item::after {content: \"\";width: 100%;border-bottom: 1px solid gray;flex-grow: 1;}#sk-container-id-1 div.sk-label:hover label.sk-toggleable__label {background-color: #d4ebff;}#sk-container-id-1 div.sk-serial::before {content: \"\";position: absolute;border-left: 1px solid gray;box-sizing: border-box;top: 0;bottom: 0;left: 50%;z-index: 0;}#sk-container-id-1 div.sk-serial {display: flex;flex-direction: column;align-items: center;background-color: white;padding-right: 0.2em;padding-left: 0.2em;position: relative;}#sk-container-id-1 div.sk-item {position: relative;z-index: 1;}#sk-container-id-1 div.sk-parallel {display: flex;align-items: stretch;justify-content: center;background-color: white;position: relative;}#sk-container-id-1 div.sk-item::before, #sk-container-id-1 div.sk-parallel-item::before {content: \"\";position: absolute;border-left: 1px solid gray;box-sizing: border-box;top: 0;bottom: 0;left: 50%;z-index: -1;}#sk-container-id-1 div.sk-parallel-item {display: flex;flex-direction: column;z-index: 1;position: relative;background-color: white;}#sk-container-id-1 div.sk-parallel-item:first-child::after {align-self: flex-end;width: 50%;}#sk-container-id-1 div.sk-parallel-item:last-child::after {align-self: flex-start;width: 50%;}#sk-container-id-1 div.sk-parallel-item:only-child::after {width: 0;}#sk-container-id-1 div.sk-dashed-wrapped {border: 1px dashed gray;margin: 0 0.4em 0.5em 0.4em;box-sizing: border-box;padding-bottom: 0.4em;background-color: white;}#sk-container-id-1 div.sk-label label {font-family: monospace;font-weight: bold;display: inline-block;line-height: 1.2em;}#sk-container-id-1 div.sk-label-container {text-align: center;}#sk-container-id-1 div.sk-container {/* jupyter's `normalize.less` sets `[hidden] { display: none; }` but bootstrap.min.css set `[hidden] { display: none !important; }` so we also need the `!important` here to be able to override the default hidden behavior on the sphinx rendered scikit-learn.org. See: https://github.com/scikit-learn/scikit-learn/issues/21755 */display: inline-block !important;position: relative;}#sk-container-id-1 div.sk-text-repr-fallback {display: none;}</style><div id=\"sk-container-id-1\" class=\"sk-top-container\"><div class=\"sk-text-repr-fallback\"><pre>Pipeline(steps=[(&#x27;preprocessor&#x27;,\n",
       "                 ColumnTransformer(transformers=[(&#x27;num&#x27;, StandardScaler(),\n",
       "                                                  [&#x27;age&#x27;, &#x27;avg_glucose_level&#x27;,\n",
       "                                                   &#x27;bmi&#x27;]),\n",
       "                                                 (&#x27;cat&#x27;,\n",
       "                                                  OneHotEncoder(handle_unknown=&#x27;ignore&#x27;),\n",
       "                                                  [&#x27;gender&#x27;, &#x27;hypertension&#x27;,\n",
       "                                                   &#x27;heart_disease&#x27;,\n",
       "                                                   &#x27;ever_married&#x27;, &#x27;work_type&#x27;,\n",
       "                                                   &#x27;residence_type&#x27;,\n",
       "                                                   &#x27;smoking_status&#x27;])])),\n",
       "                (&#x27;model&#x27;,\n",
       "                 XGBClassifier(base_score=0.5, booster=&#x27;gbtree&#x27;, callbacks=None,\n",
       "                               cols...\n",
       "                               gamma=0, gpu_id=-1, grow_policy=&#x27;depthwise&#x27;,\n",
       "                               importance_type=None, interaction_constraints=&#x27;&#x27;,\n",
       "                               learning_rate=0.01, max_bin=256,\n",
       "                               max_cat_to_onehot=4, max_delta_step=0,\n",
       "                               max_depth=3, max_leaves=0, min_child_weight=1,\n",
       "                               missing=nan, monotone_constraints=&#x27;()&#x27;,\n",
       "                               n_estimators=100, n_jobs=0, num_parallel_tree=1,\n",
       "                               predictor=&#x27;auto&#x27;, random_state=0, reg_alpha=0,\n",
       "                               reg_lambda=1, ...))])</pre><b>In a Jupyter environment, please rerun this cell to show the HTML representation or trust the notebook. <br />On GitHub, the HTML representation is unable to render, please try loading this page with nbviewer.org.</b></div><div class=\"sk-container\" hidden><div class=\"sk-item sk-dashed-wrapped\"><div class=\"sk-label-container\"><div class=\"sk-label sk-toggleable\"><input class=\"sk-toggleable__control sk-hidden--visually\" id=\"sk-estimator-id-1\" type=\"checkbox\" ><label for=\"sk-estimator-id-1\" class=\"sk-toggleable__label sk-toggleable__label-arrow\">Pipeline</label><div class=\"sk-toggleable__content\"><pre>Pipeline(steps=[(&#x27;preprocessor&#x27;,\n",
       "                 ColumnTransformer(transformers=[(&#x27;num&#x27;, StandardScaler(),\n",
       "                                                  [&#x27;age&#x27;, &#x27;avg_glucose_level&#x27;,\n",
       "                                                   &#x27;bmi&#x27;]),\n",
       "                                                 (&#x27;cat&#x27;,\n",
       "                                                  OneHotEncoder(handle_unknown=&#x27;ignore&#x27;),\n",
       "                                                  [&#x27;gender&#x27;, &#x27;hypertension&#x27;,\n",
       "                                                   &#x27;heart_disease&#x27;,\n",
       "                                                   &#x27;ever_married&#x27;, &#x27;work_type&#x27;,\n",
       "                                                   &#x27;residence_type&#x27;,\n",
       "                                                   &#x27;smoking_status&#x27;])])),\n",
       "                (&#x27;model&#x27;,\n",
       "                 XGBClassifier(base_score=0.5, booster=&#x27;gbtree&#x27;, callbacks=None,\n",
       "                               cols...\n",
       "                               gamma=0, gpu_id=-1, grow_policy=&#x27;depthwise&#x27;,\n",
       "                               importance_type=None, interaction_constraints=&#x27;&#x27;,\n",
       "                               learning_rate=0.01, max_bin=256,\n",
       "                               max_cat_to_onehot=4, max_delta_step=0,\n",
       "                               max_depth=3, max_leaves=0, min_child_weight=1,\n",
       "                               missing=nan, monotone_constraints=&#x27;()&#x27;,\n",
       "                               n_estimators=100, n_jobs=0, num_parallel_tree=1,\n",
       "                               predictor=&#x27;auto&#x27;, random_state=0, reg_alpha=0,\n",
       "                               reg_lambda=1, ...))])</pre></div></div></div><div class=\"sk-serial\"><div class=\"sk-item sk-dashed-wrapped\"><div class=\"sk-label-container\"><div class=\"sk-label sk-toggleable\"><input class=\"sk-toggleable__control sk-hidden--visually\" id=\"sk-estimator-id-2\" type=\"checkbox\" ><label for=\"sk-estimator-id-2\" class=\"sk-toggleable__label sk-toggleable__label-arrow\">preprocessor: ColumnTransformer</label><div class=\"sk-toggleable__content\"><pre>ColumnTransformer(transformers=[(&#x27;num&#x27;, StandardScaler(),\n",
       "                                 [&#x27;age&#x27;, &#x27;avg_glucose_level&#x27;, &#x27;bmi&#x27;]),\n",
       "                                (&#x27;cat&#x27;, OneHotEncoder(handle_unknown=&#x27;ignore&#x27;),\n",
       "                                 [&#x27;gender&#x27;, &#x27;hypertension&#x27;, &#x27;heart_disease&#x27;,\n",
       "                                  &#x27;ever_married&#x27;, &#x27;work_type&#x27;, &#x27;residence_type&#x27;,\n",
       "                                  &#x27;smoking_status&#x27;])])</pre></div></div></div><div class=\"sk-parallel\"><div class=\"sk-parallel-item\"><div class=\"sk-item\"><div class=\"sk-label-container\"><div class=\"sk-label sk-toggleable\"><input class=\"sk-toggleable__control sk-hidden--visually\" id=\"sk-estimator-id-3\" type=\"checkbox\" ><label for=\"sk-estimator-id-3\" class=\"sk-toggleable__label sk-toggleable__label-arrow\">num</label><div class=\"sk-toggleable__content\"><pre>[&#x27;age&#x27;, &#x27;avg_glucose_level&#x27;, &#x27;bmi&#x27;]</pre></div></div></div><div class=\"sk-serial\"><div class=\"sk-item\"><div class=\"sk-estimator sk-toggleable\"><input class=\"sk-toggleable__control sk-hidden--visually\" id=\"sk-estimator-id-4\" type=\"checkbox\" ><label for=\"sk-estimator-id-4\" class=\"sk-toggleable__label sk-toggleable__label-arrow\">StandardScaler</label><div class=\"sk-toggleable__content\"><pre>StandardScaler()</pre></div></div></div></div></div></div><div class=\"sk-parallel-item\"><div class=\"sk-item\"><div class=\"sk-label-container\"><div class=\"sk-label sk-toggleable\"><input class=\"sk-toggleable__control sk-hidden--visually\" id=\"sk-estimator-id-5\" type=\"checkbox\" ><label for=\"sk-estimator-id-5\" class=\"sk-toggleable__label sk-toggleable__label-arrow\">cat</label><div class=\"sk-toggleable__content\"><pre>[&#x27;gender&#x27;, &#x27;hypertension&#x27;, &#x27;heart_disease&#x27;, &#x27;ever_married&#x27;, &#x27;work_type&#x27;, &#x27;residence_type&#x27;, &#x27;smoking_status&#x27;]</pre></div></div></div><div class=\"sk-serial\"><div class=\"sk-item\"><div class=\"sk-estimator sk-toggleable\"><input class=\"sk-toggleable__control sk-hidden--visually\" id=\"sk-estimator-id-6\" type=\"checkbox\" ><label for=\"sk-estimator-id-6\" class=\"sk-toggleable__label sk-toggleable__label-arrow\">OneHotEncoder</label><div class=\"sk-toggleable__content\"><pre>OneHotEncoder(handle_unknown=&#x27;ignore&#x27;)</pre></div></div></div></div></div></div></div></div><div class=\"sk-item\"><div class=\"sk-estimator sk-toggleable\"><input class=\"sk-toggleable__control sk-hidden--visually\" id=\"sk-estimator-id-7\" type=\"checkbox\" ><label for=\"sk-estimator-id-7\" class=\"sk-toggleable__label sk-toggleable__label-arrow\">XGBClassifier</label><div class=\"sk-toggleable__content\"><pre>XGBClassifier(base_score=0.5, booster=&#x27;gbtree&#x27;, callbacks=None,\n",
       "              colsample_bylevel=0.6, colsample_bynode=1, colsample_bytree=0.7,\n",
       "              early_stopping_rounds=None, enable_categorical=False,\n",
       "              eval_metric=None, gamma=0, gpu_id=-1, grow_policy=&#x27;depthwise&#x27;,\n",
       "              importance_type=None, interaction_constraints=&#x27;&#x27;,\n",
       "              learning_rate=0.01, max_bin=256, max_cat_to_onehot=4,\n",
       "              max_delta_step=0, max_depth=3, max_leaves=0, min_child_weight=1,\n",
       "              missing=nan, monotone_constraints=&#x27;()&#x27;, n_estimators=100,\n",
       "              n_jobs=0, num_parallel_tree=1, predictor=&#x27;auto&#x27;, random_state=0,\n",
       "              reg_alpha=0, reg_lambda=1, ...)</pre></div></div></div></div></div></div></div>"
      ],
      "text/plain": [
       "Pipeline(steps=[('preprocessor',\n",
       "                 ColumnTransformer(transformers=[('num', StandardScaler(),\n",
       "                                                  ['age', 'avg_glucose_level',\n",
       "                                                   'bmi']),\n",
       "                                                 ('cat',\n",
       "                                                  OneHotEncoder(handle_unknown='ignore'),\n",
       "                                                  ['gender', 'hypertension',\n",
       "                                                   'heart_disease',\n",
       "                                                   'ever_married', 'work_type',\n",
       "                                                   'residence_type',\n",
       "                                                   'smoking_status'])])),\n",
       "                ('model',\n",
       "                 XGBClassifier(base_score=0.5, booster='gbtree', callbacks=None,\n",
       "                               cols...\n",
       "                               gamma=0, gpu_id=-1, grow_policy='depthwise',\n",
       "                               importance_type=None, interaction_constraints='',\n",
       "                               learning_rate=0.01, max_bin=256,\n",
       "                               max_cat_to_onehot=4, max_delta_step=0,\n",
       "                               max_depth=3, max_leaves=0, min_child_weight=1,\n",
       "                               missing=nan, monotone_constraints='()',\n",
       "                               n_estimators=100, n_jobs=0, num_parallel_tree=1,\n",
       "                               predictor='auto', random_state=0, reg_alpha=0,\n",
       "                               reg_lambda=1, ...))])"
      ]
     },
     "execution_count": 245,
     "metadata": {},
     "output_type": "execute_result"
    }
   ],
   "source": [
    "X = data.iloc[:, 0:-1]\n",
    "y = data.iloc[:, -1].replace({\"Yes\": 1, \"No\": 0})\n",
    "\n",
    "numeric_features = [\"age\", \"avg_glucose_level\", \"bmi\"]\n",
    "numeric_transformer = StandardScaler()\n",
    "\n",
    "categorical_features = [\n",
    "    \"gender\",\n",
    "    \"hypertension\",\n",
    "    \"heart_disease\",\n",
    "    \"ever_married\",\n",
    "    \"work_type\",\n",
    "    \"residence_type\",\n",
    "    \"smoking_status\",\n",
    "]\n",
    "categorical_transformer = OneHotEncoder(handle_unknown=\"ignore\")\n",
    "\n",
    "preprocessor = ColumnTransformer(\n",
    "    transformers=[\n",
    "        (\"num\", numeric_transformer, numeric_features),\n",
    "        (\"cat\", categorical_transformer, categorical_features),\n",
    "    ]\n",
    ")\n",
    "\n",
    "X_train, X_test, y_train, y_test = train_test_split(\n",
    "    X, y, test_size=0.3, random_state=0, stratify=y\n",
    ")\n",
    "\n",
    "best_model = Pipeline([(\"preprocessor\", preprocessor), (\"model\", model)])\n",
    "best_model.fit(X_train, y_train)"
   ]
  },
  {
   "cell_type": "code",
   "execution_count": 287,
   "metadata": {},
   "outputs": [],
   "source": [
    "with open(\"pipeline_stroke_pred.pkl\", \"wb\") as f:\n",
    "    pickle.dump(best_model, f)"
   ]
  },
  {
   "cell_type": "markdown",
   "metadata": {},
   "source": [
    "----"
   ]
  },
  {
   "cell_type": "markdown",
   "metadata": {},
   "source": [
    "### Changing all features to be categorical"
   ]
  },
  {
   "cell_type": "code",
   "execution_count": 264,
   "metadata": {},
   "outputs": [],
   "source": [
    "categorical_data = data.dropna(axis=0)\n"
   ]
  },
  {
   "cell_type": "code",
   "execution_count": 265,
   "metadata": {},
   "outputs": [
    {
     "data": {
      "text/html": [
       "<style type=\"text/css\">\n",
       "#T_c8ca0_row0_col0 {\n",
       "  background-color: #008066;\n",
       "  color: #f1f1f1;\n",
       "}\n",
       "#T_c8ca0_row1_col0 {\n",
       "  background-color: #ffff66;\n",
       "  color: #000000;\n",
       "}\n",
       "#T_c8ca0_row2_col0 {\n",
       "  background-color: #0f8766;\n",
       "  color: #f1f1f1;\n",
       "}\n",
       "#T_c8ca0_row3_col0 {\n",
       "  background-color: #fefe66;\n",
       "  color: #000000;\n",
       "}\n",
       "#T_c8ca0_row4_col0 {\n",
       "  background-color: #148a66;\n",
       "  color: #f1f1f1;\n",
       "}\n",
       "#T_c8ca0_row5_col0 {\n",
       "  background-color: #f5fa66;\n",
       "  color: #000000;\n",
       "}\n",
       "#T_c8ca0_row6_col0 {\n",
       "  background-color: #269266;\n",
       "  color: #f1f1f1;\n",
       "}\n",
       "#T_c8ca0_row7_col0 {\n",
       "  background-color: #e2f066;\n",
       "  color: #000000;\n",
       "}\n",
       "</style>\n",
       "<table id=\"T_c8ca0\">\n",
       "  <thead>\n",
       "    <tr>\n",
       "      <th class=\"blank\" >&nbsp;</th>\n",
       "      <th class=\"blank level0\" >&nbsp;</th>\n",
       "      <th id=\"T_c8ca0_level0_col0\" class=\"col_heading level0 col0\" >stroke</th>\n",
       "    </tr>\n",
       "    <tr>\n",
       "      <th class=\"index_name level0\" >age_range</th>\n",
       "      <th class=\"index_name level1\" >stroke</th>\n",
       "      <th class=\"blank col0\" >&nbsp;</th>\n",
       "    </tr>\n",
       "  </thead>\n",
       "  <tbody>\n",
       "    <tr>\n",
       "      <th id=\"T_c8ca0_level0_row0\" class=\"row_heading level0 row0\" rowspan=\"2\">(0.079, 25.0]</th>\n",
       "      <th id=\"T_c8ca0_level1_row0\" class=\"row_heading level1 row0\" >No</th>\n",
       "      <td id=\"T_c8ca0_row0_col0\" class=\"data row0 col0\" >1258</td>\n",
       "    </tr>\n",
       "    <tr>\n",
       "      <th id=\"T_c8ca0_level1_row1\" class=\"row_heading level1 row1\" >Yes</th>\n",
       "      <td id=\"T_c8ca0_row1_col0\" class=\"data row1 col0\" >1</td>\n",
       "    </tr>\n",
       "    <tr>\n",
       "      <th id=\"T_c8ca0_level0_row2\" class=\"row_heading level0 row2\" rowspan=\"2\">(25.0, 44.0]</th>\n",
       "      <th id=\"T_c8ca0_level1_row2\" class=\"row_heading level1 row2\" >No</th>\n",
       "      <td id=\"T_c8ca0_row2_col0\" class=\"data row2 col0\" >1183</td>\n",
       "    </tr>\n",
       "    <tr>\n",
       "      <th id=\"T_c8ca0_level1_row3\" class=\"row_heading level1 row3\" >Yes</th>\n",
       "      <td id=\"T_c8ca0_row3_col0\" class=\"data row3 col0\" >7</td>\n",
       "    </tr>\n",
       "    <tr>\n",
       "      <th id=\"T_c8ca0_level0_row4\" class=\"row_heading level0 row4\" rowspan=\"2\">(44.0, 60.0]</th>\n",
       "      <th id=\"T_c8ca0_level1_row4\" class=\"row_heading level1 row4\" >No</th>\n",
       "      <td id=\"T_c8ca0_row4_col0\" class=\"data row4 col0\" >1159</td>\n",
       "    </tr>\n",
       "    <tr>\n",
       "      <th id=\"T_c8ca0_level1_row5\" class=\"row_heading level1 row5\" >Yes</th>\n",
       "      <td id=\"T_c8ca0_row5_col0\" class=\"data row5 col0\" >54</td>\n",
       "    </tr>\n",
       "    <tr>\n",
       "      <th id=\"T_c8ca0_level0_row6\" class=\"row_heading level0 row6\" rowspan=\"2\">(60.0, 82.0]</th>\n",
       "      <th id=\"T_c8ca0_level1_row6\" class=\"row_heading level1 row6\" >No</th>\n",
       "      <td id=\"T_c8ca0_row6_col0\" class=\"data row6 col0\" >1068</td>\n",
       "    </tr>\n",
       "    <tr>\n",
       "      <th id=\"T_c8ca0_level1_row7\" class=\"row_heading level1 row7\" >Yes</th>\n",
       "      <td id=\"T_c8ca0_row7_col0\" class=\"data row7 col0\" >146</td>\n",
       "    </tr>\n",
       "  </tbody>\n",
       "</table>\n"
      ],
      "text/plain": [
       "<pandas.io.formats.style.Styler at 0x254e324c8e0>"
      ]
     },
     "execution_count": 265,
     "metadata": {},
     "output_type": "execute_result"
    }
   ],
   "source": [
    "categorical_data[\"age_range\"] = pd.qcut(categorical_data[\"age\"], 4)\n",
    "categorical_data.groupby([\"age_range\"])[\n",
    "    \"stroke\"\n",
    "].value_counts().to_frame().style.background_gradient(cmap=\"summer_r\")\n"
   ]
  },
  {
   "cell_type": "code",
   "execution_count": 266,
   "metadata": {},
   "outputs": [],
   "source": [
    "categorical_data[\"age_cat\"] = 0\n",
    "categorical_data.loc[categorical_data[\"age\"] <= 25, \"age_cat\"] = \"young_adults\"\n",
    "categorical_data.loc[\n",
    "    (categorical_data[\"age\"] > 25) & (categorical_data[\"age\"] <= 44),\n",
    "    \"age_cat\",\n",
    "] = \"adults\"\n",
    "categorical_data.loc[\n",
    "    (categorical_data[\"age\"] > 44) & (categorical_data[\"age\"] <= 60),\n",
    "    \"age_cat\",\n",
    "] = \"mature_adults\"\n",
    "categorical_data.loc[\n",
    "    (categorical_data[\"age\"] > 60) & (categorical_data[\"age\"] <= 82),\n",
    "    \"age_cat\",\n",
    "] = \"elderly_people\""
   ]
  },
  {
   "cell_type": "code",
   "execution_count": 267,
   "metadata": {},
   "outputs": [],
   "source": [
    "categorical_data[\"bmi_cat\"] = 0\n",
    "categorical_data.loc[categorical_data.loc[:, \"bmi\"] < 18.5, \"bmi_cat\"] = \"underweight\"\n",
    "categorical_data.loc[\n",
    "    (categorical_data.loc[:, \"bmi\"] >= 18.5) & (categorical_data.loc[:, \"bmi\"] < 24.9),\n",
    "    \"bmi_cat\",\n",
    "] = \"normal\"\n",
    "categorical_data.loc[\n",
    "    (categorical_data.loc[:, \"bmi\"] >= 24.9) & (categorical_data.loc[:, \"bmi\"] < 29.9),\n",
    "    \"bmi_cat\",\n",
    "] = \"overweight\"\n",
    "categorical_data.loc[\n",
    "    (categorical_data.loc[:, \"bmi\"] >= 29.9) & (categorical_data.loc[:, \"bmi\"] < 34.9),\n",
    "    \"bmi_cat\",\n",
    "] = \"obese\"\n",
    "categorical_data.loc[\n",
    "    (categorical_data.loc[:, \"bmi\"] >= 34.9), \"bmi_cat\"\n",
    "] = \"extremely_obese\""
   ]
  },
  {
   "cell_type": "code",
   "execution_count": 268,
   "metadata": {},
   "outputs": [],
   "source": [
    "categorical_data[\"avg_glucose_level_cat\"] = 0\n",
    "categorical_data.loc[\n",
    "    categorical_data[\"avg_glucose_level\"] <= 99, \"avg_glucose_level_cat\"\n",
    "] = \"normal\"\n",
    "categorical_data.loc[\n",
    "    (categorical_data[\"avg_glucose_level\"] > 99)\n",
    "    & (categorical_data[\"avg_glucose_level\"] <= 125),\n",
    "    \"avg_glucose_level_cat\",\n",
    "] = \"prediabetes\"\n",
    "categorical_data.loc[\n",
    "    (categorical_data[\"avg_glucose_level\"] > 125), \"avg_glucose_level_cat\"\n",
    "] = \"diabetes\""
   ]
  },
  {
   "cell_type": "code",
   "execution_count": 269,
   "metadata": {},
   "outputs": [
    {
     "data": {
      "text/html": [
       "<div>\n",
       "<style scoped>\n",
       "    .dataframe tbody tr th:only-of-type {\n",
       "        vertical-align: middle;\n",
       "    }\n",
       "\n",
       "    .dataframe tbody tr th {\n",
       "        vertical-align: top;\n",
       "    }\n",
       "\n",
       "    .dataframe thead th {\n",
       "        text-align: right;\n",
       "    }\n",
       "</style>\n",
       "<table border=\"1\" class=\"dataframe\">\n",
       "  <thead>\n",
       "    <tr style=\"text-align: right;\">\n",
       "      <th></th>\n",
       "      <th>gender</th>\n",
       "      <th>age</th>\n",
       "      <th>hypertension</th>\n",
       "      <th>heart_disease</th>\n",
       "      <th>ever_married</th>\n",
       "      <th>work_type</th>\n",
       "      <th>residence_type</th>\n",
       "      <th>avg_glucose_level</th>\n",
       "      <th>bmi</th>\n",
       "      <th>smoking_status</th>\n",
       "      <th>stroke</th>\n",
       "      <th>age_range</th>\n",
       "      <th>age_cat</th>\n",
       "      <th>bmi_cat</th>\n",
       "      <th>avg_glucose_level_cat</th>\n",
       "    </tr>\n",
       "    <tr>\n",
       "      <th>id</th>\n",
       "      <th></th>\n",
       "      <th></th>\n",
       "      <th></th>\n",
       "      <th></th>\n",
       "      <th></th>\n",
       "      <th></th>\n",
       "      <th></th>\n",
       "      <th></th>\n",
       "      <th></th>\n",
       "      <th></th>\n",
       "      <th></th>\n",
       "      <th></th>\n",
       "      <th></th>\n",
       "      <th></th>\n",
       "      <th></th>\n",
       "    </tr>\n",
       "  </thead>\n",
       "  <tbody>\n",
       "    <tr>\n",
       "      <th>9046</th>\n",
       "      <td>Male</td>\n",
       "      <td>67.0</td>\n",
       "      <td>No</td>\n",
       "      <td>Yes</td>\n",
       "      <td>Yes</td>\n",
       "      <td>Private</td>\n",
       "      <td>Urban</td>\n",
       "      <td>228.69</td>\n",
       "      <td>36.6</td>\n",
       "      <td>formerly smoked</td>\n",
       "      <td>Yes</td>\n",
       "      <td>(60.0, 82.0]</td>\n",
       "      <td>elderly_people</td>\n",
       "      <td>extremely_obese</td>\n",
       "      <td>diabetes</td>\n",
       "    </tr>\n",
       "    <tr>\n",
       "      <th>31112</th>\n",
       "      <td>Male</td>\n",
       "      <td>80.0</td>\n",
       "      <td>No</td>\n",
       "      <td>Yes</td>\n",
       "      <td>Yes</td>\n",
       "      <td>Private</td>\n",
       "      <td>Rural</td>\n",
       "      <td>105.92</td>\n",
       "      <td>32.5</td>\n",
       "      <td>never smoked</td>\n",
       "      <td>Yes</td>\n",
       "      <td>(60.0, 82.0]</td>\n",
       "      <td>elderly_people</td>\n",
       "      <td>obese</td>\n",
       "      <td>prediabetes</td>\n",
       "    </tr>\n",
       "    <tr>\n",
       "      <th>60182</th>\n",
       "      <td>Female</td>\n",
       "      <td>49.0</td>\n",
       "      <td>No</td>\n",
       "      <td>No</td>\n",
       "      <td>Yes</td>\n",
       "      <td>Private</td>\n",
       "      <td>Urban</td>\n",
       "      <td>171.23</td>\n",
       "      <td>34.4</td>\n",
       "      <td>smokes</td>\n",
       "      <td>Yes</td>\n",
       "      <td>(44.0, 60.0]</td>\n",
       "      <td>mature_adults</td>\n",
       "      <td>obese</td>\n",
       "      <td>diabetes</td>\n",
       "    </tr>\n",
       "    <tr>\n",
       "      <th>1665</th>\n",
       "      <td>Female</td>\n",
       "      <td>79.0</td>\n",
       "      <td>Yes</td>\n",
       "      <td>No</td>\n",
       "      <td>Yes</td>\n",
       "      <td>Self-employed</td>\n",
       "      <td>Rural</td>\n",
       "      <td>174.12</td>\n",
       "      <td>24.0</td>\n",
       "      <td>never smoked</td>\n",
       "      <td>Yes</td>\n",
       "      <td>(60.0, 82.0]</td>\n",
       "      <td>elderly_people</td>\n",
       "      <td>normal</td>\n",
       "      <td>diabetes</td>\n",
       "    </tr>\n",
       "    <tr>\n",
       "      <th>56669</th>\n",
       "      <td>Male</td>\n",
       "      <td>81.0</td>\n",
       "      <td>No</td>\n",
       "      <td>No</td>\n",
       "      <td>Yes</td>\n",
       "      <td>Private</td>\n",
       "      <td>Urban</td>\n",
       "      <td>186.21</td>\n",
       "      <td>29.0</td>\n",
       "      <td>formerly smoked</td>\n",
       "      <td>Yes</td>\n",
       "      <td>(60.0, 82.0]</td>\n",
       "      <td>elderly_people</td>\n",
       "      <td>overweight</td>\n",
       "      <td>diabetes</td>\n",
       "    </tr>\n",
       "  </tbody>\n",
       "</table>\n",
       "</div>"
      ],
      "text/plain": [
       "       gender   age hypertension heart_disease ever_married      work_type  \\\n",
       "id                                                                           \n",
       "9046     Male  67.0           No           Yes          Yes        Private   \n",
       "31112    Male  80.0           No           Yes          Yes        Private   \n",
       "60182  Female  49.0           No            No          Yes        Private   \n",
       "1665   Female  79.0          Yes            No          Yes  Self-employed   \n",
       "56669    Male  81.0           No            No          Yes        Private   \n",
       "\n",
       "      residence_type  avg_glucose_level   bmi   smoking_status stroke  \\\n",
       "id                                                                      \n",
       "9046           Urban             228.69  36.6  formerly smoked    Yes   \n",
       "31112          Rural             105.92  32.5     never smoked    Yes   \n",
       "60182          Urban             171.23  34.4           smokes    Yes   \n",
       "1665           Rural             174.12  24.0     never smoked    Yes   \n",
       "56669          Urban             186.21  29.0  formerly smoked    Yes   \n",
       "\n",
       "          age_range         age_cat          bmi_cat avg_glucose_level_cat  \n",
       "id                                                                          \n",
       "9046   (60.0, 82.0]  elderly_people  extremely_obese              diabetes  \n",
       "31112  (60.0, 82.0]  elderly_people            obese           prediabetes  \n",
       "60182  (44.0, 60.0]   mature_adults            obese              diabetes  \n",
       "1665   (60.0, 82.0]  elderly_people           normal              diabetes  \n",
       "56669  (60.0, 82.0]  elderly_people       overweight              diabetes  "
      ]
     },
     "execution_count": 269,
     "metadata": {},
     "output_type": "execute_result"
    }
   ],
   "source": [
    "categorical_data.head()\n"
   ]
  },
  {
   "cell_type": "code",
   "execution_count": 270,
   "metadata": {},
   "outputs": [],
   "source": [
    "categorical_data.drop(\n",
    "    columns=[\"age\", \"avg_glucose_level\", \"bmi\"], axis=1, inplace=True\n",
    ")"
   ]
  },
  {
   "cell_type": "code",
   "execution_count": 271,
   "metadata": {},
   "outputs": [],
   "source": [
    "categorical_data = categorical_data.replace(\n",
    "    {\n",
    "        \"hypertension\": replace_values,\n",
    "        \"heart_disease\": replace_values,\n",
    "    }\n",
    ")"
   ]
  },
  {
   "cell_type": "code",
   "execution_count": 272,
   "metadata": {},
   "outputs": [],
   "source": [
    "categorical_data = categorical_data[\n",
    "    [\n",
    "        \"gender\",\n",
    "        \"hypertension\",\n",
    "        \"heart_disease\",\n",
    "        \"ever_married\",\n",
    "        \"work_type\",\n",
    "        \"residence_type\",\n",
    "        \"smoking_status\",\n",
    "        \"age_cat\",\n",
    "        \"bmi_cat\",\n",
    "        \"avg_glucose_level_cat\",\n",
    "        \"stroke\",\n",
    "    ]\n",
    "]"
   ]
  },
  {
   "cell_type": "code",
   "execution_count": 273,
   "metadata": {},
   "outputs": [],
   "source": [
    "categorical_data = categorical_data.astype(str)\n"
   ]
  },
  {
   "cell_type": "markdown",
   "metadata": {},
   "source": [
    "**CATBoost.**"
   ]
  },
  {
   "cell_type": "code",
   "execution_count": 274,
   "metadata": {},
   "outputs": [],
   "source": [
    "X = categorical_data.iloc[:, 0:-1]\n",
    "y = categorical_data.iloc[:, -1].replace({\"Yes\": 1, \"No\": 0})\n",
    "\n",
    "categorical_features_indices = np.where(X.dtypes != float)[0]\n",
    "\n",
    "X_train, X_test, y_train, y_test = train_test_split(\n",
    "    X, y, test_size=0.3, random_state=0, stratify=y\n",
    ")"
   ]
  },
  {
   "cell_type": "code",
   "execution_count": 275,
   "metadata": {},
   "outputs": [
    {
     "data": {
      "application/vnd.jupyter.widget-view+json": {
       "model_id": "ddcebea086104616a2207cda7da315ad",
       "version_major": 2,
       "version_minor": 0
      },
      "text/plain": [
       "MetricVisualizer(layout=Layout(align_self='stretch', height='500px'))"
      ]
     },
     "metadata": {},
     "output_type": "display_data"
    },
    {
     "data": {
      "text/plain": [
       "<catboost.core.CatBoostClassifier at 0x254deccd780>"
      ]
     },
     "execution_count": 275,
     "metadata": {},
     "output_type": "execute_result"
    }
   ],
   "source": [
    "from catboost import metrics\n",
    "\n",
    "catboost = CatBoostClassifier(\n",
    "    auto_class_weights=\"Balanced\",\n",
    "    verbose=False,\n",
    "    custom_loss=[metrics.AUC()],\n",
    "    random_seed=42,\n",
    ")\n",
    "catboost.fit(\n",
    "    X_train,\n",
    "    y_train,\n",
    "    cat_features=categorical_features_indices,\n",
    "    eval_set=(X_test, y_test),\n",
    "    plot=True,\n",
    ")"
   ]
  },
  {
   "cell_type": "code",
   "execution_count": 276,
   "metadata": {},
   "outputs": [
    {
     "data": {
      "application/vnd.jupyter.widget-view+json": {
       "model_id": "4c6f05bc797c42f4ae8b19f65147b6bf",
       "version_major": 2,
       "version_minor": 0
      },
      "text/plain": [
       "MetricVisualizer(layout=Layout(align_self='stretch', height='500px'))"
      ]
     },
     "metadata": {},
     "output_type": "display_data"
    },
    {
     "name": "stdout",
     "output_type": "stream",
     "text": [
      "Training on fold [0/3]\n",
      "\n",
      "bestTest = 0.498732859\n",
      "bestIteration = 187\n",
      "\n",
      "Training on fold [1/3]\n",
      "\n",
      "bestTest = 0.5387427052\n",
      "bestIteration = 113\n",
      "\n",
      "Training on fold [2/3]\n",
      "\n",
      "bestTest = 0.5314486778\n",
      "bestIteration = 188\n",
      "\n"
     ]
    }
   ],
   "source": [
    "cv_params = catboost.get_params()\n",
    "cv_params.update({\"loss_function\": metrics.Logloss()})\n",
    "cv_data = cv(\n",
    "    Pool(X, y, cat_features=categorical_features_indices), cv_params, plot=True\n",
    ")"
   ]
  },
  {
   "cell_type": "code",
   "execution_count": 277,
   "metadata": {},
   "outputs": [
    {
     "name": "stdout",
     "output_type": "stream",
     "text": [
      "Best validation AUC score: 0.82±0.02 on step 169\n"
     ]
    }
   ],
   "source": [
    "print(\n",
    "    \"Best validation AUC score: {:.2f}±{:.2f} on step {}\".format(\n",
    "        np.max(cv_data[\"test-AUC-mean\"]),\n",
    "        cv_data[\"test-AUC-std\"][np.argmax(cv_data[\"test-AUC-mean\"])],\n",
    "        np.argmax(cv_data[\"test-AUC-mean\"]),\n",
    "    )\n",
    ")"
   ]
  },
  {
   "cell_type": "code",
   "execution_count": 278,
   "metadata": {},
   "outputs": [
    {
     "data": {
      "text/html": [
       "<div>\n",
       "<style scoped>\n",
       "    .dataframe tbody tr th:only-of-type {\n",
       "        vertical-align: middle;\n",
       "    }\n",
       "\n",
       "    .dataframe tbody tr th {\n",
       "        vertical-align: top;\n",
       "    }\n",
       "\n",
       "    .dataframe thead th {\n",
       "        text-align: right;\n",
       "    }\n",
       "</style>\n",
       "<table border=\"1\" class=\"dataframe\">\n",
       "  <thead>\n",
       "    <tr style=\"text-align: right;\">\n",
       "      <th></th>\n",
       "      <th>precision</th>\n",
       "      <th>recall</th>\n",
       "      <th>f1-score</th>\n",
       "      <th>support</th>\n",
       "    </tr>\n",
       "  </thead>\n",
       "  <tbody>\n",
       "    <tr>\n",
       "      <th>0</th>\n",
       "      <td>0.992071</td>\n",
       "      <td>0.714490</td>\n",
       "      <td>0.830705</td>\n",
       "      <td>1401.000000</td>\n",
       "    </tr>\n",
       "    <tr>\n",
       "      <th>1</th>\n",
       "      <td>0.118943</td>\n",
       "      <td>0.870968</td>\n",
       "      <td>0.209302</td>\n",
       "      <td>62.000000</td>\n",
       "    </tr>\n",
       "    <tr>\n",
       "      <th>accuracy</th>\n",
       "      <td>0.721121</td>\n",
       "      <td>0.721121</td>\n",
       "      <td>0.721121</td>\n",
       "      <td>0.721121</td>\n",
       "    </tr>\n",
       "    <tr>\n",
       "      <th>macro avg</th>\n",
       "      <td>0.555507</td>\n",
       "      <td>0.792729</td>\n",
       "      <td>0.520004</td>\n",
       "      <td>1463.000000</td>\n",
       "    </tr>\n",
       "    <tr>\n",
       "      <th>weighted avg</th>\n",
       "      <td>0.955069</td>\n",
       "      <td>0.721121</td>\n",
       "      <td>0.804371</td>\n",
       "      <td>1463.000000</td>\n",
       "    </tr>\n",
       "  </tbody>\n",
       "</table>\n",
       "</div>"
      ],
      "text/plain": [
       "              precision    recall  f1-score      support\n",
       "0              0.992071  0.714490  0.830705  1401.000000\n",
       "1              0.118943  0.870968  0.209302    62.000000\n",
       "accuracy       0.721121  0.721121  0.721121     0.721121\n",
       "macro avg      0.555507  0.792729  0.520004  1463.000000\n",
       "weighted avg   0.955069  0.721121  0.804371  1463.000000"
      ]
     },
     "execution_count": 278,
     "metadata": {},
     "output_type": "execute_result"
    }
   ],
   "source": [
    "y_pred = catboost.predict(X_test)\n",
    "pd.DataFrame(classification_report(y_test, y_pred, output_dict=True)).T\n"
   ]
  },
  {
   "cell_type": "code",
   "execution_count": 279,
   "metadata": {},
   "outputs": [
    {
     "data": {
      "image/png": "[encoded data removed]",
      "text/plain": [
       "<Figure size 432x288 with 2 Axes>"
      ]
     },
     "metadata": {
      "needs_background": "light"
     },
     "output_type": "display_data"
    }
   ],
   "source": [
    "sns.heatmap(confusion_matrix(y_test, y_pred), annot=True, fmt=\"2.0f\");"
   ]
  },
  {
   "cell_type": "code",
   "execution_count": 280,
   "metadata": {},
   "outputs": [
    {
     "name": "stdout",
     "output_type": "stream",
     "text": [
      "Best parameters: {'scale_pos_weight': 16.5, 'learning_rate': 0.03, 'iterations': 70, 'depth': 8}\n"
     ]
    }
   ],
   "source": [
    "params = {\n",
    "    \"depth\": [4, 5, 6, 7, 8, 9, 10],\n",
    "    \"learning_rate\": [0.01, 0.02, 0.03, 0.04],\n",
    "    \"iterations\": [10, 20, 30, 40, 50, 60, 70, 80, 90, 100],\n",
    "    \"scale_pos_weight\": [10, 15, 16.5, 18, 20, 22.442, 25],\n",
    "}\n",
    "\n",
    "catb = CatBoostClassifier(\n",
    "    verbose=False, random_seed=42, cat_features=categorical_features_indices\n",
    ")\n",
    "clf = RandomizedSearchCV(\n",
    "    estimator=catb,\n",
    "    param_distributions=params,\n",
    "    scoring=\"roc_auc\",\n",
    "    n_iter=25,\n",
    ")\n",
    "clf.fit(X_train, y_train)\n",
    "print(\"Best parameters:\", clf.best_params_)"
   ]
  },
  {
   "cell_type": "code",
   "execution_count": 281,
   "metadata": {},
   "outputs": [
    {
     "name": "stdout",
     "output_type": "stream",
     "text": [
      "Best score: 0.7987622083137731\n"
     ]
    }
   ],
   "source": [
    "print(\"Best score:\", clf.best_score_)\n"
   ]
  },
  {
   "cell_type": "code",
   "execution_count": 282,
   "metadata": {},
   "outputs": [
    {
     "data": {
      "image/png": "[encoded data removed]",
      "text/plain": [
       "<Figure size 432x288 with 2 Axes>"
      ]
     },
     "metadata": {
      "needs_background": "light"
     },
     "output_type": "display_data"
    }
   ],
   "source": [
    "y_pred = clf.predict(X_test)\n",
    "sns.heatmap(confusion_matrix(y_test, y_pred), annot=True, fmt=\"2.0f\");"
   ]
  },
  {
   "cell_type": "code",
   "execution_count": 283,
   "metadata": {},
   "outputs": [
    {
     "data": {
      "text/html": [
       "<div>\n",
       "<style scoped>\n",
       "    .dataframe tbody tr th:only-of-type {\n",
       "        vertical-align: middle;\n",
       "    }\n",
       "\n",
       "    .dataframe tbody tr th {\n",
       "        vertical-align: top;\n",
       "    }\n",
       "\n",
       "    .dataframe thead th {\n",
       "        text-align: right;\n",
       "    }\n",
       "</style>\n",
       "<table border=\"1\" class=\"dataframe\">\n",
       "  <thead>\n",
       "    <tr style=\"text-align: right;\">\n",
       "      <th></th>\n",
       "      <th>precision</th>\n",
       "      <th>recall</th>\n",
       "      <th>f1-score</th>\n",
       "      <th>support</th>\n",
       "    </tr>\n",
       "  </thead>\n",
       "  <tbody>\n",
       "    <tr>\n",
       "      <th>0</th>\n",
       "      <td>0.990645</td>\n",
       "      <td>0.755889</td>\n",
       "      <td>0.857490</td>\n",
       "      <td>1401.000000</td>\n",
       "    </tr>\n",
       "    <tr>\n",
       "      <th>1</th>\n",
       "      <td>0.131980</td>\n",
       "      <td>0.838710</td>\n",
       "      <td>0.228070</td>\n",
       "      <td>62.000000</td>\n",
       "    </tr>\n",
       "    <tr>\n",
       "      <th>accuracy</th>\n",
       "      <td>0.759398</td>\n",
       "      <td>0.759398</td>\n",
       "      <td>0.759398</td>\n",
       "      <td>0.759398</td>\n",
       "    </tr>\n",
       "    <tr>\n",
       "      <th>macro avg</th>\n",
       "      <td>0.561313</td>\n",
       "      <td>0.797299</td>\n",
       "      <td>0.542780</td>\n",
       "      <td>1463.000000</td>\n",
       "    </tr>\n",
       "    <tr>\n",
       "      <th>weighted avg</th>\n",
       "      <td>0.954256</td>\n",
       "      <td>0.759398</td>\n",
       "      <td>0.830816</td>\n",
       "      <td>1463.000000</td>\n",
       "    </tr>\n",
       "  </tbody>\n",
       "</table>\n",
       "</div>"
      ],
      "text/plain": [
       "              precision    recall  f1-score      support\n",
       "0              0.990645  0.755889  0.857490  1401.000000\n",
       "1              0.131980  0.838710  0.228070    62.000000\n",
       "accuracy       0.759398  0.759398  0.759398     0.759398\n",
       "macro avg      0.561313  0.797299  0.542780  1463.000000\n",
       "weighted avg   0.954256  0.759398  0.830816  1463.000000"
      ]
     },
     "execution_count": 283,
     "metadata": {},
     "output_type": "execute_result"
    }
   ],
   "source": [
    "pd.DataFrame(classification_report(y_test, y_pred, output_dict=True)).T\n"
   ]
  },
  {
   "cell_type": "markdown",
   "metadata": {},
   "source": [
    "**I am choosing XGBoost as a classifier that gives me possible best results for the classification.**"
   ]
  },
  {
   "cell_type": "markdown",
   "metadata": {},
   "source": [
    "I am checking if performing XGBoost on features with highest feature importance might help with better predictions."
   ]
  },
  {
   "cell_type": "code",
   "execution_count": 284,
   "metadata": {},
   "outputs": [
    {
     "data": {
      "text/html": [
       "<div>\n",
       "<style scoped>\n",
       "    .dataframe tbody tr th:only-of-type {\n",
       "        vertical-align: middle;\n",
       "    }\n",
       "\n",
       "    .dataframe tbody tr th {\n",
       "        vertical-align: top;\n",
       "    }\n",
       "\n",
       "    .dataframe thead th {\n",
       "        text-align: right;\n",
       "    }\n",
       "</style>\n",
       "<table border=\"1\" class=\"dataframe\">\n",
       "  <thead>\n",
       "    <tr style=\"text-align: right;\">\n",
       "      <th></th>\n",
       "      <th>gender</th>\n",
       "      <th>hypertension</th>\n",
       "      <th>heart_disease</th>\n",
       "      <th>ever_married</th>\n",
       "      <th>work_type</th>\n",
       "      <th>residence_type</th>\n",
       "      <th>smoking_status</th>\n",
       "      <th>age_cat</th>\n",
       "      <th>bmi_cat</th>\n",
       "      <th>avg_glucose_level_cat</th>\n",
       "      <th>stroke</th>\n",
       "    </tr>\n",
       "    <tr>\n",
       "      <th>id</th>\n",
       "      <th></th>\n",
       "      <th></th>\n",
       "      <th></th>\n",
       "      <th></th>\n",
       "      <th></th>\n",
       "      <th></th>\n",
       "      <th></th>\n",
       "      <th></th>\n",
       "      <th></th>\n",
       "      <th></th>\n",
       "      <th></th>\n",
       "    </tr>\n",
       "  </thead>\n",
       "  <tbody>\n",
       "    <tr>\n",
       "      <th>9046</th>\n",
       "      <td>Male</td>\n",
       "      <td>No</td>\n",
       "      <td>Yes</td>\n",
       "      <td>Yes</td>\n",
       "      <td>Private</td>\n",
       "      <td>Urban</td>\n",
       "      <td>formerly smoked</td>\n",
       "      <td>elderly_people</td>\n",
       "      <td>extremely_obese</td>\n",
       "      <td>diabetes</td>\n",
       "      <td>Yes</td>\n",
       "    </tr>\n",
       "    <tr>\n",
       "      <th>31112</th>\n",
       "      <td>Male</td>\n",
       "      <td>No</td>\n",
       "      <td>Yes</td>\n",
       "      <td>Yes</td>\n",
       "      <td>Private</td>\n",
       "      <td>Rural</td>\n",
       "      <td>never smoked</td>\n",
       "      <td>elderly_people</td>\n",
       "      <td>obese</td>\n",
       "      <td>prediabetes</td>\n",
       "      <td>Yes</td>\n",
       "    </tr>\n",
       "    <tr>\n",
       "      <th>60182</th>\n",
       "      <td>Female</td>\n",
       "      <td>No</td>\n",
       "      <td>No</td>\n",
       "      <td>Yes</td>\n",
       "      <td>Private</td>\n",
       "      <td>Urban</td>\n",
       "      <td>smokes</td>\n",
       "      <td>mature_adults</td>\n",
       "      <td>obese</td>\n",
       "      <td>diabetes</td>\n",
       "      <td>Yes</td>\n",
       "    </tr>\n",
       "    <tr>\n",
       "      <th>1665</th>\n",
       "      <td>Female</td>\n",
       "      <td>Yes</td>\n",
       "      <td>No</td>\n",
       "      <td>Yes</td>\n",
       "      <td>Self-employed</td>\n",
       "      <td>Rural</td>\n",
       "      <td>never smoked</td>\n",
       "      <td>elderly_people</td>\n",
       "      <td>normal</td>\n",
       "      <td>diabetes</td>\n",
       "      <td>Yes</td>\n",
       "    </tr>\n",
       "    <tr>\n",
       "      <th>56669</th>\n",
       "      <td>Male</td>\n",
       "      <td>No</td>\n",
       "      <td>No</td>\n",
       "      <td>Yes</td>\n",
       "      <td>Private</td>\n",
       "      <td>Urban</td>\n",
       "      <td>formerly smoked</td>\n",
       "      <td>elderly_people</td>\n",
       "      <td>overweight</td>\n",
       "      <td>diabetes</td>\n",
       "      <td>Yes</td>\n",
       "    </tr>\n",
       "  </tbody>\n",
       "</table>\n",
       "</div>"
      ],
      "text/plain": [
       "       gender hypertension heart_disease ever_married      work_type  \\\n",
       "id                                                                     \n",
       "9046     Male           No           Yes          Yes        Private   \n",
       "31112    Male           No           Yes          Yes        Private   \n",
       "60182  Female           No            No          Yes        Private   \n",
       "1665   Female          Yes            No          Yes  Self-employed   \n",
       "56669    Male           No            No          Yes        Private   \n",
       "\n",
       "      residence_type   smoking_status         age_cat          bmi_cat  \\\n",
       "id                                                                       \n",
       "9046           Urban  formerly smoked  elderly_people  extremely_obese   \n",
       "31112          Rural     never smoked  elderly_people            obese   \n",
       "60182          Urban           smokes   mature_adults            obese   \n",
       "1665           Rural     never smoked  elderly_people           normal   \n",
       "56669          Urban  formerly smoked  elderly_people       overweight   \n",
       "\n",
       "      avg_glucose_level_cat stroke  \n",
       "id                                  \n",
       "9046               diabetes    Yes  \n",
       "31112           prediabetes    Yes  \n",
       "60182              diabetes    Yes  \n",
       "1665               diabetes    Yes  \n",
       "56669              diabetes    Yes  "
      ]
     },
     "execution_count": 284,
     "metadata": {},
     "output_type": "execute_result"
    }
   ],
   "source": [
    "categorical_data.head()\n"
   ]
  },
  {
   "cell_type": "code",
   "execution_count": 285,
   "metadata": {},
   "outputs": [
    {
     "data": {
      "image/png": "[encoded data removed]",
      "text/plain": [
       "<Figure size 432x288 with 2 Axes>"
      ]
     },
     "metadata": {
      "needs_background": "light"
     },
     "output_type": "display_data"
    }
   ],
   "source": [
    "X = categorical_data[\n",
    "    [\n",
    "        \"gender\",\n",
    "        \"hypertension\",\n",
    "        \"heart_disease\",\n",
    "        \"ever_married\",\n",
    "        \"age_cat\",\n",
    "        \"bmi_cat\",\n",
    "        \"avg_glucose_level_cat\",\n",
    "    ]\n",
    "]\n",
    "y = categorical_data[\"stroke\"].replace({\"Yes\": 1, \"No\": 0})\n",
    "\n",
    "X_train, X_test, y_train, y_test = train_test_split(\n",
    "    X, y, test_size=0.3, random_state=0, stratify=y\n",
    ")\n",
    "\n",
    "encoder = OneHotEncoder()\n",
    "X_train = encoder.fit_transform(X_train)\n",
    "X_test = encoder.transform(X_test)\n",
    "\n",
    "\n",
    "model = xg.XGBClassifier(\n",
    "    subsample=0.5,\n",
    "    n_estimators=100,\n",
    "    max_depth=3,\n",
    "    learning_rate=0.01,\n",
    "    colsample_bytree=0.7,\n",
    "    colsample_bylevel=0.6,\n",
    "    scale_pos_weight=20,\n",
    ")\n",
    "model.fit(X_train, y_train)\n",
    "y_pred = model.predict(X_test)\n",
    "sns.heatmap(confusion_matrix(y_test, y_pred), annot=True, fmt=\"2.0f\");"
   ]
  },
  {
   "cell_type": "code",
   "execution_count": 286,
   "metadata": {},
   "outputs": [
    {
     "data": {
      "text/html": [
       "<div>\n",
       "<style scoped>\n",
       "    .dataframe tbody tr th:only-of-type {\n",
       "        vertical-align: middle;\n",
       "    }\n",
       "\n",
       "    .dataframe tbody tr th {\n",
       "        vertical-align: top;\n",
       "    }\n",
       "\n",
       "    .dataframe thead th {\n",
       "        text-align: right;\n",
       "    }\n",
       "</style>\n",
       "<table border=\"1\" class=\"dataframe\">\n",
       "  <thead>\n",
       "    <tr style=\"text-align: right;\">\n",
       "      <th></th>\n",
       "      <th>precision</th>\n",
       "      <th>recall</th>\n",
       "      <th>f1-score</th>\n",
       "      <th>support</th>\n",
       "    </tr>\n",
       "  </thead>\n",
       "  <tbody>\n",
       "    <tr>\n",
       "      <th>0</th>\n",
       "      <td>0.993724</td>\n",
       "      <td>0.678087</td>\n",
       "      <td>0.806109</td>\n",
       "      <td>1401.000000</td>\n",
       "    </tr>\n",
       "    <tr>\n",
       "      <th>1</th>\n",
       "      <td>0.110454</td>\n",
       "      <td>0.903226</td>\n",
       "      <td>0.196837</td>\n",
       "      <td>62.000000</td>\n",
       "    </tr>\n",
       "    <tr>\n",
       "      <th>accuracy</th>\n",
       "      <td>0.687628</td>\n",
       "      <td>0.687628</td>\n",
       "      <td>0.687628</td>\n",
       "      <td>0.687628</td>\n",
       "    </tr>\n",
       "    <tr>\n",
       "      <th>macro avg</th>\n",
       "      <td>0.552089</td>\n",
       "      <td>0.790656</td>\n",
       "      <td>0.501473</td>\n",
       "      <td>1463.000000</td>\n",
       "    </tr>\n",
       "    <tr>\n",
       "      <th>weighted avg</th>\n",
       "      <td>0.956292</td>\n",
       "      <td>0.687628</td>\n",
       "      <td>0.780289</td>\n",
       "      <td>1463.000000</td>\n",
       "    </tr>\n",
       "  </tbody>\n",
       "</table>\n",
       "</div>"
      ],
      "text/plain": [
       "              precision    recall  f1-score      support\n",
       "0              0.993724  0.678087  0.806109  1401.000000\n",
       "1              0.110454  0.903226  0.196837    62.000000\n",
       "accuracy       0.687628  0.687628  0.687628     0.687628\n",
       "macro avg      0.552089  0.790656  0.501473  1463.000000\n",
       "weighted avg   0.956292  0.687628  0.780289  1463.000000"
      ]
     },
     "execution_count": 286,
     "metadata": {},
     "output_type": "execute_result"
    }
   ],
   "source": [
    "pd.DataFrame(classification_report(y_test, y_pred, output_dict=True)).T\n"
   ]
  },
  {
   "cell_type": "markdown",
   "metadata": {},
   "source": [
    "----"
   ]
  },
  {
   "cell_type": "markdown",
   "metadata": {},
   "source": [
    "**Final model for STROKE prediction - summary.**\n",
    "\n",
    "Best performing model: **XGBoost**\n",
    "\n",
    "Paremetrs: \n",
    "\n",
    "- subsample = 0.5, \n",
    "- n_estimators = 100, \n",
    "- max_depth = 3, \n",
    "- learning_rate = 0.01, \n",
    "- colsample_bytree = 0.7, \n",
    "- colsample_bylevel= 0.6, \n",
    "- scale_pos_weight = 20\n",
    "\n",
    "Results: \n",
    "\n",
    "- For positive class: Precision 14,13%, Recall 85,48%\n",
    "- For negative class: Precision 99,17%, Recall 77,02%\n",
    "- Accuracy: 77,38%.\n",
    "\n",
    "Most important features:\n",
    "\n",
    "- age\n",
    "- avg_glucose_level,\n",
    "- ever_married: no\n",
    "- smoking_status: unknown\n",
    "- hypertension\n",
    "- heart_disease."
   ]
  },
  {
   "cell_type": "markdown",
   "metadata": {},
   "source": [
    "### CONCLUSIONS AND BUSINESS CONSIDERATIONS.\n",
    "\n",
    "Stroke dataset is an example of imbalanced dataset, with superiority of negative class (ratio: 22.442). \n",
    "\n",
    "My goal was to have possible best results with a positive class - highest possible recall, keeping precision at satisfactory level, and also minimizing missclassification of negative class. \n",
    "\n",
    "What does it mean in practice?\n",
    "\n",
    "From ethical perspective, we want to be sure that we will not classify person as not sick while is sick. It would mean, that not performing medical consultation and care for that person, we could lead to that person sooner death (person would obtain no treatement, etc). So we either want to classify correctly person that is sick to provide best medical care and also avoid situation desribed above.\n",
    "\n",
    "From business perspective we would also like to minimize the number of patients staying at hospital (higher patients ratio and lower cost) and also we want to minimize the number of medical tests to lower the cost. \n",
    "\n",
    "Model that I described as the best one, had the best ratio between errors of type I and type II.\n",
    "\n",
    "I could not find a model that would lower the amount of false negatives, so I could only tune parameters of models that would keep that amount on the same level while minimizing the amount of false positives. \n",
    "\n",
    "For example, for Logistic Regression that ratio was: 9/343 = 0,026 while for the model I described as the best it was: 9/322 = 0,028."
   ]
  },
  {
   "cell_type": "markdown",
   "metadata": {},
   "source": [
    "----\n",
    "----"
   ]
  }
 ],
 "metadata": {
  "kernelspec": {
   "display_name": "Python 3.10.0 64-bit",
   "language": "python",
   "name": "python3"
  },
  "language_info": {
   "codemirror_mode": {
    "name": "ipython",
    "version": 3
   },
   "file_extension": ".py",
   "mimetype": "text/x-python",
   "name": "python",
   "nbconvert_exporter": "python",
   "pygments_lexer": "ipython3",
   "version": "3.10.0"
  },
  "orig_nbformat": 4,
  "vscode": {
   "interpreter": {
    "hash": "67340903c3b5b7986344127da769f7e985280e19276b81a902f7fabfd74d22dd"
   }
  }
 },
 "nbformat": 4,
 "nbformat_minor": 2
}
